{
 "cells": [
  {
   "cell_type": "markdown",
   "metadata": {},
   "source": [
    "<a id='top'></a>\n",
    "## Can Amazon Reviews Help Businesses Learn their Best Customers? \n",
    "\n",
    "#### Contributors: Muoyo Okome\n",
    "\n",
    "<p><img src='https://github.com/muoyo/amazon-reviews/blob/master/images/wordcloud.png?raw=true' align='left'>"
   ]
  },
  {
   "cell_type": "markdown",
   "metadata": {},
   "source": [
    "<a id='toc'></a>\n",
    "### Table of Contents\n",
    "1. [Problem Statement](#problemstatement)\n",
    "2. [Data Sources](#datasources)\n",
    "3. [Data Cleaning](#datacleaning)\n",
    "4. [Classification Analysis](#classification)  \n",
    "    - [Logistic Regression](#logisticregression)\n",
    "    - [K Nearest Neighbors](#kneighbors)\n",
    "    - [Decision Trees](#decisiontrees)\n",
    "    - [Bagged Trees](#baggedtrees)\n",
    "    - [Random Forest](#randomforest)\n",
    "    - [Adaboost](#adaboost)\n",
    "    - [Gradient Boost](#gradientboost)\n",
    "    - [Improved Results through Count Vectorization](#countvectorization)\n",
    "5. [Vizualizations](#visualizations)\n",
    "6. [Recommendations & Next Steps](#recommendations)"
   ]
  },
  {
   "cell_type": "code",
   "execution_count": 2,
   "metadata": {},
   "outputs": [],
   "source": [
    "# Import necessary libraries\n",
    "import warnings\n",
    "import pandas as pd\n",
    "from imblearn.over_sampling import SMOTE\n",
    "from sklearn.naive_bayes import GaussianNB\n",
    "from sklearn.tree import DecisionTreeClassifier \n",
    "from sklearn.neighbors import KNeighborsClassifier\n",
    "from sklearn.linear_model import LogisticRegression\n",
    "from sklearn.metrics import classification_report\n",
    "# from imblearn.under_sampling import ClusterCentroids\n",
    "from sklearn.ensemble import BaggingClassifier, RandomForestClassifier, AdaBoostClassifier, GradientBoostingClassifier\n",
    "warnings.filterwarnings('ignore')\n",
    "%matplotlib inline"
   ]
  },
  {
   "cell_type": "markdown",
   "metadata": {},
   "source": [
    "<a id='problemstatement'></a>\n",
    "### Problem Statement"
   ]
  },
  {
   "cell_type": "markdown",
   "metadata": {},
   "source": [
    "**Can Amazon Reviews Help Businesses Learn their Best Customers?**\n",
    "\n",
    "The key question we look to answer is whether knowing the text of an Amazon Customer Review can help us predict the star rating of that review.\n",
    "\n",
    "Our goal is to eventually improve our process to a level where it can be deployed on customer conversations anywhere to help businesses identify customers most likely to love or hate their products based on the things they are saying.\n",
    "\n",
    "[Back to Top ↑](#top)"
   ]
  },
  {
   "cell_type": "markdown",
   "metadata": {},
   "source": [
    "<a id='datasources'></a>\n",
    "### Data Sources"
   ]
  },
  {
   "cell_type": "markdown",
   "metadata": {},
   "source": [
    "#### **[AWS Open Data: Amazon Customer Reviews Dataset](https://registry.opendata.aws/amazon:reviews/)**\n",
    "\n",
    "- Amazon Customer Reviews (a.k.a. Product Reviews) is one of Amazon’s iconic products. In a period of over two decades since the first review in 1995, millions of Amazon customers have contributed over a hundred million reviews to express opinions and describe their experiences regarding products on the Amazon.com website. Over 130+ million customer reviews are available to researchers as part of this dataset.\n",
    "\n",
    "- A collection of reviews written in the Amazon.com marketplace and associated metadata from 1995 until 2015. This is intended to facilitate study into the properties (and the evolution) of customer reviews potentially including how people evaluate and express their experiences with respect to products at scale. (130M+ customer reviews) "
   ]
  },
  {
   "cell_type": "markdown",
   "metadata": {},
   "source": [
    "<br> \n",
    "\n",
    "[Back to Top ↑](#top)"
   ]
  },
  {
   "cell_type": "code",
   "execution_count": 112,
   "metadata": {},
   "outputs": [],
   "source": [
    "# Import python files we've created to help\n",
    "%run ../python_files/nlp\n",
    "%run ../python_files/data_cleaning\n",
    "%run ../python_files/classification\n",
    "%run ../python_files/visualizations"
   ]
  },
  {
   "cell_type": "code",
   "execution_count": 99,
   "metadata": {},
   "outputs": [],
   "source": [
    "# Read in original data\n",
    "df_full = pd.read_csv('https://s3.amazonaws.com/amazon-reviews-pds/tsv/amazon_reviews_us_Watches_v1_00.tsv.gz', sep='\\t', error_bad_lines=False, warn_bad_lines=False)"
   ]
  },
  {
   "cell_type": "code",
   "execution_count": null,
   "metadata": {},
   "outputs": [
    {
     "name": "stderr",
     "output_type": "stream",
     "text": [
      "b'Skipping line 51163: expected 15 fields, saw 22\\n'\n",
      "b'Skipping line 77018: expected 15 fields, saw 22\\nSkipping line 97528: expected 15 fields, saw 22\\n'\n",
      "b'Skipping line 145503: expected 15 fields, saw 22\\nSkipping line 172172: expected 15 fields, saw 22\\nSkipping line 185136: expected 15 fields, saw 22\\nSkipping line 187592: expected 15 fields, saw 22\\n'\n",
      "b'Skipping line 222158: expected 15 fields, saw 22\\nSkipping line 232048: expected 15 fields, saw 22\\nSkipping line 232320: expected 15 fields, saw 22\\nSkipping line 234653: expected 15 fields, saw 22\\nSkipping line 257210: expected 15 fields, saw 22\\nSkipping line 261368: expected 15 fields, saw 22\\n'\n",
      "b'Skipping line 262843: expected 15 fields, saw 22\\nSkipping line 274082: expected 15 fields, saw 22\\nSkipping line 276172: expected 15 fields, saw 22\\nSkipping line 327076: expected 15 fields, saw 22\\n'\n",
      "b'Skipping line 328675: expected 15 fields, saw 22\\nSkipping line 366744: expected 15 fields, saw 22\\nSkipping line 380897: expected 15 fields, saw 22\\nSkipping line 385372: expected 15 fields, saw 22\\nSkipping line 386090: expected 15 fields, saw 22\\nSkipping line 390349: expected 15 fields, saw 22\\n'\n",
      "b'Skipping line 415621: expected 15 fields, saw 22\\nSkipping line 418639: expected 15 fields, saw 22\\nSkipping line 428228: expected 15 fields, saw 22\\nSkipping line 430263: expected 15 fields, saw 22\\nSkipping line 441782: expected 15 fields, saw 22\\n'\n",
      "b'Skipping line 468743: expected 15 fields, saw 22\\n'\n",
      "b'Skipping line 528339: expected 15 fields, saw 22\\nSkipping line 562081: expected 15 fields, saw 22\\nSkipping line 567006: expected 15 fields, saw 22\\nSkipping line 569246: expected 15 fields, saw 22\\nSkipping line 574405: expected 15 fields, saw 22\\n'\n",
      "b'Skipping line 603332: expected 15 fields, saw 22\\nSkipping line 636067: expected 15 fields, saw 22\\n'\n",
      "b'Skipping line 660230: expected 15 fields, saw 22\\nSkipping line 660828: expected 15 fields, saw 22\\nSkipping line 678625: expected 15 fields, saw 22\\n'\n",
      "b'Skipping line 756367: expected 15 fields, saw 22\\nSkipping line 760714: expected 15 fields, saw 22\\nSkipping line 786243: expected 15 fields, saw 22\\n'\n",
      "b'Skipping line 798324: expected 15 fields, saw 22\\nSkipping line 821088: expected 15 fields, saw 22\\nSkipping line 825319: expected 15 fields, saw 22\\n'\n",
      "b'Skipping line 852507: expected 15 fields, saw 22\\nSkipping line 866712: expected 15 fields, saw 22\\nSkipping line 869545: expected 15 fields, saw 22\\n'\n",
      "b'Skipping line 925491: expected 15 fields, saw 22\\nSkipping line 938153: expected 15 fields, saw 22\\nSkipping line 950901: expected 15 fields, saw 22\\nSkipping line 959387: expected 15 fields, saw 22\\nSkipping line 960759: expected 15 fields, saw 22\\n'\n",
      "b'Skipping line 1011924: expected 15 fields, saw 22\\nSkipping line 1029952: expected 15 fields, saw 22\\n'\n",
      "b'Skipping line 1052281: expected 15 fields, saw 22\\nSkipping line 1101791: expected 15 fields, saw 22\\nSkipping line 1111307: expected 15 fields, saw 22\\n'\n",
      "b'Skipping line 1154652: expected 15 fields, saw 22\\nSkipping line 1160926: expected 15 fields, saw 22\\n'\n",
      "b'Skipping line 1231416: expected 15 fields, saw 22\\n'\n",
      "b'Skipping line 1260501: expected 15 fields, saw 22\\nSkipping line 1277534: expected 15 fields, saw 22\\nSkipping line 1296369: expected 15 fields, saw 22\\nSkipping line 1307597: expected 15 fields, saw 22\\n'\n",
      "b'Skipping line 1325090: expected 15 fields, saw 22\\nSkipping line 1334579: expected 15 fields, saw 22\\nSkipping line 1334605: expected 15 fields, saw 22\\n'\n",
      "b'Skipping line 1376783: expected 15 fields, saw 22\\nSkipping line 1433258: expected 15 fields, saw 22\\nSkipping line 1434269: expected 15 fields, saw 22\\nSkipping line 1437609: expected 15 fields, saw 22\\nSkipping line 1439772: expected 15 fields, saw 22\\nSkipping line 1439787: expected 15 fields, saw 22\\n'\n",
      "b'Skipping line 1453075: expected 15 fields, saw 22\\nSkipping line 1459700: expected 15 fields, saw 22\\nSkipping line 1464111: expected 15 fields, saw 22\\nSkipping line 1488577: expected 15 fields, saw 22\\n'\n",
      "b'Skipping line 1557764: expected 15 fields, saw 22\\n'\n",
      "b'Skipping line 1578716: expected 15 fields, saw 22\\nSkipping line 1631571: expected 15 fields, saw 22\\n'\n",
      "b'Skipping line 1650716: expected 15 fields, saw 22\\nSkipping line 1652945: expected 15 fields, saw 22\\nSkipping line 1685704: expected 15 fields, saw 22\\nSkipping line 1694353: expected 15 fields, saw 22\\n'\n",
      "b'Skipping line 1730142: expected 15 fields, saw 22\\nSkipping line 1750283: expected 15 fields, saw 22\\nSkipping line 1755827: expected 15 fields, saw 22\\n'\n",
      "b'Skipping line 1771363: expected 15 fields, saw 22\\nSkipping line 1778652: expected 15 fields, saw 22\\nSkipping line 1786040: expected 15 fields, saw 22\\nSkipping line 1811130: expected 15 fields, saw 22\\n'\n",
      "b'Skipping line 1851243: expected 15 fields, saw 22\\nSkipping line 1859576: expected 15 fields, saw 22\\nSkipping line 1873227: expected 15 fields, saw 22\\nSkipping line 1875708: expected 15 fields, saw 22\\nSkipping line 1875744: expected 15 fields, saw 22\\nSkipping line 1876464: expected 15 fields, saw 22\\n'\n",
      "b'Skipping line 1911896: expected 15 fields, saw 22\\nSkipping line 1927903: expected 15 fields, saw 22\\nSkipping line 1956728: expected 15 fields, saw 22\\nSkipping line 1961194: expected 15 fields, saw 22\\nSkipping line 1964795: expected 15 fields, saw 22\\n'\n",
      "b'Skipping line 1972104: expected 15 fields, saw 22\\nSkipping line 1984043: expected 15 fields, saw 22\\nSkipping line 2014391: expected 15 fields, saw 22\\nSkipping line 2028519: expected 15 fields, saw 22\\nSkipping line 2031468: expected 15 fields, saw 22\\n'\n",
      "b'Skipping line 2043552: expected 15 fields, saw 22\\nSkipping line 2055083: expected 15 fields, saw 22\\nSkipping line 2057381: expected 15 fields, saw 22\\nSkipping line 2059594: expected 15 fields, saw 22\\nSkipping line 2062807: expected 15 fields, saw 22\\nSkipping line 2074663: expected 15 fields, saw 22\\nSkipping line 2091271: expected 15 fields, saw 22\\n'\n",
      "b'Skipping line 2141672: expected 15 fields, saw 22\\nSkipping line 2155845: expected 15 fields, saw 22\\n'\n",
      "b'Skipping line 2203178: expected 15 fields, saw 22\\nSkipping line 2213973: expected 15 fields, saw 22\\nSkipping line 2226402: expected 15 fields, saw 22\\n'\n",
      "b'Skipping line 2228466: expected 15 fields, saw 22\\nSkipping line 2240607: expected 15 fields, saw 22\\n'\n",
      "b'Skipping line 2375154: expected 15 fields, saw 22\\nSkipping line 2392796: expected 15 fields, saw 22\\nSkipping line 2418255: expected 15 fields, saw 22\\nSkipping line 2420805: expected 15 fields, saw 22\\nSkipping line 2422512: expected 15 fields, saw 22\\n'\n",
      "b'Skipping line 2456502: expected 15 fields, saw 22\\nSkipping line 2461503: expected 15 fields, saw 22\\n'\n",
      "b'Skipping line 2502272: expected 15 fields, saw 22\\nSkipping line 2508333: expected 15 fields, saw 22\\nSkipping line 2516880: expected 15 fields, saw 22\\nSkipping line 2527783: expected 15 fields, saw 22\\nSkipping line 2554258: expected 15 fields, saw 22\\n'\n",
      "b'Skipping line 2559624: expected 15 fields, saw 22\\nSkipping line 2615834: expected 15 fields, saw 22\\n'\n",
      "b'Skipping line 2649950: expected 15 fields, saw 22\\nSkipping line 2655521: expected 15 fields, saw 22\\nSkipping line 2662038: expected 15 fields, saw 22\\n'\n",
      "b'Skipping line 2704137: expected 15 fields, saw 22\\nSkipping line 2747242: expected 15 fields, saw 22\\nSkipping line 2749072: expected 15 fields, saw 22\\n'\n",
      "b'Skipping line 2769812: expected 15 fields, saw 22\\nSkipping line 2806620: expected 15 fields, saw 22\\n'\n",
      "b'Skipping line 2868142: expected 15 fields, saw 22\\n'\n",
      "b'Skipping line 2928728: expected 15 fields, saw 22\\n'\n",
      "b'Skipping line 3060440: expected 15 fields, saw 22\\nSkipping line 3074844: expected 15 fields, saw 22\\nSkipping line 3078673: expected 15 fields, saw 22\\n'\n",
      "b'Skipping line 3086850: expected 15 fields, saw 22\\nSkipping line 3097846: expected 15 fields, saw 22\\nSkipping line 3108353: expected 15 fields, saw 22\\nSkipping line 3108833: expected 15 fields, saw 22\\nSkipping line 3141546: expected 15 fields, saw 22\\nSkipping line 3141841: expected 15 fields, saw 22\\n'\n",
      "b'Skipping line 3177323: expected 15 fields, saw 22\\n'\n",
      "b'Skipping line 3301495: expected 15 fields, saw 22\\nSkipping line 3303685: expected 15 fields, saw 22\\nSkipping line 3307866: expected 15 fields, saw 22\\nSkipping line 3331179: expected 15 fields, saw 22\\n'\n",
      "b'Skipping line 3350797: expected 15 fields, saw 22\\nSkipping line 3353129: expected 15 fields, saw 22\\nSkipping line 3359991: expected 15 fields, saw 22\\nSkipping line 3374754: expected 15 fields, saw 22\\nSkipping line 3384256: expected 15 fields, saw 22\\n'\n",
      "b'Skipping line 3466921: expected 15 fields, saw 22\\n'\n",
      "b'Skipping line 3489262: expected 15 fields, saw 22\\nSkipping line 3495576: expected 15 fields, saw 22\\nSkipping line 3523962: expected 15 fields, saw 22\\nSkipping line 3529611: expected 15 fields, saw 22\\nSkipping line 3531020: expected 15 fields, saw 22\\nSkipping line 3536942: expected 15 fields, saw 22\\n'\n",
      "b'Skipping line 3541414: expected 15 fields, saw 22\\nSkipping line 3552928: expected 15 fields, saw 22\\nSkipping line 3586921: expected 15 fields, saw 22\\nSkipping line 3599085: expected 15 fields, saw 22\\n'\n",
      "b'Skipping line 3613803: expected 15 fields, saw 22\\nSkipping line 3615552: expected 15 fields, saw 22\\nSkipping line 3617751: expected 15 fields, saw 22\\nSkipping line 3640481: expected 15 fields, saw 22\\nSkipping line 3665208: expected 15 fields, saw 22\\n'\n",
      "b'Skipping line 3675914: expected 15 fields, saw 22\\n'\n",
      "b'Skipping line 3738934: expected 15 fields, saw 22\\nSkipping line 3744765: expected 15 fields, saw 22\\nSkipping line 3770180: expected 15 fields, saw 22\\nSkipping line 3777748: expected 15 fields, saw 22\\nSkipping line 3780701: expected 15 fields, saw 22\\n'\n",
      "b'Skipping line 3837914: expected 15 fields, saw 22\\nSkipping line 3858205: expected 15 fields, saw 22\\n'\n",
      "b'Skipping line 3917010: expected 15 fields, saw 22\\nSkipping line 3928876: expected 15 fields, saw 22\\n'\n",
      "b'Skipping line 3953578: expected 15 fields, saw 22\\n'\n",
      "b'Skipping line 3998250: expected 15 fields, saw 22\\nSkipping line 4014291: expected 15 fields, saw 22\\n'\n",
      "b'Skipping line 4108511: expected 15 fields, saw 22\\n'\n",
      "b'Skipping line 4159047: expected 15 fields, saw 22\\nSkipping line 4159918: expected 15 fields, saw 22\\n'\n",
      "b'Skipping line 4278132: expected 15 fields, saw 22\\nSkipping line 4280362: expected 15 fields, saw 22\\nSkipping line 4319821: expected 15 fields, saw 22\\n'\n",
      "b'Skipping line 4346435: expected 15 fields, saw 22\\nSkipping line 4352265: expected 15 fields, saw 22\\nSkipping line 4363896: expected 15 fields, saw 22\\nSkipping line 4383897: expected 15 fields, saw 22\\nSkipping line 4385506: expected 15 fields, saw 22\\n'\n",
      "b'Skipping line 4482367: expected 15 fields, saw 22\\nSkipping line 4491605: expected 15 fields, saw 22\\nSkipping line 4520374: expected 15 fields, saw 22\\n'\n",
      "b'Skipping line 4540276: expected 15 fields, saw 22\\nSkipping line 4546846: expected 15 fields, saw 22\\nSkipping line 4572266: expected 15 fields, saw 22\\nSkipping line 4575956: expected 15 fields, saw 22\\n'\n",
      "b'Skipping line 4591310: expected 15 fields, saw 22\\n'\n",
      "b'Skipping line 4689145: expected 15 fields, saw 22\\nSkipping line 4702660: expected 15 fields, saw 22\\nSkipping line 4716887: expected 15 fields, saw 22\\n'\n",
      "b'Skipping line 4735482: expected 15 fields, saw 22\\nSkipping line 4781074: expected 15 fields, saw 22\\n'\n",
      "b'Skipping line 4804591: expected 15 fields, saw 22\\n'\n",
      "b'Skipping line 4990535: expected 15 fields, saw 22\\n'\n",
      "b'Skipping line 5415775: expected 15 fields, saw 22\\n'\n",
      "b'Skipping line 5506042: expected 15 fields, saw 22\\nSkipping line 5522317: expected 15 fields, saw 22\\n'\n",
      "b'Skipping line 5625291: expected 15 fields, saw 22\\n'\n",
      "b'Skipping line 5860345: expected 15 fields, saw 22\\n'\n",
      "b'Skipping line 5939648: expected 15 fields, saw 22\\n'\n",
      "b'Skipping line 6027713: expected 15 fields, saw 22\\n'\n",
      "b'Skipping line 6146975: expected 15 fields, saw 22\\n'\n",
      "b'Skipping line 6388986: expected 15 fields, saw 22\\n'\n",
      "b'Skipping line 7073026: expected 15 fields, saw 22\\n'\n",
      "b'Skipping line 7311194: expected 15 fields, saw 22\\n'\n",
      "b'Skipping line 7952497: expected 15 fields, saw 22\\n'\n",
      "b'Skipping line 8416412: expected 15 fields, saw 22\\n'\n"
     ]
    },
    {
     "name": "stdout",
     "output_type": "stream",
     "text": [
      "https://s3.amazonaws.com/amazon-reviews-pds/tsv/amazon_reviews_us_Wireless_v1_00.tsv.gz (8991589, 15)\n"
     ]
    },
    {
     "name": "stderr",
     "output_type": "stream",
     "text": [
      "b'Skipping line 8704: expected 15 fields, saw 22\\nSkipping line 16933: expected 15 fields, saw 22\\nSkipping line 23726: expected 15 fields, saw 22\\n'\n",
      "b'Skipping line 85637: expected 15 fields, saw 22\\n'\n",
      "b'Skipping line 132136: expected 15 fields, saw 22\\nSkipping line 158070: expected 15 fields, saw 22\\nSkipping line 166007: expected 15 fields, saw 22\\nSkipping line 171877: expected 15 fields, saw 22\\nSkipping line 177756: expected 15 fields, saw 22\\nSkipping line 181773: expected 15 fields, saw 22\\nSkipping line 191085: expected 15 fields, saw 22\\nSkipping line 196273: expected 15 fields, saw 22\\nSkipping line 196331: expected 15 fields, saw 22\\n'\n",
      "b'Skipping line 197000: expected 15 fields, saw 22\\nSkipping line 197011: expected 15 fields, saw 22\\nSkipping line 197432: expected 15 fields, saw 22\\nSkipping line 208016: expected 15 fields, saw 22\\nSkipping line 214110: expected 15 fields, saw 22\\nSkipping line 244328: expected 15 fields, saw 22\\nSkipping line 248519: expected 15 fields, saw 22\\nSkipping line 254936: expected 15 fields, saw 22\\n'\n",
      "b'Skipping line 272057: expected 15 fields, saw 22\\nSkipping line 293214: expected 15 fields, saw 22\\nSkipping line 310507: expected 15 fields, saw 22\\nSkipping line 312306: expected 15 fields, saw 22\\nSkipping line 316296: expected 15 fields, saw 22\\n'\n",
      "b'Skipping line 336028: expected 15 fields, saw 22\\nSkipping line 344885: expected 15 fields, saw 22\\nSkipping line 352551: expected 15 fields, saw 22\\n'\n",
      "b'Skipping line 408773: expected 15 fields, saw 22\\nSkipping line 434535: expected 15 fields, saw 22\\n'\n",
      "b'Skipping line 581593: expected 15 fields, saw 22\\n'\n",
      "b'Skipping line 652409: expected 15 fields, saw 22\\n'\n"
     ]
    },
    {
     "name": "stdout",
     "output_type": "stream",
     "text": [
      "https://s3.amazonaws.com/amazon-reviews-pds/tsv/amazon_reviews_us_Watches_v1_00.tsv.gz (960204, 15)\n"
     ]
    },
    {
     "name": "stderr",
     "output_type": "stream",
     "text": [
      "b'Skipping line 20630: expected 15 fields, saw 22\\nSkipping line 28172: expected 15 fields, saw 22\\nSkipping line 54791: expected 15 fields, saw 22\\n'\n",
      "b'Skipping line 75419: expected 15 fields, saw 22\\nSkipping line 104832: expected 15 fields, saw 22\\n'\n",
      "b'Skipping line 138464: expected 15 fields, saw 22\\nSkipping line 194849: expected 15 fields, saw 22\\n'\n",
      "b'Skipping line 201568: expected 15 fields, saw 22\\nSkipping line 242567: expected 15 fields, saw 22\\n'\n",
      "b'Skipping line 493585: expected 15 fields, saw 22\\nSkipping line 502478: expected 15 fields, saw 22\\n'\n",
      "b'Skipping line 660750: expected 15 fields, saw 22\\n'\n"
     ]
    },
    {
     "name": "stdout",
     "output_type": "stream",
     "text": [
      "https://s3.amazonaws.com/amazon-reviews-pds/tsv/amazon_reviews_us_Video_Games_v1_00.tsv.gz (1780268, 15)\n"
     ]
    },
    {
     "name": "stderr",
     "output_type": "stream",
     "text": [
      "b'Skipping line 1890: expected 15 fields, saw 22\\nSkipping line 6666: expected 15 fields, saw 22\\n'\n",
      "b'Skipping line 111408: expected 15 fields, saw 22\\n'\n",
      "b'Skipping line 170181: expected 15 fields, saw 22\\nSkipping line 170231: expected 15 fields, saw 22\\n'\n",
      "b'Skipping line 256196: expected 15 fields, saw 22\\n'\n",
      "b'Skipping line 295037: expected 15 fields, saw 22\\n'\n",
      "b'Skipping line 548974: expected 15 fields, saw 22\\nSkipping line 551265: expected 15 fields, saw 22\\nSkipping line 551973: expected 15 fields, saw 22\\n'\n",
      "b'Skipping line 619923: expected 15 fields, saw 22\\n'\n",
      "b'Skipping line 763610: expected 15 fields, saw 22\\n'\n",
      "b'Skipping line 798928: expected 15 fields, saw 22\\n'\n",
      "b'Skipping line 859446: expected 15 fields, saw 22\\n'\n",
      "b'Skipping line 972328: expected 15 fields, saw 22\\n'\n",
      "b'Skipping line 988275: expected 15 fields, saw 22\\n'\n",
      "b'Skipping line 1133741: expected 15 fields, saw 22\\n'\n",
      "b'Skipping line 1278960: expected 15 fields, saw 22\\n'\n",
      "b'Skipping line 1317934: expected 15 fields, saw 22\\n'\n",
      "b'Skipping line 1388188: expected 15 fields, saw 22\\nSkipping line 1420410: expected 15 fields, saw 22\\n'\n",
      "b'Skipping line 1497179: expected 15 fields, saw 22\\n'\n",
      "b'Skipping line 1821149: expected 15 fields, saw 22\\n'\n",
      "b'Skipping line 1897694: expected 15 fields, saw 22\\n'\n"
     ]
    },
    {
     "name": "stdout",
     "output_type": "stream",
     "text": [
      "https://s3.amazonaws.com/amazon-reviews-pds/tsv/amazon_reviews_us_Video_DVD_v1_00.tsv.gz (5049291, 15)\n"
     ]
    },
    {
     "name": "stderr",
     "output_type": "stream",
     "text": [
      "b'Skipping line 88: expected 15 fields, saw 22\\n'\n"
     ]
    },
    {
     "name": "stdout",
     "output_type": "stream",
     "text": [
      "https://s3.amazonaws.com/amazon-reviews-pds/tsv/amazon_reviews_us_Video_v1_00.tsv.gz (380551, 15)\n"
     ]
    },
    {
     "name": "stderr",
     "output_type": "stream",
     "text": [
      "b'Skipping line 7003: expected 15 fields, saw 22\\nSkipping line 22430: expected 15 fields, saw 22\\nSkipping line 25418: expected 15 fields, saw 22\\nSkipping line 43786: expected 15 fields, saw 22\\nSkipping line 46566: expected 15 fields, saw 22\\nSkipping line 63511: expected 15 fields, saw 22\\n'\n",
      "b'Skipping line 69097: expected 15 fields, saw 22\\nSkipping line 74615: expected 15 fields, saw 22\\nSkipping line 79354: expected 15 fields, saw 22\\nSkipping line 81566: expected 15 fields, saw 22\\nSkipping line 89464: expected 15 fields, saw 22\\nSkipping line 93104: expected 15 fields, saw 22\\nSkipping line 95570: expected 15 fields, saw 22\\nSkipping line 96587: expected 15 fields, saw 22\\nSkipping line 102117: expected 15 fields, saw 22\\nSkipping line 121288: expected 15 fields, saw 22\\n'\n",
      "b'Skipping line 144424: expected 15 fields, saw 22\\nSkipping line 168191: expected 15 fields, saw 22\\nSkipping line 173291: expected 15 fields, saw 22\\n'\n",
      "b'Skipping line 199932: expected 15 fields, saw 22\\nSkipping line 202971: expected 15 fields, saw 22\\nSkipping line 206713: expected 15 fields, saw 22\\nSkipping line 228901: expected 15 fields, saw 22\\nSkipping line 229289: expected 15 fields, saw 22\\nSkipping line 229778: expected 15 fields, saw 22\\nSkipping line 231106: expected 15 fields, saw 22\\nSkipping line 233609: expected 15 fields, saw 22\\nSkipping line 241885: expected 15 fields, saw 22\\nSkipping line 242348: expected 15 fields, saw 22\\nSkipping line 246044: expected 15 fields, saw 22\\nSkipping line 246150: expected 15 fields, saw 22\\nSkipping line 250508: expected 15 fields, saw 22\\n'\n",
      "b'Skipping line 279506: expected 15 fields, saw 22\\nSkipping line 288576: expected 15 fields, saw 22\\nSkipping line 293527: expected 15 fields, saw 22\\nSkipping line 300702: expected 15 fields, saw 22\\nSkipping line 307979: expected 15 fields, saw 22\\nSkipping line 309206: expected 15 fields, saw 22\\nSkipping line 310336: expected 15 fields, saw 22\\nSkipping line 316471: expected 15 fields, saw 22\\n'\n",
      "b'Skipping line 340816: expected 15 fields, saw 22\\nSkipping line 342234: expected 15 fields, saw 22\\nSkipping line 346379: expected 15 fields, saw 22\\nSkipping line 349984: expected 15 fields, saw 22\\nSkipping line 351690: expected 15 fields, saw 22\\nSkipping line 360942: expected 15 fields, saw 22\\nSkipping line 362715: expected 15 fields, saw 22\\nSkipping line 369512: expected 15 fields, saw 22\\nSkipping line 371810: expected 15 fields, saw 22\\nSkipping line 374712: expected 15 fields, saw 22\\nSkipping line 379984: expected 15 fields, saw 22\\nSkipping line 390414: expected 15 fields, saw 22\\n'\n",
      "b'Skipping line 399617: expected 15 fields, saw 22\\nSkipping line 405833: expected 15 fields, saw 22\\nSkipping line 412681: expected 15 fields, saw 22\\nSkipping line 415734: expected 15 fields, saw 22\\nSkipping line 425413: expected 15 fields, saw 22\\nSkipping line 427773: expected 15 fields, saw 22\\nSkipping line 433745: expected 15 fields, saw 22\\nSkipping line 437462: expected 15 fields, saw 22\\nSkipping line 444811: expected 15 fields, saw 22\\nSkipping line 444979: expected 15 fields, saw 22\\nSkipping line 450137: expected 15 fields, saw 22\\n'\n",
      "b'Skipping line 490165: expected 15 fields, saw 22\\nSkipping line 496538: expected 15 fields, saw 22\\nSkipping line 504099: expected 15 fields, saw 22\\nSkipping line 508102: expected 15 fields, saw 22\\nSkipping line 509728: expected 15 fields, saw 22\\nSkipping line 520013: expected 15 fields, saw 22\\n'\n",
      "b'Skipping line 538561: expected 15 fields, saw 22\\nSkipping line 545051: expected 15 fields, saw 22\\nSkipping line 546293: expected 15 fields, saw 22\\nSkipping line 547610: expected 15 fields, saw 22\\nSkipping line 549663: expected 15 fields, saw 22\\nSkipping line 559037: expected 15 fields, saw 22\\nSkipping line 559303: expected 15 fields, saw 22\\nSkipping line 565118: expected 15 fields, saw 22\\nSkipping line 570257: expected 15 fields, saw 22\\nSkipping line 573040: expected 15 fields, saw 22\\nSkipping line 582545: expected 15 fields, saw 22\\nSkipping line 583952: expected 15 fields, saw 22\\nSkipping line 588976: expected 15 fields, saw 22\\nSkipping line 589284: expected 15 fields, saw 22\\n'\n",
      "b'Skipping line 593980: expected 15 fields, saw 22\\nSkipping line 595062: expected 15 fields, saw 22\\nSkipping line 606837: expected 15 fields, saw 22\\nSkipping line 616648: expected 15 fields, saw 22\\nSkipping line 618436: expected 15 fields, saw 22\\nSkipping line 624715: expected 15 fields, saw 22\\nSkipping line 625073: expected 15 fields, saw 22\\nSkipping line 648448: expected 15 fields, saw 22\\n'\n",
      "b'Skipping line 676892: expected 15 fields, saw 22\\nSkipping line 686885: expected 15 fields, saw 22\\nSkipping line 694765: expected 15 fields, saw 22\\nSkipping line 700393: expected 15 fields, saw 22\\nSkipping line 709894: expected 15 fields, saw 22\\n'\n",
      "b'Skipping line 725310: expected 15 fields, saw 22\\nSkipping line 730769: expected 15 fields, saw 22\\nSkipping line 735588: expected 15 fields, saw 22\\nSkipping line 742420: expected 15 fields, saw 22\\nSkipping line 743134: expected 15 fields, saw 22\\nSkipping line 757034: expected 15 fields, saw 22\\nSkipping line 759353: expected 15 fields, saw 22\\nSkipping line 767553: expected 15 fields, saw 22\\nSkipping line 779355: expected 15 fields, saw 22\\nSkipping line 779522: expected 15 fields, saw 22\\n'\n",
      "b'Skipping line 787025: expected 15 fields, saw 22\\nSkipping line 810729: expected 15 fields, saw 22\\nSkipping line 811481: expected 15 fields, saw 22\\nSkipping line 826318: expected 15 fields, saw 22\\nSkipping line 829886: expected 15 fields, saw 22\\n'\n",
      "b'Skipping line 872298: expected 15 fields, saw 22\\nSkipping line 898743: expected 15 fields, saw 22\\nSkipping line 902543: expected 15 fields, saw 22\\nSkipping line 907639: expected 15 fields, saw 22\\nSkipping line 909931: expected 15 fields, saw 22\\n'\n",
      "b'Skipping line 922244: expected 15 fields, saw 22\\nSkipping line 929384: expected 15 fields, saw 22\\nSkipping line 941594: expected 15 fields, saw 22\\nSkipping line 945724: expected 15 fields, saw 22\\nSkipping line 948603: expected 15 fields, saw 22\\nSkipping line 949265: expected 15 fields, saw 22\\nSkipping line 953244: expected 15 fields, saw 22\\nSkipping line 954449: expected 15 fields, saw 22\\nSkipping line 974116: expected 15 fields, saw 22\\nSkipping line 979969: expected 15 fields, saw 22\\nSkipping line 982311: expected 15 fields, saw 22\\n'\n",
      "b'Skipping line 1005593: expected 15 fields, saw 22\\nSkipping line 1046671: expected 15 fields, saw 22\\nSkipping line 1048706: expected 15 fields, saw 22\\n'\n",
      "b'Skipping line 1048761: expected 15 fields, saw 22\\nSkipping line 1055995: expected 15 fields, saw 22\\nSkipping line 1061387: expected 15 fields, saw 22\\nSkipping line 1063803: expected 15 fields, saw 22\\n'\n",
      "b'Skipping line 1122947: expected 15 fields, saw 22\\nSkipping line 1125224: expected 15 fields, saw 22\\nSkipping line 1143957: expected 15 fields, saw 22\\nSkipping line 1146047: expected 15 fields, saw 22\\nSkipping line 1168285: expected 15 fields, saw 22\\nSkipping line 1170870: expected 15 fields, saw 22\\n'\n",
      "b'Skipping line 1190931: expected 15 fields, saw 22\\nSkipping line 1202995: expected 15 fields, saw 22\\nSkipping line 1207921: expected 15 fields, saw 22\\nSkipping line 1210534: expected 15 fields, saw 22\\nSkipping line 1211045: expected 15 fields, saw 22\\nSkipping line 1214388: expected 15 fields, saw 22\\nSkipping line 1225535: expected 15 fields, saw 22\\nSkipping line 1234104: expected 15 fields, saw 22\\nSkipping line 1243625: expected 15 fields, saw 22\\nSkipping line 1244515: expected 15 fields, saw 22\\n'\n",
      "b'Skipping line 1245752: expected 15 fields, saw 22\\nSkipping line 1251647: expected 15 fields, saw 22\\nSkipping line 1261249: expected 15 fields, saw 22\\nSkipping line 1274969: expected 15 fields, saw 22\\nSkipping line 1275368: expected 15 fields, saw 22\\nSkipping line 1278018: expected 15 fields, saw 22\\nSkipping line 1284426: expected 15 fields, saw 22\\nSkipping line 1290659: expected 15 fields, saw 22\\nSkipping line 1297022: expected 15 fields, saw 22\\nSkipping line 1307777: expected 15 fields, saw 22\\nSkipping line 1310410: expected 15 fields, saw 22\\n'\n",
      "b'Skipping line 1311905: expected 15 fields, saw 22\\nSkipping line 1326276: expected 15 fields, saw 22\\nSkipping line 1345474: expected 15 fields, saw 22\\nSkipping line 1352138: expected 15 fields, saw 22\\nSkipping line 1356780: expected 15 fields, saw 22\\nSkipping line 1361506: expected 15 fields, saw 22\\nSkipping line 1370170: expected 15 fields, saw 22\\nSkipping line 1375878: expected 15 fields, saw 22\\n'\n",
      "b'Skipping line 1424679: expected 15 fields, saw 22\\nSkipping line 1432808: expected 15 fields, saw 22\\nSkipping line 1433856: expected 15 fields, saw 22\\nSkipping line 1441326: expected 15 fields, saw 22\\n'\n",
      "b'Skipping line 1456069: expected 15 fields, saw 22\\nSkipping line 1459027: expected 15 fields, saw 22\\nSkipping line 1472997: expected 15 fields, saw 22\\nSkipping line 1473385: expected 15 fields, saw 22\\nSkipping line 1477354: expected 15 fields, saw 22\\nSkipping line 1484134: expected 15 fields, saw 22\\nSkipping line 1485917: expected 15 fields, saw 22\\nSkipping line 1487630: expected 15 fields, saw 22\\nSkipping line 1492663: expected 15 fields, saw 22\\nSkipping line 1498469: expected 15 fields, saw 22\\nSkipping line 1506187: expected 15 fields, saw 22\\n'\n",
      "b'Skipping line 1510623: expected 15 fields, saw 22\\nSkipping line 1514521: expected 15 fields, saw 22\\nSkipping line 1522642: expected 15 fields, saw 22\\nSkipping line 1533051: expected 15 fields, saw 22\\nSkipping line 1537618: expected 15 fields, saw 22\\nSkipping line 1539097: expected 15 fields, saw 22\\nSkipping line 1539684: expected 15 fields, saw 22\\nSkipping line 1540095: expected 15 fields, saw 22\\nSkipping line 1541753: expected 15 fields, saw 22\\nSkipping line 1542568: expected 15 fields, saw 22\\nSkipping line 1544849: expected 15 fields, saw 22\\nSkipping line 1547388: expected 15 fields, saw 22\\nSkipping line 1547833: expected 15 fields, saw 22\\nSkipping line 1550584: expected 15 fields, saw 22\\nSkipping line 1555170: expected 15 fields, saw 22\\nSkipping line 1557538: expected 15 fields, saw 22\\nSkipping line 1560420: expected 15 fields, saw 22\\nSkipping line 1565898: expected 15 fields, saw 22\\n'\n",
      "b'Skipping line 1580679: expected 15 fields, saw 22\\nSkipping line 1581640: expected 15 fields, saw 22\\nSkipping line 1589257: expected 15 fields, saw 22\\nSkipping line 1597669: expected 15 fields, saw 22\\nSkipping line 1625149: expected 15 fields, saw 22\\n'\n",
      "b'Skipping line 1645729: expected 15 fields, saw 22\\nSkipping line 1662428: expected 15 fields, saw 22\\nSkipping line 1680819: expected 15 fields, saw 22\\nSkipping line 1689592: expected 15 fields, saw 22\\n'\n",
      "b'Skipping line 1704188: expected 15 fields, saw 22\\nSkipping line 1704866: expected 15 fields, saw 22\\nSkipping line 1731540: expected 15 fields, saw 22\\nSkipping line 1733950: expected 15 fields, saw 22\\nSkipping line 1744679: expected 15 fields, saw 22\\nSkipping line 1744878: expected 15 fields, saw 22\\nSkipping line 1750554: expected 15 fields, saw 22\\nSkipping line 1752015: expected 15 fields, saw 22\\nSkipping line 1762325: expected 15 fields, saw 22\\nSkipping line 1768080: expected 15 fields, saw 22\\n'\n",
      "b'Skipping line 1773474: expected 15 fields, saw 22\\nSkipping line 1789739: expected 15 fields, saw 22\\nSkipping line 1812944: expected 15 fields, saw 22\\nSkipping line 1824350: expected 15 fields, saw 22\\nSkipping line 1824920: expected 15 fields, saw 22\\nSkipping line 1830324: expected 15 fields, saw 22\\nSkipping line 1831051: expected 15 fields, saw 22\\n'\n",
      "b'Skipping line 1838756: expected 15 fields, saw 22\\nSkipping line 1839456: expected 15 fields, saw 22\\nSkipping line 1848076: expected 15 fields, saw 22\\nSkipping line 1849937: expected 15 fields, saw 22\\nSkipping line 1850269: expected 15 fields, saw 22\\nSkipping line 1850698: expected 15 fields, saw 22\\nSkipping line 1857825: expected 15 fields, saw 22\\nSkipping line 1863225: expected 15 fields, saw 22\\nSkipping line 1870124: expected 15 fields, saw 22\\nSkipping line 1872713: expected 15 fields, saw 22\\nSkipping line 1879465: expected 15 fields, saw 22\\nSkipping line 1886274: expected 15 fields, saw 22\\n'\n",
      "b'Skipping line 1917162: expected 15 fields, saw 22\\nSkipping line 1920447: expected 15 fields, saw 22\\nSkipping line 1921489: expected 15 fields, saw 22\\nSkipping line 1926156: expected 15 fields, saw 22\\nSkipping line 1927345: expected 15 fields, saw 22\\nSkipping line 1936363: expected 15 fields, saw 22\\nSkipping line 1936387: expected 15 fields, saw 22\\nSkipping line 1937596: expected 15 fields, saw 22\\nSkipping line 1951140: expected 15 fields, saw 22\\nSkipping line 1957589: expected 15 fields, saw 22\\nSkipping line 1957601: expected 15 fields, saw 22\\nSkipping line 1962381: expected 15 fields, saw 22\\n'\n",
      "b'Skipping line 1973613: expected 15 fields, saw 22\\nSkipping line 1976149: expected 15 fields, saw 22\\nSkipping line 1979365: expected 15 fields, saw 22\\nSkipping line 1983215: expected 15 fields, saw 22\\nSkipping line 1992878: expected 15 fields, saw 22\\nSkipping line 1996884: expected 15 fields, saw 22\\nSkipping line 2000561: expected 15 fields, saw 22\\nSkipping line 2015400: expected 15 fields, saw 22\\nSkipping line 2019408: expected 15 fields, saw 22\\n'\n",
      "b'Skipping line 2032407: expected 15 fields, saw 22\\nSkipping line 2045350: expected 15 fields, saw 22\\nSkipping line 2063796: expected 15 fields, saw 22\\nSkipping line 2066579: expected 15 fields, saw 22\\nSkipping line 2067395: expected 15 fields, saw 22\\nSkipping line 2075242: expected 15 fields, saw 22\\nSkipping line 2078093: expected 15 fields, saw 22\\n'\n",
      "b'Skipping line 2115428: expected 15 fields, saw 22\\nSkipping line 2137100: expected 15 fields, saw 22\\n'\n",
      "b'Skipping line 2163870: expected 15 fields, saw 22\\nSkipping line 2166739: expected 15 fields, saw 22\\nSkipping line 2173211: expected 15 fields, saw 22\\nSkipping line 2173958: expected 15 fields, saw 22\\nSkipping line 2176798: expected 15 fields, saw 22\\nSkipping line 2191833: expected 15 fields, saw 22\\nSkipping line 2192638: expected 15 fields, saw 22\\nSkipping line 2193540: expected 15 fields, saw 22\\nSkipping line 2193595: expected 15 fields, saw 22\\nSkipping line 2202012: expected 15 fields, saw 22\\nSkipping line 2205876: expected 15 fields, saw 22\\nSkipping line 2226502: expected 15 fields, saw 22\\nSkipping line 2227396: expected 15 fields, saw 22\\n'\n",
      "b'Skipping line 2233270: expected 15 fields, saw 22\\nSkipping line 2234501: expected 15 fields, saw 22\\nSkipping line 2245308: expected 15 fields, saw 22\\nSkipping line 2247084: expected 15 fields, saw 22\\nSkipping line 2247878: expected 15 fields, saw 22\\nSkipping line 2250552: expected 15 fields, saw 22\\nSkipping line 2254598: expected 15 fields, saw 22\\nSkipping line 2284709: expected 15 fields, saw 22\\nSkipping line 2284799: expected 15 fields, saw 22\\nSkipping line 2292117: expected 15 fields, saw 22\\n'\n",
      "b'Skipping line 2294355: expected 15 fields, saw 22\\nSkipping line 2304229: expected 15 fields, saw 22\\nSkipping line 2304344: expected 15 fields, saw 22\\nSkipping line 2311376: expected 15 fields, saw 22\\nSkipping line 2317711: expected 15 fields, saw 22\\nSkipping line 2328881: expected 15 fields, saw 22\\nSkipping line 2352131: expected 15 fields, saw 22\\nSkipping line 2357881: expected 15 fields, saw 22\\n'\n",
      "b'Skipping line 2372561: expected 15 fields, saw 22\\nSkipping line 2378708: expected 15 fields, saw 22\\n'\n",
      "b'Skipping line 2435979: expected 15 fields, saw 22\\nSkipping line 2462692: expected 15 fields, saw 22\\nSkipping line 2471833: expected 15 fields, saw 22\\n'\n",
      "b'Skipping line 2608859: expected 15 fields, saw 22\\n'\n",
      "b'Skipping line 2737102: expected 15 fields, saw 22\\n'\n",
      "b'Skipping line 2820377: expected 15 fields, saw 22\\n'\n",
      "b'Skipping line 3032229: expected 15 fields, saw 22\\nSkipping line 3036716: expected 15 fields, saw 22\\nSkipping line 3039754: expected 15 fields, saw 22\\n'\n",
      "b'Skipping line 3230999: expected 15 fields, saw 22\\nSkipping line 3248281: expected 15 fields, saw 22\\n'\n",
      "b'Skipping line 3379094: expected 15 fields, saw 22\\n'\n",
      "b'Skipping line 3418902: expected 15 fields, saw 22\\n'\n",
      "b'Skipping line 3480006: expected 15 fields, saw 22\\n'\n",
      "b'Skipping line 4385957: expected 15 fields, saw 22\\n'\n",
      "b'Skipping line 4408460: expected 15 fields, saw 22\\n'\n",
      "b'Skipping line 4762423: expected 15 fields, saw 22\\n'\n"
     ]
    },
    {
     "name": "stdout",
     "output_type": "stream",
     "text": [
      "https://s3.amazonaws.com/amazon-reviews-pds/tsv/amazon_reviews_us_Toys_v1_00.tsv.gz (4859607, 15)\n"
     ]
    },
    {
     "name": "stderr",
     "output_type": "stream",
     "text": [
      "b'Skipping line 17990: expected 15 fields, saw 22\\nSkipping line 33182: expected 15 fields, saw 22\\nSkipping line 35417: expected 15 fields, saw 22\\nSkipping line 52596: expected 15 fields, saw 22\\n'\n",
      "b'Skipping line 88313: expected 15 fields, saw 22\\n'\n",
      "b'Skipping line 132531: expected 15 fields, saw 22\\nSkipping line 141602: expected 15 fields, saw 22\\nSkipping line 146295: expected 15 fields, saw 22\\nSkipping line 147512: expected 15 fields, saw 22\\nSkipping line 150708: expected 15 fields, saw 22\\nSkipping line 154197: expected 15 fields, saw 22\\nSkipping line 192352: expected 15 fields, saw 22\\nSkipping line 193908: expected 15 fields, saw 22\\n'\n",
      "b'Skipping line 207944: expected 15 fields, saw 22\\nSkipping line 208350: expected 15 fields, saw 22\\nSkipping line 208759: expected 15 fields, saw 22\\nSkipping line 209151: expected 15 fields, saw 22\\n'\n",
      "b'Skipping line 273516: expected 15 fields, saw 22\\nSkipping line 276042: expected 15 fields, saw 22\\nSkipping line 289485: expected 15 fields, saw 22\\nSkipping line 296935: expected 15 fields, saw 22\\nSkipping line 303727: expected 15 fields, saw 22\\n'\n",
      "b'Skipping line 328459: expected 15 fields, saw 22\\nSkipping line 359495: expected 15 fields, saw 22\\nSkipping line 388082: expected 15 fields, saw 22\\nSkipping line 388183: expected 15 fields, saw 22\\nSkipping line 388865: expected 15 fields, saw 22\\nSkipping line 389476: expected 15 fields, saw 22\\nSkipping line 390582: expected 15 fields, saw 22\\n'\n",
      "b'Skipping line 414441: expected 15 fields, saw 22\\nSkipping line 450946: expected 15 fields, saw 22\\n'\n",
      "b'Skipping line 477591: expected 15 fields, saw 22\\n'\n",
      "b'Skipping line 544317: expected 15 fields, saw 22\\nSkipping line 562769: expected 15 fields, saw 22\\nSkipping line 565607: expected 15 fields, saw 22\\nSkipping line 569011: expected 15 fields, saw 22\\nSkipping line 571858: expected 15 fields, saw 22\\nSkipping line 574733: expected 15 fields, saw 22\\nSkipping line 586353: expected 15 fields, saw 22\\nSkipping line 588285: expected 15 fields, saw 22\\n'\n",
      "b'Skipping line 597472: expected 15 fields, saw 22\\nSkipping line 598756: expected 15 fields, saw 22\\nSkipping line 602985: expected 15 fields, saw 22\\nSkipping line 612932: expected 15 fields, saw 22\\nSkipping line 622022: expected 15 fields, saw 22\\nSkipping line 650789: expected 15 fields, saw 22\\n'\n",
      "b'Skipping line 664892: expected 15 fields, saw 22\\n'\n",
      "b'Skipping line 733321: expected 15 fields, saw 22\\nSkipping line 734158: expected 15 fields, saw 22\\nSkipping line 782266: expected 15 fields, saw 22\\n'\n",
      "b'Skipping line 810189: expected 15 fields, saw 22\\n'\n",
      "b'Skipping line 1025238: expected 15 fields, saw 22\\n'\n",
      "b'Skipping line 1128968: expected 15 fields, saw 22\\nSkipping line 1135995: expected 15 fields, saw 22\\nSkipping line 1147132: expected 15 fields, saw 22\\nSkipping line 1149058: expected 15 fields, saw 22\\nSkipping line 1156351: expected 15 fields, saw 22\\n'\n",
      "b'Skipping line 1358731: expected 15 fields, saw 22\\n'\n"
     ]
    },
    {
     "name": "stdout",
     "output_type": "stream",
     "text": [
      "https://s3.amazonaws.com/amazon-reviews-pds/tsv/amazon_reviews_us_Tools_v1_00.tsv.gz (1740041, 15)\n"
     ]
    },
    {
     "name": "stderr",
     "output_type": "stream",
     "text": [
      "b'Skipping line 7549: expected 15 fields, saw 22\\nSkipping line 27856: expected 15 fields, saw 22\\nSkipping line 53399: expected 15 fields, saw 22\\n'\n",
      "b'Skipping line 76073: expected 15 fields, saw 22\\nSkipping line 89612: expected 15 fields, saw 22\\nSkipping line 93502: expected 15 fields, saw 22\\nSkipping line 96533: expected 15 fields, saw 22\\nSkipping line 107777: expected 15 fields, saw 22\\nSkipping line 114290: expected 15 fields, saw 22\\nSkipping line 118937: expected 15 fields, saw 22\\n'\n",
      "b'Skipping line 175061: expected 15 fields, saw 22\\nSkipping line 185159: expected 15 fields, saw 22\\nSkipping line 191448: expected 15 fields, saw 22\\n'\n",
      "b'Skipping line 217523: expected 15 fields, saw 22\\nSkipping line 217618: expected 15 fields, saw 22\\nSkipping line 238480: expected 15 fields, saw 22\\nSkipping line 242797: expected 15 fields, saw 22\\nSkipping line 258855: expected 15 fields, saw 22\\n'\n",
      "b'Skipping line 274223: expected 15 fields, saw 22\\nSkipping line 284977: expected 15 fields, saw 22\\nSkipping line 292275: expected 15 fields, saw 22\\nSkipping line 308205: expected 15 fields, saw 22\\nSkipping line 316345: expected 15 fields, saw 22\\nSkipping line 319263: expected 15 fields, saw 22\\n'\n",
      "b'Skipping line 346649: expected 15 fields, saw 22\\nSkipping line 358085: expected 15 fields, saw 22\\nSkipping line 367296: expected 15 fields, saw 22\\n'\n",
      "b'Skipping line 401531: expected 15 fields, saw 22\\nSkipping line 418883: expected 15 fields, saw 22\\nSkipping line 425090: expected 15 fields, saw 22\\nSkipping line 426609: expected 15 fields, saw 22\\n'\n",
      "b'Skipping line 477418: expected 15 fields, saw 22\\nSkipping line 478435: expected 15 fields, saw 22\\nSkipping line 482297: expected 15 fields, saw 22\\nSkipping line 486579: expected 15 fields, saw 22\\nSkipping line 498280: expected 15 fields, saw 22\\nSkipping line 514041: expected 15 fields, saw 22\\nSkipping line 524280: expected 15 fields, saw 22\\n'\n",
      "b'Skipping line 525919: expected 15 fields, saw 22\\nSkipping line 528040: expected 15 fields, saw 22\\nSkipping line 530763: expected 15 fields, saw 22\\nSkipping line 535716: expected 15 fields, saw 22\\nSkipping line 537226: expected 15 fields, saw 22\\nSkipping line 537298: expected 15 fields, saw 22\\nSkipping line 538452: expected 15 fields, saw 22\\nSkipping line 542895: expected 15 fields, saw 22\\nSkipping line 563939: expected 15 fields, saw 22\\nSkipping line 568311: expected 15 fields, saw 22\\nSkipping line 578715: expected 15 fields, saw 22\\nSkipping line 584889: expected 15 fields, saw 22\\nSkipping line 587404: expected 15 fields, saw 22\\n'\n",
      "b'Skipping line 594445: expected 15 fields, saw 22\\nSkipping line 600835: expected 15 fields, saw 22\\nSkipping line 602086: expected 15 fields, saw 22\\nSkipping line 610689: expected 15 fields, saw 22\\nSkipping line 615276: expected 15 fields, saw 22\\nSkipping line 622154: expected 15 fields, saw 22\\nSkipping line 628440: expected 15 fields, saw 22\\nSkipping line 631600: expected 15 fields, saw 22\\nSkipping line 636387: expected 15 fields, saw 22\\nSkipping line 638400: expected 15 fields, saw 22\\n'\n",
      "b'Skipping line 660741: expected 15 fields, saw 22\\nSkipping line 665127: expected 15 fields, saw 22\\nSkipping line 666026: expected 15 fields, saw 22\\nSkipping line 676698: expected 15 fields, saw 22\\nSkipping line 697971: expected 15 fields, saw 22\\nSkipping line 699669: expected 15 fields, saw 22\\nSkipping line 700379: expected 15 fields, saw 22\\n'\n",
      "b'Skipping line 741370: expected 15 fields, saw 22\\nSkipping line 741589: expected 15 fields, saw 22\\nSkipping line 758752: expected 15 fields, saw 22\\nSkipping line 781241: expected 15 fields, saw 22\\n'\n",
      "b'Skipping line 793782: expected 15 fields, saw 22\\nSkipping line 795108: expected 15 fields, saw 22\\nSkipping line 818334: expected 15 fields, saw 22\\nSkipping line 822690: expected 15 fields, saw 22\\n'\n",
      "b'Skipping line 855009: expected 15 fields, saw 22\\nSkipping line 870760: expected 15 fields, saw 22\\nSkipping line 891467: expected 15 fields, saw 22\\n'\n",
      "b'Skipping line 945450: expected 15 fields, saw 22\\nSkipping line 949785: expected 15 fields, saw 22\\nSkipping line 958534: expected 15 fields, saw 22\\n'\n",
      "b'Skipping line 1006147: expected 15 fields, saw 22\\nSkipping line 1020875: expected 15 fields, saw 22\\nSkipping line 1027474: expected 15 fields, saw 22\\nSkipping line 1033688: expected 15 fields, saw 22\\n'\n",
      "b'Skipping line 1056719: expected 15 fields, saw 22\\nSkipping line 1067438: expected 15 fields, saw 22\\nSkipping line 1079099: expected 15 fields, saw 22\\nSkipping line 1085814: expected 15 fields, saw 22\\nSkipping line 1112836: expected 15 fields, saw 22\\n'\n",
      "b'Skipping line 1124957: expected 15 fields, saw 22\\nSkipping line 1138765: expected 15 fields, saw 22\\nSkipping line 1148270: expected 15 fields, saw 22\\nSkipping line 1160930: expected 15 fields, saw 22\\nSkipping line 1162655: expected 15 fields, saw 22\\n'\n",
      "b'Skipping line 1192443: expected 15 fields, saw 22\\nSkipping line 1229660: expected 15 fields, saw 22\\nSkipping line 1244131: expected 15 fields, saw 22\\n'\n",
      "b'Skipping line 1250699: expected 15 fields, saw 22\\nSkipping line 1269442: expected 15 fields, saw 22\\nSkipping line 1279923: expected 15 fields, saw 22\\nSkipping line 1282927: expected 15 fields, saw 22\\nSkipping line 1286341: expected 15 fields, saw 22\\nSkipping line 1301270: expected 15 fields, saw 22\\nSkipping line 1306255: expected 15 fields, saw 22\\n'\n",
      "b'Skipping line 1340306: expected 15 fields, saw 22\\nSkipping line 1358550: expected 15 fields, saw 22\\n'\n",
      "b'Skipping line 1382569: expected 15 fields, saw 22\\nSkipping line 1390333: expected 15 fields, saw 22\\nSkipping line 1411659: expected 15 fields, saw 22\\nSkipping line 1440802: expected 15 fields, saw 22\\n'\n",
      "b'Skipping line 1442783: expected 15 fields, saw 22\\nSkipping line 1488812: expected 15 fields, saw 22\\n'\n",
      "b'Skipping line 1511179: expected 15 fields, saw 22\\nSkipping line 1518267: expected 15 fields, saw 22\\nSkipping line 1539821: expected 15 fields, saw 22\\nSkipping line 1542802: expected 15 fields, saw 22\\nSkipping line 1548443: expected 15 fields, saw 22\\nSkipping line 1549102: expected 15 fields, saw 22\\nSkipping line 1557671: expected 15 fields, saw 22\\nSkipping line 1560717: expected 15 fields, saw 22\\n'\n",
      "b'Skipping line 1583031: expected 15 fields, saw 22\\nSkipping line 1589830: expected 15 fields, saw 22\\nSkipping line 1593954: expected 15 fields, saw 22\\nSkipping line 1619714: expected 15 fields, saw 22\\nSkipping line 1626865: expected 15 fields, saw 22\\n'\n",
      "b'Skipping line 1640894: expected 15 fields, saw 22\\nSkipping line 1671105: expected 15 fields, saw 22\\nSkipping line 1682719: expected 15 fields, saw 22\\nSkipping line 1698705: expected 15 fields, saw 22\\n'\n",
      "b'Skipping line 1709202: expected 15 fields, saw 22\\nSkipping line 1732031: expected 15 fields, saw 22\\nSkipping line 1753028: expected 15 fields, saw 22\\nSkipping line 1757021: expected 15 fields, saw 22\\nSkipping line 1759784: expected 15 fields, saw 22\\nSkipping line 1765336: expected 15 fields, saw 22\\n'\n",
      "b'Skipping line 1787006: expected 15 fields, saw 22\\nSkipping line 1799108: expected 15 fields, saw 22\\nSkipping line 1800352: expected 15 fields, saw 22\\nSkipping line 1820265: expected 15 fields, saw 22\\nSkipping line 1829829: expected 15 fields, saw 22\\n'\n",
      "b'Skipping line 1836210: expected 15 fields, saw 22\\nSkipping line 1837913: expected 15 fields, saw 22\\nSkipping line 1838322: expected 15 fields, saw 22\\nSkipping line 1850799: expected 15 fields, saw 22\\nSkipping line 1851660: expected 15 fields, saw 22\\nSkipping line 1851760: expected 15 fields, saw 22\\nSkipping line 1856953: expected 15 fields, saw 22\\nSkipping line 1877331: expected 15 fields, saw 22\\nSkipping line 1879194: expected 15 fields, saw 22\\nSkipping line 1885539: expected 15 fields, saw 22\\n'\n",
      "b'Skipping line 1914602: expected 15 fields, saw 22\\nSkipping line 1920033: expected 15 fields, saw 22\\nSkipping line 1920128: expected 15 fields, saw 22\\nSkipping line 1928420: expected 15 fields, saw 22\\nSkipping line 1932534: expected 15 fields, saw 22\\nSkipping line 1938472: expected 15 fields, saw 22\\nSkipping line 1955911: expected 15 fields, saw 22\\nSkipping line 1957872: expected 15 fields, saw 22\\n'\n",
      "b'Skipping line 1981562: expected 15 fields, saw 22\\nSkipping line 2018197: expected 15 fields, saw 22\\n'\n",
      "b'Skipping line 2036017: expected 15 fields, saw 22\\nSkipping line 2057336: expected 15 fields, saw 22\\n'\n",
      "b'Skipping line 2115217: expected 15 fields, saw 22\\nSkipping line 2123227: expected 15 fields, saw 22\\nSkipping line 2139547: expected 15 fields, saw 22\\n'\n",
      "b'Skipping line 2180195: expected 15 fields, saw 22\\nSkipping line 2227967: expected 15 fields, saw 22\\n'\n",
      "b'Skipping line 2239370: expected 15 fields, saw 22\\nSkipping line 2248833: expected 15 fields, saw 22\\nSkipping line 2270257: expected 15 fields, saw 22\\n'\n",
      "b'Skipping line 2294088: expected 15 fields, saw 22\\nSkipping line 2339075: expected 15 fields, saw 22\\nSkipping line 2341949: expected 15 fields, saw 22\\nSkipping line 2355932: expected 15 fields, saw 22\\nSkipping line 2358472: expected 15 fields, saw 22\\n'\n",
      "b'Skipping line 2380375: expected 15 fields, saw 22\\nSkipping line 2421317: expected 15 fields, saw 22\\n'\n",
      "b'Skipping line 2427097: expected 15 fields, saw 22\\nSkipping line 2430168: expected 15 fields, saw 22\\nSkipping line 2433981: expected 15 fields, saw 22\\nSkipping line 2435256: expected 15 fields, saw 22\\nSkipping line 2459832: expected 15 fields, saw 22\\nSkipping line 2461658: expected 15 fields, saw 22\\nSkipping line 2488261: expected 15 fields, saw 22\\n'\n",
      "b'Skipping line 2511271: expected 15 fields, saw 22\\nSkipping line 2515564: expected 15 fields, saw 22\\n'\n",
      "b'Skipping line 2739141: expected 15 fields, saw 22\\n'\n",
      "b'Skipping line 2903749: expected 15 fields, saw 22\\nSkipping line 2934812: expected 15 fields, saw 22\\n'\n",
      "b'Skipping line 3005263: expected 15 fields, saw 22\\n'\n",
      "b'Skipping line 3312771: expected 15 fields, saw 22\\n'\n",
      "b'Skipping line 3362891: expected 15 fields, saw 22\\n'\n",
      "b'Skipping line 3522495: expected 15 fields, saw 22\\n'\n",
      "b'Skipping line 3580053: expected 15 fields, saw 22\\n'\n",
      "b'Skipping line 4278901: expected 15 fields, saw 22\\n'\n",
      "b'Skipping line 4488253: expected 15 fields, saw 22\\n'\n",
      "b'Skipping line 4775463: expected 15 fields, saw 22\\n'\n"
     ]
    },
    {
     "name": "stdout",
     "output_type": "stream",
     "text": [
      "https://s3.amazonaws.com/amazon-reviews-pds/tsv/amazon_reviews_us_Sports_v1_00.tsv.gz (4833094, 15)\n"
     ]
    },
    {
     "name": "stderr",
     "output_type": "stream",
     "text": [
      "b'Skipping line 8021: expected 15 fields, saw 22\\nSkipping line 34886: expected 15 fields, saw 22\\nSkipping line 49286: expected 15 fields, saw 22\\n'\n"
     ]
    },
    {
     "name": "stdout",
     "output_type": "stream",
     "text": [
      "https://s3.amazonaws.com/amazon-reviews-pds/tsv/amazon_reviews_us_Software_v1_00.tsv.gz (341249, 15)\n"
     ]
    },
    {
     "name": "stderr",
     "output_type": "stream",
     "text": [
      "b'Skipping line 54101: expected 15 fields, saw 22\\nSkipping line 55857: expected 15 fields, saw 22\\nSkipping line 60448: expected 15 fields, saw 22\\n'\n",
      "b'Skipping line 76918: expected 15 fields, saw 22\\nSkipping line 87925: expected 15 fields, saw 22\\nSkipping line 88500: expected 15 fields, saw 22\\nSkipping line 114276: expected 15 fields, saw 22\\nSkipping line 128751: expected 15 fields, saw 22\\n'\n",
      "b'Skipping line 136095: expected 15 fields, saw 22\\nSkipping line 140007: expected 15 fields, saw 22\\nSkipping line 177148: expected 15 fields, saw 22\\nSkipping line 180087: expected 15 fields, saw 22\\nSkipping line 183010: expected 15 fields, saw 22\\nSkipping line 183949: expected 15 fields, saw 22\\nSkipping line 192879: expected 15 fields, saw 22\\n'\n",
      "b'Skipping line 223261: expected 15 fields, saw 22\\nSkipping line 240588: expected 15 fields, saw 22\\nSkipping line 247955: expected 15 fields, saw 22\\nSkipping line 249336: expected 15 fields, saw 22\\nSkipping line 259363: expected 15 fields, saw 22\\n'\n",
      "b'Skipping line 265664: expected 15 fields, saw 22\\nSkipping line 277141: expected 15 fields, saw 22\\nSkipping line 297657: expected 15 fields, saw 22\\nSkipping line 301661: expected 15 fields, saw 22\\nSkipping line 309377: expected 15 fields, saw 22\\n'\n",
      "b'Skipping line 344785: expected 15 fields, saw 22\\nSkipping line 373123: expected 15 fields, saw 22\\n'\n",
      "b'Skipping line 437625: expected 15 fields, saw 22\\nSkipping line 439026: expected 15 fields, saw 22\\nSkipping line 453540: expected 15 fields, saw 22\\n'\n",
      "b'Skipping line 459450: expected 15 fields, saw 22\\nSkipping line 468663: expected 15 fields, saw 22\\nSkipping line 482395: expected 15 fields, saw 22\\n'\n",
      "b'Skipping line 541205: expected 15 fields, saw 22\\nSkipping line 552195: expected 15 fields, saw 22\\nSkipping line 556974: expected 15 fields, saw 22\\nSkipping line 574056: expected 15 fields, saw 22\\nSkipping line 582215: expected 15 fields, saw 22\\n'\n",
      "b'Skipping line 605428: expected 15 fields, saw 22\\nSkipping line 607292: expected 15 fields, saw 22\\nSkipping line 609689: expected 15 fields, saw 22\\nSkipping line 642724: expected 15 fields, saw 22\\nSkipping line 643401: expected 15 fields, saw 22\\nSkipping line 644251: expected 15 fields, saw 22\\n'\n",
      "b'Skipping line 666488: expected 15 fields, saw 22\\nSkipping line 706286: expected 15 fields, saw 22\\n'\n",
      "b'Skipping line 734419: expected 15 fields, saw 22\\nSkipping line 735910: expected 15 fields, saw 22\\nSkipping line 744996: expected 15 fields, saw 22\\nSkipping line 750340: expected 15 fields, saw 22\\nSkipping line 768733: expected 15 fields, saw 22\\nSkipping line 774206: expected 15 fields, saw 22\\n'\n",
      "b'Skipping line 792985: expected 15 fields, saw 22\\nSkipping line 832430: expected 15 fields, saw 22\\n'\n",
      "b'Skipping line 873437: expected 15 fields, saw 22\\nSkipping line 881702: expected 15 fields, saw 22\\nSkipping line 883194: expected 15 fields, saw 22\\nSkipping line 895053: expected 15 fields, saw 22\\nSkipping line 917189: expected 15 fields, saw 22\\n'\n",
      "b'Skipping line 920384: expected 15 fields, saw 22\\nSkipping line 926024: expected 15 fields, saw 22\\nSkipping line 937160: expected 15 fields, saw 22\\nSkipping line 949530: expected 15 fields, saw 22\\nSkipping line 965534: expected 15 fields, saw 22\\n'\n",
      "b'Skipping line 994267: expected 15 fields, saw 22\\nSkipping line 1001768: expected 15 fields, saw 22\\n'\n",
      "b'Skipping line 1060583: expected 15 fields, saw 22\\nSkipping line 1076464: expected 15 fields, saw 22\\nSkipping line 1090206: expected 15 fields, saw 22\\n'\n",
      "b'Skipping line 1123320: expected 15 fields, saw 22\\nSkipping line 1134620: expected 15 fields, saw 22\\nSkipping line 1161774: expected 15 fields, saw 22\\nSkipping line 1173906: expected 15 fields, saw 22\\n'\n",
      "b'Skipping line 1226184: expected 15 fields, saw 22\\nSkipping line 1227345: expected 15 fields, saw 22\\n'\n",
      "b'Skipping line 1299308: expected 15 fields, saw 22\\n'\n",
      "b'Skipping line 1314885: expected 15 fields, saw 22\\nSkipping line 1319270: expected 15 fields, saw 22\\n'\n",
      "b'Skipping line 1400785: expected 15 fields, saw 22\\n'\n",
      "b'Skipping line 1452664: expected 15 fields, saw 22\\n'\n",
      "b'Skipping line 1553197: expected 15 fields, saw 22\\nSkipping line 1565603: expected 15 fields, saw 22\\n'\n",
      "b'Skipping line 1581194: expected 15 fields, saw 22\\nSkipping line 1588532: expected 15 fields, saw 22\\nSkipping line 1593760: expected 15 fields, saw 22\\n'\n",
      "b'Skipping line 1638506: expected 15 fields, saw 22\\nSkipping line 1684480: expected 15 fields, saw 22\\n'\n",
      "b'Skipping line 1751648: expected 15 fields, saw 22\\nSkipping line 1754239: expected 15 fields, saw 22\\n'\n",
      "b'Skipping line 1813371: expected 15 fields, saw 22\\nSkipping line 1833867: expected 15 fields, saw 22\\n'\n",
      "b'Skipping line 1843271: expected 15 fields, saw 22\\nSkipping line 1878226: expected 15 fields, saw 22\\nSkipping line 1878565: expected 15 fields, saw 22\\nSkipping line 1879284: expected 15 fields, saw 22\\nSkipping line 1879583: expected 15 fields, saw 22\\nSkipping line 1879619: expected 15 fields, saw 22\\nSkipping line 1880224: expected 15 fields, saw 22\\nSkipping line 1881528: expected 15 fields, saw 22\\nSkipping line 1883001: expected 15 fields, saw 22\\nSkipping line 1897746: expected 15 fields, saw 22\\nSkipping line 1900482: expected 15 fields, saw 22\\n'\n",
      "b'Skipping line 1937218: expected 15 fields, saw 22\\nSkipping line 1947384: expected 15 fields, saw 22\\nSkipping line 1950536: expected 15 fields, saw 22\\n'\n",
      "b'Skipping line 1974526: expected 15 fields, saw 22\\nSkipping line 1999157: expected 15 fields, saw 22\\n'\n",
      "b'Skipping line 2049158: expected 15 fields, saw 22\\nSkipping line 2059966: expected 15 fields, saw 22\\n'\n",
      "b'Skipping line 2136949: expected 15 fields, saw 22\\nSkipping line 2139761: expected 15 fields, saw 22\\nSkipping line 2159242: expected 15 fields, saw 22\\n'\n",
      "b'Skipping line 2172137: expected 15 fields, saw 22\\nSkipping line 2225127: expected 15 fields, saw 22\\n'\n",
      "b'Skipping line 2242683: expected 15 fields, saw 22\\n'\n",
      "b'Skipping line 2324179: expected 15 fields, saw 22\\nSkipping line 2350637: expected 15 fields, saw 22\\n'\n",
      "b'Skipping line 2369709: expected 15 fields, saw 22\\nSkipping line 2374408: expected 15 fields, saw 22\\n'\n",
      "b'Skipping line 3001832: expected 15 fields, saw 22\\n'\n",
      "b'Skipping line 3250530: expected 15 fields, saw 22\\n'\n"
     ]
    },
    {
     "name": "stdout",
     "output_type": "stream",
     "text": [
      "https://s3.amazonaws.com/amazon-reviews-pds/tsv/amazon_reviews_us_Shoes_v1_00.tsv.gz (4358820, 15)\n"
     ]
    },
    {
     "name": "stderr",
     "output_type": "stream",
     "text": [
      "b'Skipping line 21404: expected 15 fields, saw 22\\nSkipping line 31839: expected 15 fields, saw 22\\nSkipping line 37779: expected 15 fields, saw 22\\nSkipping line 38344: expected 15 fields, saw 22\\nSkipping line 61449: expected 15 fields, saw 22\\n'\n",
      "b'Skipping line 80975: expected 15 fields, saw 22\\nSkipping line 85603: expected 15 fields, saw 22\\nSkipping line 95950: expected 15 fields, saw 22\\nSkipping line 105132: expected 15 fields, saw 22\\nSkipping line 115378: expected 15 fields, saw 22\\n'\n",
      "b'Skipping line 152632: expected 15 fields, saw 22\\nSkipping line 159310: expected 15 fields, saw 22\\nSkipping line 162724: expected 15 fields, saw 22\\nSkipping line 168588: expected 15 fields, saw 22\\nSkipping line 170412: expected 15 fields, saw 22\\nSkipping line 187169: expected 15 fields, saw 22\\n'\n",
      "b'Skipping line 205461: expected 15 fields, saw 22\\nSkipping line 210928: expected 15 fields, saw 22\\nSkipping line 213691: expected 15 fields, saw 22\\nSkipping line 228697: expected 15 fields, saw 22\\nSkipping line 229383: expected 15 fields, saw 22\\nSkipping line 235713: expected 15 fields, saw 22\\nSkipping line 240421: expected 15 fields, saw 22\\nSkipping line 253547: expected 15 fields, saw 22\\n'\n",
      "b'Skipping line 303488: expected 15 fields, saw 22\\nSkipping line 306271: expected 15 fields, saw 22\\nSkipping line 307701: expected 15 fields, saw 22\\nSkipping line 317078: expected 15 fields, saw 22\\n'\n",
      "b'Skipping line 331770: expected 15 fields, saw 22\\nSkipping line 340030: expected 15 fields, saw 22\\nSkipping line 343111: expected 15 fields, saw 22\\nSkipping line 347725: expected 15 fields, saw 22\\nSkipping line 352032: expected 15 fields, saw 22\\nSkipping line 363562: expected 15 fields, saw 22\\nSkipping line 366541: expected 15 fields, saw 22\\n'\n",
      "b'Skipping line 411700: expected 15 fields, saw 22\\nSkipping line 422970: expected 15 fields, saw 22\\nSkipping line 452274: expected 15 fields, saw 22\\n'\n",
      "b'Skipping line 478751: expected 15 fields, saw 22\\nSkipping line 492268: expected 15 fields, saw 22\\nSkipping line 524242: expected 15 fields, saw 22\\n'\n",
      "b'Skipping line 529833: expected 15 fields, saw 22\\nSkipping line 557261: expected 15 fields, saw 22\\nSkipping line 573734: expected 15 fields, saw 22\\n'\n",
      "b'Skipping line 609630: expected 15 fields, saw 22\\nSkipping line 619803: expected 15 fields, saw 22\\nSkipping line 630276: expected 15 fields, saw 22\\n'\n",
      "b'Skipping line 660802: expected 15 fields, saw 22\\nSkipping line 665431: expected 15 fields, saw 22\\nSkipping line 684186: expected 15 fields, saw 22\\nSkipping line 709599: expected 15 fields, saw 22\\nSkipping line 717969: expected 15 fields, saw 22\\n'\n",
      "b'Skipping line 730455: expected 15 fields, saw 22\\nSkipping line 760019: expected 15 fields, saw 22\\nSkipping line 771682: expected 15 fields, saw 22\\nSkipping line 772685: expected 15 fields, saw 22\\nSkipping line 780429: expected 15 fields, saw 22\\n'\n",
      "b'Skipping line 794285: expected 15 fields, saw 22\\nSkipping line 794600: expected 15 fields, saw 22\\nSkipping line 814105: expected 15 fields, saw 22\\nSkipping line 821013: expected 15 fields, saw 22\\nSkipping line 821572: expected 15 fields, saw 22\\nSkipping line 838818: expected 15 fields, saw 22\\n'\n",
      "b'Skipping line 882484: expected 15 fields, saw 22\\nSkipping line 884285: expected 15 fields, saw 22\\nSkipping line 889122: expected 15 fields, saw 22\\nSkipping line 903263: expected 15 fields, saw 22\\nSkipping line 905909: expected 15 fields, saw 22\\n'\n",
      "b'Skipping line 942971: expected 15 fields, saw 22\\nSkipping line 974189: expected 15 fields, saw 22\\nSkipping line 974322: expected 15 fields, saw 22\\nSkipping line 976014: expected 15 fields, saw 22\\nSkipping line 979587: expected 15 fields, saw 22\\n'\n",
      "b'Skipping line 984046: expected 15 fields, saw 22\\nSkipping line 987303: expected 15 fields, saw 22\\nSkipping line 988454: expected 15 fields, saw 22\\nSkipping line 1022324: expected 15 fields, saw 22\\nSkipping line 1040163: expected 15 fields, saw 22\\nSkipping line 1041725: expected 15 fields, saw 22\\nSkipping line 1042582: expected 15 fields, saw 22\\n'\n",
      "b'Skipping line 1050288: expected 15 fields, saw 22\\nSkipping line 1050916: expected 15 fields, saw 22\\nSkipping line 1058744: expected 15 fields, saw 22\\nSkipping line 1083177: expected 15 fields, saw 22\\nSkipping line 1100258: expected 15 fields, saw 22\\nSkipping line 1107278: expected 15 fields, saw 22\\nSkipping line 1111345: expected 15 fields, saw 22\\nSkipping line 1111479: expected 15 fields, saw 22\\n'\n",
      "b'Skipping line 1125823: expected 15 fields, saw 22\\nSkipping line 1129482: expected 15 fields, saw 22\\nSkipping line 1131952: expected 15 fields, saw 22\\nSkipping line 1155388: expected 15 fields, saw 22\\nSkipping line 1169389: expected 15 fields, saw 22\\nSkipping line 1173501: expected 15 fields, saw 22\\nSkipping line 1176301: expected 15 fields, saw 22\\n'\n",
      "b'Skipping line 1186651: expected 15 fields, saw 22\\nSkipping line 1195294: expected 15 fields, saw 22\\nSkipping line 1196071: expected 15 fields, saw 22\\nSkipping line 1203091: expected 15 fields, saw 22\\nSkipping line 1205015: expected 15 fields, saw 22\\nSkipping line 1217204: expected 15 fields, saw 22\\nSkipping line 1220082: expected 15 fields, saw 22\\nSkipping line 1231204: expected 15 fields, saw 22\\nSkipping line 1231448: expected 15 fields, saw 22\\nSkipping line 1238917: expected 15 fields, saw 22\\n'\n",
      "b'Skipping line 1255057: expected 15 fields, saw 22\\nSkipping line 1285411: expected 15 fields, saw 22\\nSkipping line 1287752: expected 15 fields, saw 22\\nSkipping line 1292711: expected 15 fields, saw 22\\nSkipping line 1299584: expected 15 fields, saw 22\\nSkipping line 1302522: expected 15 fields, saw 22\\nSkipping line 1304105: expected 15 fields, saw 22\\n'\n",
      "b'Skipping line 1332110: expected 15 fields, saw 22\\nSkipping line 1340500: expected 15 fields, saw 22\\nSkipping line 1343112: expected 15 fields, saw 22\\nSkipping line 1343246: expected 15 fields, saw 22\\nSkipping line 1343848: expected 15 fields, saw 22\\nSkipping line 1351907: expected 15 fields, saw 22\\nSkipping line 1355456: expected 15 fields, saw 22\\nSkipping line 1364074: expected 15 fields, saw 22\\nSkipping line 1365046: expected 15 fields, saw 22\\nSkipping line 1375358: expected 15 fields, saw 22\\n'\n",
      "b'Skipping line 1469126: expected 15 fields, saw 22\\nSkipping line 1480057: expected 15 fields, saw 22\\nSkipping line 1506711: expected 15 fields, saw 22\\n'\n",
      "b'Skipping line 1616037: expected 15 fields, saw 22\\n'\n",
      "b'Skipping line 1773884: expected 15 fields, saw 22\\nSkipping line 1825979: expected 15 fields, saw 22\\n'\n"
     ]
    },
    {
     "name": "stdout",
     "output_type": "stream",
     "text": [
      "https://s3.amazonaws.com/amazon-reviews-pds/tsv/amazon_reviews_us_Pet_Products_v1_00.tsv.gz (2639853, 15)\n"
     ]
    },
    {
     "name": "stderr",
     "output_type": "stream",
     "text": [
      "b'Skipping line 1598: expected 15 fields, saw 22\\nSkipping line 25768: expected 15 fields, saw 22\\n'\n"
     ]
    },
    {
     "name": "stdout",
     "output_type": "stream",
     "text": [
      "https://s3.amazonaws.com/amazon-reviews-pds/tsv/amazon_reviews_us_Personal_Care_Appliances_v1_00.tsv.gz (85924, 15)\n"
     ]
    },
    {
     "name": "stderr",
     "output_type": "stream",
     "text": [
      "b'Skipping line 42306: expected 15 fields, saw 22\\nSkipping line 61136: expected 15 fields, saw 22\\nSkipping line 64592: expected 15 fields, saw 22\\n'\n",
      "b'Skipping line 73268: expected 15 fields, saw 22\\nSkipping line 80720: expected 15 fields, saw 22\\nSkipping line 120624: expected 15 fields, saw 22\\nSkipping line 121776: expected 15 fields, saw 22\\n'\n",
      "b'Skipping line 154351: expected 15 fields, saw 22\\nSkipping line 155937: expected 15 fields, saw 22\\n'\n",
      "b'Skipping line 203615: expected 15 fields, saw 22\\nSkipping line 208061: expected 15 fields, saw 22\\nSkipping line 212638: expected 15 fields, saw 22\\nSkipping line 219390: expected 15 fields, saw 22\\nSkipping line 235195: expected 15 fields, saw 22\\n'\n",
      "b'Skipping line 284570: expected 15 fields, saw 22\\nSkipping line 297246: expected 15 fields, saw 22\\nSkipping line 326901: expected 15 fields, saw 22\\n'\n",
      "b'Skipping line 344609: expected 15 fields, saw 22\\nSkipping line 347706: expected 15 fields, saw 22\\nSkipping line 348978: expected 15 fields, saw 22\\nSkipping line 349036: expected 15 fields, saw 22\\nSkipping line 377234: expected 15 fields, saw 22\\n'\n",
      "b'Skipping line 402960: expected 15 fields, saw 22\\n'\n",
      "b'Skipping line 525406: expected 15 fields, saw 22\\nSkipping line 535885: expected 15 fields, saw 22\\nSkipping line 558276: expected 15 fields, saw 22\\n'\n",
      "b'Skipping line 604498: expected 15 fields, saw 22\\nSkipping line 652606: expected 15 fields, saw 22\\n'\n",
      "b'Skipping line 656793: expected 15 fields, saw 22\\nSkipping line 686204: expected 15 fields, saw 22\\nSkipping line 709412: expected 15 fields, saw 22\\nSkipping line 712042: expected 15 fields, saw 22\\n'\n",
      "b'Skipping line 733264: expected 15 fields, saw 22\\nSkipping line 770653: expected 15 fields, saw 22\\nSkipping line 781551: expected 15 fields, saw 22\\n'\n",
      "b'Skipping line 791527: expected 15 fields, saw 22\\nSkipping line 798042: expected 15 fields, saw 22\\nSkipping line 807385: expected 15 fields, saw 22\\nSkipping line 810615: expected 15 fields, saw 22\\nSkipping line 844532: expected 15 fields, saw 22\\nSkipping line 846206: expected 15 fields, saw 22\\nSkipping line 847697: expected 15 fields, saw 22\\nSkipping line 848202: expected 15 fields, saw 22\\n'\n",
      "b'Skipping line 852145: expected 15 fields, saw 22\\nSkipping line 852660: expected 15 fields, saw 22\\nSkipping line 856127: expected 15 fields, saw 22\\nSkipping line 865441: expected 15 fields, saw 22\\nSkipping line 887198: expected 15 fields, saw 22\\nSkipping line 894406: expected 15 fields, saw 22\\nSkipping line 916051: expected 15 fields, saw 22\\n'\n",
      "b'Skipping line 993142: expected 15 fields, saw 22\\nSkipping line 1011929: expected 15 fields, saw 22\\nSkipping line 1034946: expected 15 fields, saw 22\\n'\n",
      "b'Skipping line 1111605: expected 15 fields, saw 22\\n'\n",
      "b'Skipping line 1166130: expected 15 fields, saw 22\\n'\n",
      "b'Skipping line 1180823: expected 15 fields, saw 22\\n'\n",
      "b'Skipping line 1286843: expected 15 fields, saw 22\\nSkipping line 1290568: expected 15 fields, saw 22\\nSkipping line 1292107: expected 15 fields, saw 22\\n'\n",
      "b'Skipping line 1310971: expected 15 fields, saw 22\\nSkipping line 1319111: expected 15 fields, saw 22\\nSkipping line 1352063: expected 15 fields, saw 22\\nSkipping line 1355003: expected 15 fields, saw 22\\nSkipping line 1357701: expected 15 fields, saw 22\\n'\n",
      "b'Skipping line 1400165: expected 15 fields, saw 22\\nSkipping line 1402478: expected 15 fields, saw 22\\nSkipping line 1409210: expected 15 fields, saw 22\\nSkipping line 1436022: expected 15 fields, saw 22\\n'\n",
      "b'Skipping line 1448705: expected 15 fields, saw 22\\nSkipping line 1451228: expected 15 fields, saw 22\\nSkipping line 1461128: expected 15 fields, saw 22\\nSkipping line 1464998: expected 15 fields, saw 22\\nSkipping line 1466419: expected 15 fields, saw 22\\nSkipping line 1494640: expected 15 fields, saw 22\\n'\n",
      "b'Skipping line 1554738: expected 15 fields, saw 22\\nSkipping line 1557296: expected 15 fields, saw 22\\n'\n",
      "b'Skipping line 1583737: expected 15 fields, saw 22\\nSkipping line 1584239: expected 15 fields, saw 22\\nSkipping line 1590283: expected 15 fields, saw 22\\nSkipping line 1634095: expected 15 fields, saw 22\\n'\n",
      "b'Skipping line 1649977: expected 15 fields, saw 22\\nSkipping line 1658352: expected 15 fields, saw 22\\nSkipping line 1674985: expected 15 fields, saw 22\\nSkipping line 1686716: expected 15 fields, saw 22\\nSkipping line 1697922: expected 15 fields, saw 22\\n'\n",
      "b'Skipping line 1713285: expected 15 fields, saw 22\\nSkipping line 1734676: expected 15 fields, saw 22\\nSkipping line 1738399: expected 15 fields, saw 22\\nSkipping line 1741814: expected 15 fields, saw 22\\nSkipping line 1747515: expected 15 fields, saw 22\\n'\n",
      "b'Skipping line 1787608: expected 15 fields, saw 22\\nSkipping line 1794400: expected 15 fields, saw 22\\nSkipping line 1807723: expected 15 fields, saw 22\\nSkipping line 1809920: expected 15 fields, saw 22\\nSkipping line 1820224: expected 15 fields, saw 22\\nSkipping line 1830087: expected 15 fields, saw 22\\n'\n",
      "b'Skipping line 1914778: expected 15 fields, saw 22\\nSkipping line 1916219: expected 15 fields, saw 22\\nSkipping line 1926957: expected 15 fields, saw 22\\nSkipping line 1935726: expected 15 fields, saw 22\\nSkipping line 1949568: expected 15 fields, saw 22\\nSkipping line 1952979: expected 15 fields, saw 22\\nSkipping line 1954367: expected 15 fields, saw 22\\nSkipping line 1963708: expected 15 fields, saw 22\\nSkipping line 1965034: expected 15 fields, saw 22\\n'\n",
      "b'Skipping line 1968879: expected 15 fields, saw 22\\nSkipping line 1987791: expected 15 fields, saw 22\\nSkipping line 2002178: expected 15 fields, saw 22\\nSkipping line 2007411: expected 15 fields, saw 22\\nSkipping line 2011694: expected 15 fields, saw 22\\nSkipping line 2016595: expected 15 fields, saw 22\\nSkipping line 2021800: expected 15 fields, saw 22\\n'\n",
      "b'Skipping line 2178514: expected 15 fields, saw 22\\nSkipping line 2210320: expected 15 fields, saw 22\\nSkipping line 2212163: expected 15 fields, saw 22\\n'\n",
      "b'Skipping line 2254350: expected 15 fields, saw 22\\n'\n",
      "b'Skipping line 2296430: expected 15 fields, saw 22\\nSkipping line 2301015: expected 15 fields, saw 22\\n'\n",
      "b'Skipping line 2369550: expected 15 fields, saw 22\\nSkipping line 2372919: expected 15 fields, saw 22\\nSkipping line 2373511: expected 15 fields, saw 22\\nSkipping line 2374204: expected 15 fields, saw 22\\nSkipping line 2378031: expected 15 fields, saw 22\\nSkipping line 2387181: expected 15 fields, saw 22\\n'\n",
      "b'Skipping line 2432561: expected 15 fields, saw 22\\nSkipping line 2445761: expected 15 fields, saw 22\\nSkipping line 2459959: expected 15 fields, saw 22\\nSkipping line 2470385: expected 15 fields, saw 22\\nSkipping line 2474790: expected 15 fields, saw 22\\n'\n",
      "b'Skipping line 2500009: expected 15 fields, saw 22\\nSkipping line 2522971: expected 15 fields, saw 22\\nSkipping line 2523952: expected 15 fields, saw 22\\nSkipping line 2537329: expected 15 fields, saw 22\\nSkipping line 2537962: expected 15 fields, saw 22\\nSkipping line 2546150: expected 15 fields, saw 22\\n'\n",
      "b'Skipping line 2611460: expected 15 fields, saw 22\\n'\n",
      "b'Skipping line 2679125: expected 15 fields, saw 22\\n'\n",
      "b'Skipping line 2687826: expected 15 fields, saw 22\\nSkipping line 2711545: expected 15 fields, saw 22\\nSkipping line 2737091: expected 15 fields, saw 22\\n'\n",
      "b'Skipping line 2764733: expected 15 fields, saw 22\\nSkipping line 2764771: expected 15 fields, saw 22\\nSkipping line 2766946: expected 15 fields, saw 22\\nSkipping line 2795416: expected 15 fields, saw 22\\n'\n",
      "b'Skipping line 2822371: expected 15 fields, saw 22\\n'\n",
      "b'Skipping line 2884239: expected 15 fields, saw 22\\nSkipping line 2948495: expected 15 fields, saw 22\\n'\n",
      "b'Skipping line 2978559: expected 15 fields, saw 22\\nSkipping line 2998169: expected 15 fields, saw 22\\nSkipping line 3003265: expected 15 fields, saw 22\\nSkipping line 3003662: expected 15 fields, saw 22\\n'\n",
      "b'Skipping line 3035912: expected 15 fields, saw 22\\nSkipping line 3054746: expected 15 fields, saw 22\\n'\n",
      "b'Skipping line 3301954: expected 15 fields, saw 22\\n'\n",
      "b'Skipping line 3563377: expected 15 fields, saw 22\\n'\n",
      "b'Skipping line 3952435: expected 15 fields, saw 22\\n'\n",
      "b'Skipping line 4144878: expected 15 fields, saw 22\\n'\n",
      "b'Skipping line 4208693: expected 15 fields, saw 22\\nSkipping line 4217407: expected 15 fields, saw 22\\n'\n",
      "b'Skipping line 4382584: expected 15 fields, saw 22\\n'\n",
      "b'Skipping line 4794835: expected 15 fields, saw 22\\nSkipping line 4840336: expected 15 fields, saw 22\\n'\n",
      "b'Skipping line 5002329: expected 15 fields, saw 22\\nSkipping line 5012210: expected 15 fields, saw 22\\nSkipping line 5021546: expected 15 fields, saw 22\\n'\n",
      "b'Skipping line 5117714: expected 15 fields, saw 22\\n'\n",
      "b'Skipping line 5382553: expected 15 fields, saw 22\\nSkipping line 5405521: expected 15 fields, saw 22\\n'\n",
      "b'Skipping line 5652268: expected 15 fields, saw 22\\n'\n",
      "b'Skipping line 5761025: expected 15 fields, saw 22\\n'\n",
      "b'Skipping line 6094502: expected 15 fields, saw 22\\n'\n",
      "b'Skipping line 6875074: expected 15 fields, saw 22\\n'\n"
     ]
    },
    {
     "name": "stdout",
     "output_type": "stream",
     "text": [
      "https://s3.amazonaws.com/amazon-reviews-pds/tsv/amazon_reviews_us_PC_v1_00.tsv.gz (6906869, 15)\n"
     ]
    },
    {
     "name": "stderr",
     "output_type": "stream",
     "text": [
      "b'Skipping line 3121: expected 15 fields, saw 22\\nSkipping line 23098: expected 15 fields, saw 22\\nSkipping line 44261: expected 15 fields, saw 22\\nSkipping line 46415: expected 15 fields, saw 22\\nSkipping line 49691: expected 15 fields, saw 22\\nSkipping line 53219: expected 15 fields, saw 22\\n'\n",
      "b'Skipping line 76042: expected 15 fields, saw 22\\nSkipping line 94032: expected 15 fields, saw 22\\nSkipping line 114699: expected 15 fields, saw 22\\nSkipping line 125796: expected 15 fields, saw 22\\n'\n",
      "b'Skipping line 157739: expected 15 fields, saw 22\\nSkipping line 175898: expected 15 fields, saw 22\\nSkipping line 177167: expected 15 fields, saw 22\\nSkipping line 192248: expected 15 fields, saw 22\\n'\n",
      "b'Skipping line 198940: expected 15 fields, saw 22\\nSkipping line 216336: expected 15 fields, saw 22\\nSkipping line 222360: expected 15 fields, saw 22\\nSkipping line 230919: expected 15 fields, saw 22\\nSkipping line 234929: expected 15 fields, saw 22\\nSkipping line 254683: expected 15 fields, saw 22\\n'\n",
      "b'Skipping line 263578: expected 15 fields, saw 22\\nSkipping line 267119: expected 15 fields, saw 22\\nSkipping line 311722: expected 15 fields, saw 22\\n'\n",
      "b'Skipping line 362749: expected 15 fields, saw 22\\nSkipping line 369620: expected 15 fields, saw 22\\nSkipping line 392304: expected 15 fields, saw 22\\n'\n",
      "b'Skipping line 439448: expected 15 fields, saw 22\\nSkipping line 440901: expected 15 fields, saw 22\\n'\n",
      "b'Skipping line 473157: expected 15 fields, saw 22\\nSkipping line 503084: expected 15 fields, saw 22\\nSkipping line 516256: expected 15 fields, saw 22\\nSkipping line 520357: expected 15 fields, saw 22\\nSkipping line 523072: expected 15 fields, saw 22\\n'\n",
      "b'Skipping line 532187: expected 15 fields, saw 22\\nSkipping line 548938: expected 15 fields, saw 22\\nSkipping line 562869: expected 15 fields, saw 22\\nSkipping line 565355: expected 15 fields, saw 22\\nSkipping line 571208: expected 15 fields, saw 22\\nSkipping line 572020: expected 15 fields, saw 22\\nSkipping line 582328: expected 15 fields, saw 22\\nSkipping line 582409: expected 15 fields, saw 22\\n'\n",
      "b'Skipping line 608840: expected 15 fields, saw 22\\nSkipping line 617217: expected 15 fields, saw 22\\nSkipping line 644474: expected 15 fields, saw 22\\nSkipping line 647670: expected 15 fields, saw 22\\n'\n",
      "b'Skipping line 693707: expected 15 fields, saw 22\\nSkipping line 694669: expected 15 fields, saw 22\\n'\n",
      "b'Skipping line 739795: expected 15 fields, saw 22\\nSkipping line 756512: expected 15 fields, saw 22\\nSkipping line 781710: expected 15 fields, saw 22\\nSkipping line 783500: expected 15 fields, saw 22\\n'\n",
      "b'Skipping line 789559: expected 15 fields, saw 22\\nSkipping line 796377: expected 15 fields, saw 22\\nSkipping line 799327: expected 15 fields, saw 22\\nSkipping line 814884: expected 15 fields, saw 22\\n'\n",
      "b'Skipping line 861696: expected 15 fields, saw 22\\nSkipping line 868867: expected 15 fields, saw 22\\nSkipping line 887883: expected 15 fields, saw 22\\nSkipping line 912033: expected 15 fields, saw 22\\nSkipping line 916219: expected 15 fields, saw 22\\n'\n",
      "b'Skipping line 975366: expected 15 fields, saw 22\\n'\n",
      "b'Skipping line 994276: expected 15 fields, saw 22\\nSkipping line 1008891: expected 15 fields, saw 22\\nSkipping line 1016443: expected 15 fields, saw 22\\nSkipping line 1018090: expected 15 fields, saw 22\\nSkipping line 1020599: expected 15 fields, saw 22\\nSkipping line 1022068: expected 15 fields, saw 22\\nSkipping line 1034648: expected 15 fields, saw 22\\n'\n",
      "b'Skipping line 1492008: expected 15 fields, saw 22\\n'\n",
      "b'Skipping line 1765224: expected 15 fields, saw 22\\n'\n",
      "b'Skipping line 2025246: expected 15 fields, saw 22\\n'\n"
     ]
    },
    {
     "name": "stdout",
     "output_type": "stream",
     "text": [
      "https://s3.amazonaws.com/amazon-reviews-pds/tsv/amazon_reviews_us_Outdoors_v1_00.tsv.gz (2299811, 15)\n"
     ]
    },
    {
     "name": "stderr",
     "output_type": "stream",
     "text": [
      "b'Skipping line 20773: expected 15 fields, saw 22\\nSkipping line 39834: expected 15 fields, saw 22\\nSkipping line 52957: expected 15 fields, saw 22\\nSkipping line 54540: expected 15 fields, saw 22\\n'\n",
      "b'Skipping line 80276: expected 15 fields, saw 22\\nSkipping line 96168: expected 15 fields, saw 22\\nSkipping line 96866: expected 15 fields, saw 22\\nSkipping line 98175: expected 15 fields, saw 22\\nSkipping line 112539: expected 15 fields, saw 22\\nSkipping line 119377: expected 15 fields, saw 22\\nSkipping line 120065: expected 15 fields, saw 22\\nSkipping line 124703: expected 15 fields, saw 22\\n'\n",
      "b'Skipping line 134024: expected 15 fields, saw 22\\nSkipping line 153938: expected 15 fields, saw 22\\nSkipping line 156225: expected 15 fields, saw 22\\nSkipping line 168603: expected 15 fields, saw 22\\nSkipping line 187002: expected 15 fields, saw 22\\n'\n",
      "b'Skipping line 200397: expected 15 fields, saw 22\\nSkipping line 203809: expected 15 fields, saw 22\\nSkipping line 207680: expected 15 fields, saw 22\\nSkipping line 223421: expected 15 fields, saw 22\\nSkipping line 244032: expected 15 fields, saw 22\\n'\n",
      "b'Skipping line 270329: expected 15 fields, saw 22\\nSkipping line 276484: expected 15 fields, saw 22\\nSkipping line 304755: expected 15 fields, saw 22\\n'\n",
      "b'Skipping line 379449: expected 15 fields, saw 22\\nSkipping line 386191: expected 15 fields, saw 22\\nSkipping line 391811: expected 15 fields, saw 22\\n'\n",
      "b'Skipping line 414348: expected 15 fields, saw 22\\nSkipping line 414773: expected 15 fields, saw 22\\nSkipping line 417572: expected 15 fields, saw 22\\nSkipping line 419496: expected 15 fields, saw 22\\nSkipping line 430528: expected 15 fields, saw 22\\nSkipping line 442230: expected 15 fields, saw 22\\nSkipping line 450931: expected 15 fields, saw 22\\n'\n",
      "b'Skipping line 465377: expected 15 fields, saw 22\\nSkipping line 467685: expected 15 fields, saw 22\\nSkipping line 485055: expected 15 fields, saw 22\\nSkipping line 487220: expected 15 fields, saw 22\\nSkipping line 496076: expected 15 fields, saw 22\\nSkipping line 512269: expected 15 fields, saw 22\\n'\n",
      "b'Skipping line 529505: expected 15 fields, saw 22\\nSkipping line 531286: expected 15 fields, saw 22\\nSkipping line 535424: expected 15 fields, saw 22\\nSkipping line 569898: expected 15 fields, saw 22\\nSkipping line 586293: expected 15 fields, saw 22\\n'\n",
      "b'Skipping line 593880: expected 15 fields, saw 22\\nSkipping line 599274: expected 15 fields, saw 22\\nSkipping line 607961: expected 15 fields, saw 22\\nSkipping line 612413: expected 15 fields, saw 22\\nSkipping line 615913: expected 15 fields, saw 22\\n'\n",
      "b'Skipping line 677580: expected 15 fields, saw 22\\nSkipping line 687191: expected 15 fields, saw 22\\nSkipping line 710819: expected 15 fields, saw 22\\n'\n",
      "b'Skipping line 728692: expected 15 fields, saw 22\\nSkipping line 730216: expected 15 fields, saw 22\\nSkipping line 758397: expected 15 fields, saw 22\\nSkipping line 760061: expected 15 fields, saw 22\\nSkipping line 768935: expected 15 fields, saw 22\\nSkipping line 769483: expected 15 fields, saw 22\\n'\n",
      "b'Skipping line 822725: expected 15 fields, saw 22\\nSkipping line 823621: expected 15 fields, saw 22\\n'\n",
      "b'Skipping line 857041: expected 15 fields, saw 22\\nSkipping line 857320: expected 15 fields, saw 22\\nSkipping line 858565: expected 15 fields, saw 22\\nSkipping line 860629: expected 15 fields, saw 22\\nSkipping line 864033: expected 15 fields, saw 22\\nSkipping line 868673: expected 15 fields, saw 22\\nSkipping line 869189: expected 15 fields, saw 22\\n'\n",
      "b'Skipping line 938605: expected 15 fields, saw 22\\nSkipping line 940100: expected 15 fields, saw 22\\nSkipping line 975137: expected 15 fields, saw 22\\nSkipping line 976314: expected 15 fields, saw 22\\n'\n",
      "b'Skipping line 985597: expected 15 fields, saw 22\\nSkipping line 990873: expected 15 fields, saw 22\\nSkipping line 991806: expected 15 fields, saw 22\\nSkipping line 1019808: expected 15 fields, saw 22\\nSkipping line 1021526: expected 15 fields, saw 22\\nSkipping line 1023905: expected 15 fields, saw 22\\nSkipping line 1044207: expected 15 fields, saw 22\\n'\n",
      "b'Skipping line 1084683: expected 15 fields, saw 22\\nSkipping line 1093288: expected 15 fields, saw 22\\n'\n",
      "b'Skipping line 1136430: expected 15 fields, saw 22\\nSkipping line 1139815: expected 15 fields, saw 22\\n'\n",
      "b'Skipping line 1179821: expected 15 fields, saw 22\\nSkipping line 1195351: expected 15 fields, saw 22\\nSkipping line 1202007: expected 15 fields, saw 22\\nSkipping line 1224868: expected 15 fields, saw 22\\nSkipping line 1232490: expected 15 fields, saw 22\\nSkipping line 1238697: expected 15 fields, saw 22\\n'\n",
      "b'Skipping line 1258654: expected 15 fields, saw 22\\nSkipping line 1279948: expected 15 fields, saw 22\\nSkipping line 1294360: expected 15 fields, saw 22\\nSkipping line 1302240: expected 15 fields, saw 22\\n'\n",
      "b'Skipping line 1413654: expected 15 fields, saw 22\\n'\n",
      "b'Skipping line 1687095: expected 15 fields, saw 22\\n'\n",
      "b'Skipping line 1805966: expected 15 fields, saw 22\\n'\n",
      "b'Skipping line 1892134: expected 15 fields, saw 22\\n'\n"
     ]
    },
    {
     "name": "stdout",
     "output_type": "stream",
     "text": [
      "https://s3.amazonaws.com/amazon-reviews-pds/tsv/amazon_reviews_us_Office_Products_v1_00.tsv.gz (2640254, 15)\n"
     ]
    },
    {
     "name": "stderr",
     "output_type": "stream",
     "text": [
      "b'Skipping line 5782: expected 15 fields, saw 22\\nSkipping line 31979: expected 15 fields, saw 22\\nSkipping line 32408: expected 15 fields, saw 22\\nSkipping line 45709: expected 15 fields, saw 22\\nSkipping line 64585: expected 15 fields, saw 22\\n'\n",
      "b'Skipping line 115742: expected 15 fields, saw 22\\nSkipping line 125537: expected 15 fields, saw 22\\nSkipping line 127580: expected 15 fields, saw 22\\nSkipping line 128696: expected 15 fields, saw 22\\n'\n",
      "b'Skipping line 143851: expected 15 fields, saw 22\\nSkipping line 147069: expected 15 fields, saw 22\\nSkipping line 149233: expected 15 fields, saw 22\\nSkipping line 167536: expected 15 fields, saw 22\\nSkipping line 168535: expected 15 fields, saw 22\\nSkipping line 171659: expected 15 fields, saw 22\\nSkipping line 184533: expected 15 fields, saw 22\\nSkipping line 184624: expected 15 fields, saw 22\\nSkipping line 184908: expected 15 fields, saw 22\\n'\n",
      "b'Skipping line 219150: expected 15 fields, saw 22\\nSkipping line 223178: expected 15 fields, saw 22\\nSkipping line 234333: expected 15 fields, saw 22\\nSkipping line 256242: expected 15 fields, saw 22\\n'\n",
      "b'Skipping line 268157: expected 15 fields, saw 22\\nSkipping line 276191: expected 15 fields, saw 22\\nSkipping line 277091: expected 15 fields, saw 22\\nSkipping line 288516: expected 15 fields, saw 22\\nSkipping line 289901: expected 15 fields, saw 22\\nSkipping line 292922: expected 15 fields, saw 22\\nSkipping line 308964: expected 15 fields, saw 22\\nSkipping line 325233: expected 15 fields, saw 22\\n'\n",
      "b'Skipping line 354051: expected 15 fields, saw 22\\nSkipping line 360552: expected 15 fields, saw 22\\nSkipping line 362489: expected 15 fields, saw 22\\nSkipping line 383798: expected 15 fields, saw 22\\nSkipping line 392390: expected 15 fields, saw 22\\n'\n",
      "b'Skipping line 456105: expected 15 fields, saw 22\\n'\n"
     ]
    },
    {
     "name": "stdout",
     "output_type": "stream",
     "text": [
      "https://s3.amazonaws.com/amazon-reviews-pds/tsv/amazon_reviews_us_Musical_Instruments_v1_00.tsv.gz (904004, 15)\n"
     ]
    },
    {
     "name": "stderr",
     "output_type": "stream",
     "text": [
      "b'Skipping line 1806: expected 15 fields, saw 22\\n'\n",
      "b'Skipping line 122830: expected 15 fields, saw 22\\nSkipping line 128573: expected 15 fields, saw 22\\n'\n",
      "b'Skipping line 132725: expected 15 fields, saw 22\\nSkipping line 139782: expected 15 fields, saw 22\\nSkipping line 141362: expected 15 fields, saw 22\\nSkipping line 151132: expected 15 fields, saw 22\\nSkipping line 168466: expected 15 fields, saw 22\\nSkipping line 171654: expected 15 fields, saw 22\\nSkipping line 178479: expected 15 fields, saw 22\\nSkipping line 179537: expected 15 fields, saw 22\\nSkipping line 190573: expected 15 fields, saw 22\\n'\n",
      "b'Skipping line 205670: expected 15 fields, saw 22\\nSkipping line 229584: expected 15 fields, saw 22\\nSkipping line 241528: expected 15 fields, saw 22\\n'\n",
      "b'Skipping line 295811: expected 15 fields, saw 22\\nSkipping line 297963: expected 15 fields, saw 22\\nSkipping line 303035: expected 15 fields, saw 22\\nSkipping line 326369: expected 15 fields, saw 22\\n'\n",
      "b'Skipping line 331142: expected 15 fields, saw 22\\nSkipping line 345278: expected 15 fields, saw 22\\nSkipping line 346703: expected 15 fields, saw 22\\nSkipping line 348393: expected 15 fields, saw 22\\nSkipping line 348548: expected 15 fields, saw 22\\nSkipping line 385240: expected 15 fields, saw 22\\n'\n",
      "b'Skipping line 418409: expected 15 fields, saw 22\\nSkipping line 448617: expected 15 fields, saw 22\\n'\n",
      "b'Skipping line 511942: expected 15 fields, saw 22\\n'\n",
      "b'Skipping line 535386: expected 15 fields, saw 22\\nSkipping line 549447: expected 15 fields, saw 22\\nSkipping line 579701: expected 15 fields, saw 22\\n'\n",
      "b'Skipping line 592267: expected 15 fields, saw 22\\nSkipping line 594316: expected 15 fields, saw 22\\n'\n",
      "b'Skipping line 669624: expected 15 fields, saw 22\\nSkipping line 682959: expected 15 fields, saw 22\\n'\n",
      "b'Skipping line 759184: expected 15 fields, saw 22\\n'\n",
      "b'Skipping line 788244: expected 15 fields, saw 22\\nSkipping line 809257: expected 15 fields, saw 22\\nSkipping line 840787: expected 15 fields, saw 22\\nSkipping line 841532: expected 15 fields, saw 22\\n'\n"
     ]
    },
    {
     "name": "stdout",
     "output_type": "stream",
     "text": [
      "https://s3.amazonaws.com/amazon-reviews-pds/tsv/amazon_reviews_us_Music_v1_00.tsv.gz (4740849, 15)\n"
     ]
    },
    {
     "name": "stderr",
     "output_type": "stream",
     "text": [
      "b'Skipping line 35246: expected 15 fields, saw 22\\n'\n",
      "b'Skipping line 87073: expected 15 fields, saw 22\\n'\n"
     ]
    },
    {
     "name": "stdout",
     "output_type": "stream",
     "text": [
      "https://s3.amazonaws.com/amazon-reviews-pds/tsv/amazon_reviews_us_Mobile_Electronics_v1_00.tsv.gz (104852, 15)\n"
     ]
    },
    {
     "name": "stderr",
     "output_type": "stream",
     "text": [
      "b'Skipping line 110774: expected 15 fields, saw 22\\n'\n",
      "b'Skipping line 1973406: expected 15 fields, saw 22\\nSkipping line 2025322: expected 15 fields, saw 22\\n'\n"
     ]
    },
    {
     "name": "stdout",
     "output_type": "stream",
     "text": [
      "https://s3.amazonaws.com/amazon-reviews-pds/tsv/amazon_reviews_us_Mobile_Apps_v1_00.tsv.gz (5008069, 15)\n"
     ]
    },
    {
     "name": "stderr",
     "output_type": "stream",
     "text": [
      "b'Skipping line 5583: expected 15 fields, saw 22\\nSkipping line 22814: expected 15 fields, saw 22\\nSkipping line 22883: expected 15 fields, saw 22\\nSkipping line 29872: expected 15 fields, saw 22\\nSkipping line 37242: expected 15 fields, saw 22\\nSkipping line 59693: expected 15 fields, saw 22\\n'\n"
     ]
    },
    {
     "name": "stdout",
     "output_type": "stream",
     "text": [
      "https://s3.amazonaws.com/amazon-reviews-pds/tsv/amazon_reviews_us_Major_Appliances_v1_00.tsv.gz (96834, 15)\n"
     ]
    },
    {
     "name": "stderr",
     "output_type": "stream",
     "text": [
      "b'Skipping line 21775: expected 15 fields, saw 22\\nSkipping line 35823: expected 15 fields, saw 22\\nSkipping line 46386: expected 15 fields, saw 22\\n'\n",
      "b'Skipping line 75998: expected 15 fields, saw 22\\nSkipping line 82507: expected 15 fields, saw 22\\nSkipping line 98223: expected 15 fields, saw 22\\nSkipping line 129152: expected 15 fields, saw 22\\nSkipping line 130115: expected 15 fields, saw 22\\n'\n",
      "b'Skipping line 131270: expected 15 fields, saw 22\\nSkipping line 151687: expected 15 fields, saw 22\\n'\n",
      "b'Skipping line 196882: expected 15 fields, saw 22\\nSkipping line 213341: expected 15 fields, saw 22\\nSkipping line 233947: expected 15 fields, saw 22\\n'\n"
     ]
    },
    {
     "name": "stdout",
     "output_type": "stream",
     "text": [
      "https://s3.amazonaws.com/amazon-reviews-pds/tsv/amazon_reviews_us_Luggage_v1_00.tsv.gz (348461, 15)\n"
     ]
    },
    {
     "name": "stderr",
     "output_type": "stream",
     "text": [
      "b'Skipping line 7907: expected 15 fields, saw 22\\nSkipping line 31230: expected 15 fields, saw 22\\nSkipping line 37569: expected 15 fields, saw 22\\nSkipping line 39985: expected 15 fields, saw 22\\nSkipping line 40172: expected 15 fields, saw 22\\nSkipping line 41537: expected 15 fields, saw 22\\n'\n",
      "b'Skipping line 80279: expected 15 fields, saw 22\\nSkipping line 87699: expected 15 fields, saw 22\\nSkipping line 89086: expected 15 fields, saw 22\\nSkipping line 100737: expected 15 fields, saw 22\\n'\n",
      "b'Skipping line 132112: expected 15 fields, saw 22\\nSkipping line 141267: expected 15 fields, saw 22\\nSkipping line 141268: expected 15 fields, saw 22\\n'\n",
      "b'Skipping line 209589: expected 15 fields, saw 22\\nSkipping line 218992: expected 15 fields, saw 22\\nSkipping line 224068: expected 15 fields, saw 22\\nSkipping line 234468: expected 15 fields, saw 22\\nSkipping line 236262: expected 15 fields, saw 22\\nSkipping line 243422: expected 15 fields, saw 22\\n'\n",
      "b'Skipping line 294204: expected 15 fields, saw 22\\nSkipping line 299319: expected 15 fields, saw 22\\nSkipping line 326793: expected 15 fields, saw 22\\n'\n",
      "b'Skipping line 340221: expected 15 fields, saw 22\\nSkipping line 390932: expected 15 fields, saw 22\\n'\n",
      "b'Skipping line 401790: expected 15 fields, saw 22\\nSkipping line 456706: expected 15 fields, saw 22\\n'\n",
      "b'Skipping line 461413: expected 15 fields, saw 22\\nSkipping line 461751: expected 15 fields, saw 22\\nSkipping line 499173: expected 15 fields, saw 22\\nSkipping line 518500: expected 15 fields, saw 22\\n'\n",
      "b'Skipping line 526856: expected 15 fields, saw 22\\nSkipping line 536594: expected 15 fields, saw 22\\nSkipping line 582251: expected 15 fields, saw 22\\nSkipping line 584237: expected 15 fields, saw 22\\n'\n",
      "b'Skipping line 592705: expected 15 fields, saw 22\\nSkipping line 594390: expected 15 fields, saw 22\\nSkipping line 605129: expected 15 fields, saw 22\\nSkipping line 610150: expected 15 fields, saw 22\\nSkipping line 625298: expected 15 fields, saw 22\\nSkipping line 627206: expected 15 fields, saw 22\\nSkipping line 630190: expected 15 fields, saw 22\\nSkipping line 638003: expected 15 fields, saw 22\\nSkipping line 638877: expected 15 fields, saw 22\\n'\n",
      "b'Skipping line 678219: expected 15 fields, saw 22\\nSkipping line 687516: expected 15 fields, saw 22\\nSkipping line 691793: expected 15 fields, saw 22\\nSkipping line 695114: expected 15 fields, saw 22\\nSkipping line 699114: expected 15 fields, saw 22\\nSkipping line 708638: expected 15 fields, saw 22\\n'\n",
      "b'Skipping line 728318: expected 15 fields, saw 22\\nSkipping line 728468: expected 15 fields, saw 22\\nSkipping line 728688: expected 15 fields, saw 22\\nSkipping line 728989: expected 15 fields, saw 22\\nSkipping line 729166: expected 15 fields, saw 22\\nSkipping line 729283: expected 15 fields, saw 22\\nSkipping line 729401: expected 15 fields, saw 22\\nSkipping line 729588: expected 15 fields, saw 22\\nSkipping line 730084: expected 15 fields, saw 22\\nSkipping line 730226: expected 15 fields, saw 22\\nSkipping line 740635: expected 15 fields, saw 22\\nSkipping line 744455: expected 15 fields, saw 22\\nSkipping line 784904: expected 15 fields, saw 22\\n'\n",
      "b'Skipping line 802982: expected 15 fields, saw 22\\nSkipping line 806720: expected 15 fields, saw 22\\nSkipping line 838607: expected 15 fields, saw 22\\nSkipping line 844263: expected 15 fields, saw 22\\n'\n",
      "b'Skipping line 854061: expected 15 fields, saw 22\\nSkipping line 858366: expected 15 fields, saw 22\\nSkipping line 862838: expected 15 fields, saw 22\\nSkipping line 885225: expected 15 fields, saw 22\\n'\n",
      "b'Skipping line 925199: expected 15 fields, saw 22\\nSkipping line 975138: expected 15 fields, saw 22\\n'\n",
      "b'Skipping line 984495: expected 15 fields, saw 22\\nSkipping line 1003098: expected 15 fields, saw 22\\nSkipping line 1003150: expected 15 fields, saw 22\\nSkipping line 1013875: expected 15 fields, saw 22\\nSkipping line 1019487: expected 15 fields, saw 22\\nSkipping line 1021411: expected 15 fields, saw 22\\n'\n",
      "b'Skipping line 1078087: expected 15 fields, saw 22\\nSkipping line 1080290: expected 15 fields, saw 22\\nSkipping line 1085953: expected 15 fields, saw 22\\n'\n",
      "b'Skipping line 1126627: expected 15 fields, saw 22\\nSkipping line 1130918: expected 15 fields, saw 22\\nSkipping line 1139223: expected 15 fields, saw 22\\nSkipping line 1155051: expected 15 fields, saw 22\\nSkipping line 1160251: expected 15 fields, saw 22\\n'\n",
      "b'Skipping line 1185468: expected 15 fields, saw 22\\nSkipping line 1189133: expected 15 fields, saw 22\\nSkipping line 1199357: expected 15 fields, saw 22\\nSkipping line 1199432: expected 15 fields, saw 22\\n'\n",
      "b'Skipping line 1250466: expected 15 fields, saw 22\\nSkipping line 1252169: expected 15 fields, saw 22\\nSkipping line 1261100: expected 15 fields, saw 22\\nSkipping line 1265940: expected 15 fields, saw 22\\nSkipping line 1289052: expected 15 fields, saw 22\\nSkipping line 1296284: expected 15 fields, saw 22\\nSkipping line 1300005: expected 15 fields, saw 22\\nSkipping line 1300714: expected 15 fields, saw 22\\nSkipping line 1301429: expected 15 fields, saw 22\\n'\n",
      "b'Skipping line 1313652: expected 15 fields, saw 22\\nSkipping line 1323662: expected 15 fields, saw 22\\nSkipping line 1325533: expected 15 fields, saw 22\\nSkipping line 1339405: expected 15 fields, saw 22\\nSkipping line 1358984: expected 15 fields, saw 22\\nSkipping line 1371810: expected 15 fields, saw 22\\n'\n",
      "b'Skipping line 1387271: expected 15 fields, saw 22\\nSkipping line 1407907: expected 15 fields, saw 22\\n'\n",
      "b'Skipping line 1539357: expected 15 fields, saw 22\\n'\n",
      "b'Skipping line 1640279: expected 15 fields, saw 22\\nSkipping line 1680093: expected 15 fields, saw 22\\nSkipping line 1682356: expected 15 fields, saw 22\\n'\n",
      "b'Skipping line 1808511: expected 15 fields, saw 22\\n'\n",
      "b'Skipping line 1861222: expected 15 fields, saw 22\\nSkipping line 1881760: expected 15 fields, saw 22\\nSkipping line 1888012: expected 15 fields, saw 22\\n'\n",
      "b'Skipping line 2057832: expected 15 fields, saw 22\\n'\n",
      "b'Skipping line 2176826: expected 15 fields, saw 22\\n'\n",
      "b'Skipping line 2260307: expected 15 fields, saw 22\\n'\n",
      "b'Skipping line 2383524: expected 15 fields, saw 22\\n'\n"
     ]
    },
    {
     "name": "stdout",
     "output_type": "stream",
     "text": [
      "https://s3.amazonaws.com/amazon-reviews-pds/tsv/amazon_reviews_us_Lawn_and_Garden_v1_00.tsv.gz (2555288, 15)\n"
     ]
    }
   ],
   "source": [
    "cat_list = [\n",
    "    'https://s3.amazonaws.com/amazon-reviews-pds/tsv/amazon_reviews_us_Wireless_v1_00.tsv.gz',\n",
    "    'https://s3.amazonaws.com/amazon-reviews-pds/tsv/amazon_reviews_us_Watches_v1_00.tsv.gz',\n",
    "    'https://s3.amazonaws.com/amazon-reviews-pds/tsv/amazon_reviews_us_Video_Games_v1_00.tsv.gz',\n",
    "    'https://s3.amazonaws.com/amazon-reviews-pds/tsv/amazon_reviews_us_Video_DVD_v1_00.tsv.gz',\n",
    "    'https://s3.amazonaws.com/amazon-reviews-pds/tsv/amazon_reviews_us_Video_v1_00.tsv.gz',\n",
    "    'https://s3.amazonaws.com/amazon-reviews-pds/tsv/amazon_reviews_us_Toys_v1_00.tsv.gz',\n",
    "    'https://s3.amazonaws.com/amazon-reviews-pds/tsv/amazon_reviews_us_Tools_v1_00.tsv.gz',\n",
    "    'https://s3.amazonaws.com/amazon-reviews-pds/tsv/amazon_reviews_us_Sports_v1_00.tsv.gz',\n",
    "    'https://s3.amazonaws.com/amazon-reviews-pds/tsv/amazon_reviews_us_Software_v1_00.tsv.gz',\n",
    "    'https://s3.amazonaws.com/amazon-reviews-pds/tsv/amazon_reviews_us_Shoes_v1_00.tsv.gz',\n",
    "    'https://s3.amazonaws.com/amazon-reviews-pds/tsv/amazon_reviews_us_Pet_Products_v1_00.tsv.gz',\n",
    "    'https://s3.amazonaws.com/amazon-reviews-pds/tsv/amazon_reviews_us_Personal_Care_Appliances_v1_00.tsv.gz',\n",
    "    'https://s3.amazonaws.com/amazon-reviews-pds/tsv/amazon_reviews_us_PC_v1_00.tsv.gz',\n",
    "    'https://s3.amazonaws.com/amazon-reviews-pds/tsv/amazon_reviews_us_Outdoors_v1_00.tsv.gz',\n",
    "    'https://s3.amazonaws.com/amazon-reviews-pds/tsv/amazon_reviews_us_Office_Products_v1_00.tsv.gz',\n",
    "    'https://s3.amazonaws.com/amazon-reviews-pds/tsv/amazon_reviews_us_Musical_Instruments_v1_00.tsv.gz',\n",
    "    'https://s3.amazonaws.com/amazon-reviews-pds/tsv/amazon_reviews_us_Music_v1_00.tsv.gz',\n",
    "    'https://s3.amazonaws.com/amazon-reviews-pds/tsv/amazon_reviews_us_Mobile_Electronics_v1_00.tsv.gz',\n",
    "    'https://s3.amazonaws.com/amazon-reviews-pds/tsv/amazon_reviews_us_Mobile_Apps_v1_00.tsv.gz',\n",
    "    'https://s3.amazonaws.com/amazon-reviews-pds/tsv/amazon_reviews_us_Major_Appliances_v1_00.tsv.gz',\n",
    "    'https://s3.amazonaws.com/amazon-reviews-pds/tsv/amazon_reviews_us_Luggage_v1_00.tsv.gz',\n",
    "    'https://s3.amazonaws.com/amazon-reviews-pds/tsv/amazon_reviews_us_Lawn_and_Garden_v1_00.tsv.gz',\n",
    "    'https://s3.amazonaws.com/amazon-reviews-pds/tsv/amazon_reviews_us_Kitchen_v1_00.tsv.gz',\n",
    "    'https://s3.amazonaws.com/amazon-reviews-pds/tsv/amazon_reviews_us_Jewelry_v1_00.tsv.gz',\n",
    "    'https://s3.amazonaws.com/amazon-reviews-pds/tsv/amazon_reviews_us_Home_Improvement_v1_00.tsv.gz',\n",
    "    'https://s3.amazonaws.com/amazon-reviews-pds/tsv/amazon_reviews_us_Home_Entertainment_v1_00.tsv.gz',\n",
    "    'https://s3.amazonaws.com/amazon-reviews-pds/tsv/amazon_reviews_us_Home_v1_00.tsv.gz',\n",
    "    'https://s3.amazonaws.com/amazon-reviews-pds/tsv/amazon_reviews_us_Health_Personal_Care_v1_00.tsv.gz',\n",
    "    'https://s3.amazonaws.com/amazon-reviews-pds/tsv/amazon_reviews_us_Grocery_v1_00.tsv.gz',\n",
    "    'https://s3.amazonaws.com/amazon-reviews-pds/tsv/amazon_reviews_us_Gift_Card_v1_00.tsv.gz',\n",
    "    'https://s3.amazonaws.com/amazon-reviews-pds/tsv/amazon_reviews_us_Furniture_v1_00.tsv.gz',\n",
    "    'https://s3.amazonaws.com/amazon-reviews-pds/tsv/amazon_reviews_us_Electronics_v1_00.tsv.gz',\n",
    "    'https://s3.amazonaws.com/amazon-reviews-pds/tsv/amazon_reviews_us_Digital_Video_Games_v1_00.tsv.gz',\n",
    "    'https://s3.amazonaws.com/amazon-reviews-pds/tsv/amazon_reviews_us_Digital_Video_Download_v1_00.tsv.gz',\n",
    "    'https://s3.amazonaws.com/amazon-reviews-pds/tsv/amazon_reviews_us_Digital_Software_v1_00.tsv.gz',\n",
    "    'https://s3.amazonaws.com/amazon-reviews-pds/tsv/amazon_reviews_us_Digital_Music_Purchase_v1_00.tsv.gz',\n",
    "    'https://s3.amazonaws.com/amazon-reviews-pds/tsv/amazon_reviews_us_Digital_Ebook_Purchase_v1_01.tsv.gz',\n",
    "    'https://s3.amazonaws.com/amazon-reviews-pds/tsv/amazon_reviews_us_Digital_Ebook_Purchase_v1_00.tsv.gz',\n",
    "    'https://s3.amazonaws.com/amazon-reviews-pds/tsv/amazon_reviews_us_Camera_v1_00.tsv.gz',\n",
    "    'https://s3.amazonaws.com/amazon-reviews-pds/tsv/amazon_reviews_us_Books_v1_02.tsv.gz',\n",
    "    'https://s3.amazonaws.com/amazon-reviews-pds/tsv/amazon_reviews_us_Books_v1_01.tsv.gz',\n",
    "    'https://s3.amazonaws.com/amazon-reviews-pds/tsv/amazon_reviews_us_Books_v1_00.tsv.gz',\n",
    "    'https://s3.amazonaws.com/amazon-reviews-pds/tsv/amazon_reviews_us_Beauty_v1_00.tsv.gz',\n",
    "    'https://s3.amazonaws.com/amazon-reviews-pds/tsv/amazon_reviews_us_Baby_v1_00.tsv.gz',\n",
    "    'https://s3.amazonaws.com/amazon-reviews-pds/tsv/amazon_reviews_us_Automotive_v1_00.tsv.gz',\n",
    "    'https://s3.amazonaws.com/amazon-reviews-pds/tsv/amazon_reviews_us_Apparel_v1_00.tsv.gz'\n",
    "]\n",
    "\n",
    "dfs = {}\n",
    "\n",
    "for cat_link in cat_list:\n",
    "    dfs[cat_link] = pd.read_csv(cat_link, sep='\\t', error_bad_lines=False, warn_bad_lines=True)\n",
    "    print(cat_link, dfs[cat_link].shape)\n",
    "    "
   ]
  },
  {
   "cell_type": "code",
   "execution_count": null,
   "metadata": {},
   "outputs": [],
   "source": [
    "for cat_link in dfs:\n",
    "    print(cat_link)\n",
    "    dfs[cat_link] = dfs[cat_link][dfs[cat_link].star_rating != 3]\n",
    "    dfs[cat_link]['review_class'] = ((dfs[cat_link]['star_rating'] == 4) | (dfs[cat_link]['star_rating'] == 5)).astype(int)\n",
    "    dfs[cat_link] = clean_data(dfs[cat_link])\n",
    "    dfs[cat_link] = append_sentiment_scores(dfs[cat_link])\n",
    "    print(dfs[cat_link].head())"
   ]
  },
  {
   "cell_type": "code",
   "execution_count": null,
   "metadata": {},
   "outputs": [],
   "source": []
  },
  {
   "cell_type": "code",
   "execution_count": null,
   "metadata": {},
   "outputs": [],
   "source": []
  },
  {
   "cell_type": "markdown",
   "metadata": {},
   "source": [
    "<a id='datacleaning'></a>\n",
    "### Data Cleaning"
   ]
  },
  {
   "cell_type": "markdown",
   "metadata": {},
   "source": [
    "In preparation for our analysis, in addition to dealing with missing values and limiting our scope to the columns of interest, we also used [VADER Sentiment Analysis](https://github.com/cjhutto/vaderSentiment) (Valence Aware Dictionary and sEntiment Reasoner) to give us positive, negative, neutral, and compound sentiment scores for each review in our dataset.\n",
    "\n",
    "To make the project more modular and easier to follow & build upon, we created separate .py files to handle the heavy lifting for tasks such as data extraction & cleaning, visualizations, and natural language processing.\n",
    "\n",
    "We chose to focus on the Watches category (~960,000 customer reviews) for this analysis, though with sufficient time, the process can be generalized to all 130 million rows of the dataset."
   ]
  },
  {
   "cell_type": "code",
   "execution_count": 5,
   "metadata": {},
   "outputs": [],
   "source": [
    "# Clean data & load into final dataframe"
   ]
  },
  {
   "cell_type": "code",
   "execution_count": 6,
   "metadata": {},
   "outputs": [],
   "source": [
    "df_full = df_full[df_full.star_rating != 3]\n",
    "df_full['review_class'] = ((df_full['star_rating'] == 4) | (df_full['star_rating'] == 5)).astype(int)"
   ]
  },
  {
   "cell_type": "code",
   "execution_count": 143,
   "metadata": {},
   "outputs": [],
   "source": [
    "df = clean_data(df_full)"
   ]
  },
  {
   "cell_type": "code",
   "execution_count": 144,
   "metadata": {},
   "outputs": [],
   "source": [
    "# df_full.customer_id.value_counts()"
   ]
  },
  {
   "cell_type": "code",
   "execution_count": 145,
   "metadata": {},
   "outputs": [],
   "source": [
    "# df_full.loc[df_full.customer_id == 40765068]"
   ]
  },
  {
   "cell_type": "code",
   "execution_count": 146,
   "metadata": {},
   "outputs": [],
   "source": [
    "# df_full.loc[df_full.customer_id == 42418272]"
   ]
  },
  {
   "cell_type": "code",
   "execution_count": 147,
   "metadata": {},
   "outputs": [],
   "source": [
    "df = append_sentiment_scores(df)"
   ]
  },
  {
   "cell_type": "code",
   "execution_count": 148,
   "metadata": {},
   "outputs": [
    {
     "data": {
      "text/html": [
       "<div>\n",
       "<style scoped>\n",
       "    .dataframe tbody tr th:only-of-type {\n",
       "        vertical-align: middle;\n",
       "    }\n",
       "\n",
       "    .dataframe tbody tr th {\n",
       "        vertical-align: top;\n",
       "    }\n",
       "\n",
       "    .dataframe thead th {\n",
       "        text-align: right;\n",
       "    }\n",
       "</style>\n",
       "<table border=\"1\" class=\"dataframe\">\n",
       "  <thead>\n",
       "    <tr style=\"text-align: right;\">\n",
       "      <th></th>\n",
       "      <th>marketplace</th>\n",
       "      <th>customer_id</th>\n",
       "      <th>review_id</th>\n",
       "      <th>product_id</th>\n",
       "      <th>product_parent</th>\n",
       "      <th>product_title</th>\n",
       "      <th>product_category</th>\n",
       "      <th>star_rating</th>\n",
       "      <th>helpful_votes</th>\n",
       "      <th>total_votes</th>\n",
       "      <th>...</th>\n",
       "      <th>verified_purchase</th>\n",
       "      <th>review_headline</th>\n",
       "      <th>review_body</th>\n",
       "      <th>review_date</th>\n",
       "      <th>review_class</th>\n",
       "      <th>review_fulltext</th>\n",
       "      <th>neg</th>\n",
       "      <th>neu</th>\n",
       "      <th>pos</th>\n",
       "      <th>compound</th>\n",
       "    </tr>\n",
       "  </thead>\n",
       "  <tbody>\n",
       "    <tr>\n",
       "      <td>0</td>\n",
       "      <td>US</td>\n",
       "      <td>3653882</td>\n",
       "      <td>R3O9SGZBVQBV76</td>\n",
       "      <td>B00FALQ1ZC</td>\n",
       "      <td>937001370</td>\n",
       "      <td>Invicta Women's 15150 \"Angel\" 18k Yellow Gold ...</td>\n",
       "      <td>Watches</td>\n",
       "      <td>5</td>\n",
       "      <td>0</td>\n",
       "      <td>0</td>\n",
       "      <td>...</td>\n",
       "      <td>Y</td>\n",
       "      <td>Five Stars</td>\n",
       "      <td>Absolutely love this watch! Get compliments al...</td>\n",
       "      <td>2015-08-31</td>\n",
       "      <td>1</td>\n",
       "      <td>Five Stars. Absolutely love this watch! Get co...</td>\n",
       "      <td>0.000</td>\n",
       "      <td>0.616</td>\n",
       "      <td>0.384</td>\n",
       "      <td>0.8169</td>\n",
       "    </tr>\n",
       "    <tr>\n",
       "      <td>1</td>\n",
       "      <td>US</td>\n",
       "      <td>14661224</td>\n",
       "      <td>RKH8BNC3L5DLF</td>\n",
       "      <td>B00D3RGO20</td>\n",
       "      <td>484010722</td>\n",
       "      <td>Kenneth Cole New York Women's KC4944 Automatic...</td>\n",
       "      <td>Watches</td>\n",
       "      <td>5</td>\n",
       "      <td>0</td>\n",
       "      <td>0</td>\n",
       "      <td>...</td>\n",
       "      <td>Y</td>\n",
       "      <td>I love thiswatch it keeps time wonderfully</td>\n",
       "      <td>I love this watch it keeps time wonderfully.</td>\n",
       "      <td>2015-08-31</td>\n",
       "      <td>1</td>\n",
       "      <td>I love thiswatch it keeps time wonderfully. I ...</td>\n",
       "      <td>0.000</td>\n",
       "      <td>0.357</td>\n",
       "      <td>0.643</td>\n",
       "      <td>0.9531</td>\n",
       "    </tr>\n",
       "    <tr>\n",
       "      <td>2</td>\n",
       "      <td>US</td>\n",
       "      <td>27324930</td>\n",
       "      <td>R2HLE8WKZSU3NL</td>\n",
       "      <td>B00DKYC7TK</td>\n",
       "      <td>361166390</td>\n",
       "      <td>Ritche 22mm Black Stainless Steel Bracelet Wat...</td>\n",
       "      <td>Watches</td>\n",
       "      <td>2</td>\n",
       "      <td>1</td>\n",
       "      <td>1</td>\n",
       "      <td>...</td>\n",
       "      <td>Y</td>\n",
       "      <td>Two Stars</td>\n",
       "      <td>Scratches</td>\n",
       "      <td>2015-08-31</td>\n",
       "      <td>0</td>\n",
       "      <td>Two Stars. Scratches</td>\n",
       "      <td>0.000</td>\n",
       "      <td>1.000</td>\n",
       "      <td>0.000</td>\n",
       "      <td>0.0000</td>\n",
       "    </tr>\n",
       "    <tr>\n",
       "      <td>3</td>\n",
       "      <td>US</td>\n",
       "      <td>7211452</td>\n",
       "      <td>R31U3UH5AZ42LL</td>\n",
       "      <td>B000EQS1JW</td>\n",
       "      <td>958035625</td>\n",
       "      <td>Citizen Men's BM8180-03E Eco-Drive Stainless S...</td>\n",
       "      <td>Watches</td>\n",
       "      <td>5</td>\n",
       "      <td>0</td>\n",
       "      <td>0</td>\n",
       "      <td>...</td>\n",
       "      <td>Y</td>\n",
       "      <td>Five Stars</td>\n",
       "      <td>It works well on me. However, I found cheaper ...</td>\n",
       "      <td>2015-08-31</td>\n",
       "      <td>1</td>\n",
       "      <td>Five Stars. It works well on me. However, I fo...</td>\n",
       "      <td>0.000</td>\n",
       "      <td>0.890</td>\n",
       "      <td>0.110</td>\n",
       "      <td>0.2732</td>\n",
       "    </tr>\n",
       "    <tr>\n",
       "      <td>4</td>\n",
       "      <td>US</td>\n",
       "      <td>12733322</td>\n",
       "      <td>R2SV659OUJ945Y</td>\n",
       "      <td>B00A6GFD7S</td>\n",
       "      <td>765328221</td>\n",
       "      <td>Orient ER27009B Men's Symphony Automatic Stain...</td>\n",
       "      <td>Watches</td>\n",
       "      <td>4</td>\n",
       "      <td>0</td>\n",
       "      <td>0</td>\n",
       "      <td>...</td>\n",
       "      <td>Y</td>\n",
       "      <td>Beautiful face, but cheap sounding links</td>\n",
       "      <td>Beautiful watch face.  The band looks nice all...</td>\n",
       "      <td>2015-08-31</td>\n",
       "      <td>1</td>\n",
       "      <td>Beautiful face, but cheap sounding links. Beau...</td>\n",
       "      <td>0.024</td>\n",
       "      <td>0.715</td>\n",
       "      <td>0.261</td>\n",
       "      <td>0.9886</td>\n",
       "    </tr>\n",
       "    <tr>\n",
       "      <td>...</td>\n",
       "      <td>...</td>\n",
       "      <td>...</td>\n",
       "      <td>...</td>\n",
       "      <td>...</td>\n",
       "      <td>...</td>\n",
       "      <td>...</td>\n",
       "      <td>...</td>\n",
       "      <td>...</td>\n",
       "      <td>...</td>\n",
       "      <td>...</td>\n",
       "      <td>...</td>\n",
       "      <td>...</td>\n",
       "      <td>...</td>\n",
       "      <td>...</td>\n",
       "      <td>...</td>\n",
       "      <td>...</td>\n",
       "      <td>...</td>\n",
       "      <td>...</td>\n",
       "      <td>...</td>\n",
       "      <td>...</td>\n",
       "      <td>...</td>\n",
       "    </tr>\n",
       "    <tr>\n",
       "      <td>960199</td>\n",
       "      <td>US</td>\n",
       "      <td>39508379</td>\n",
       "      <td>REH8UQZAXQS40</td>\n",
       "      <td>B00005OT9I</td>\n",
       "      <td>2153632</td>\n",
       "      <td>Xhilaration&amp;#174; Silver Dial Bangle Watch</td>\n",
       "      <td>Watches</td>\n",
       "      <td>2</td>\n",
       "      <td>17</td>\n",
       "      <td>17</td>\n",
       "      <td>...</td>\n",
       "      <td>N</td>\n",
       "      <td>Great prize - but size??</td>\n",
       "      <td>It's a great watch - but you don't have a chan...</td>\n",
       "      <td>2001-12-13</td>\n",
       "      <td>0</td>\n",
       "      <td>Great prize - but size??. It's a great watch -...</td>\n",
       "      <td>0.152</td>\n",
       "      <td>0.508</td>\n",
       "      <td>0.340</td>\n",
       "      <td>0.7867</td>\n",
       "    </tr>\n",
       "    <tr>\n",
       "      <td>960200</td>\n",
       "      <td>US</td>\n",
       "      <td>44704251</td>\n",
       "      <td>RJ14QPZEOI9P8</td>\n",
       "      <td>B00005QEM6</td>\n",
       "      <td>903687397</td>\n",
       "      <td>Armitron Men's Titanium 3 Eye Sport Analog Chr...</td>\n",
       "      <td>Watches</td>\n",
       "      <td>5</td>\n",
       "      <td>9</td>\n",
       "      <td>10</td>\n",
       "      <td>...</td>\n",
       "      <td>N</td>\n",
       "      <td>A very classy watch!</td>\n",
       "      <td>Well worth the price. This is a light weight, ...</td>\n",
       "      <td>2001-11-08</td>\n",
       "      <td>1</td>\n",
       "      <td>A very classy watch!. Well worth the price. Th...</td>\n",
       "      <td>0.000</td>\n",
       "      <td>0.618</td>\n",
       "      <td>0.382</td>\n",
       "      <td>0.9766</td>\n",
       "    </tr>\n",
       "    <tr>\n",
       "      <td>960201</td>\n",
       "      <td>US</td>\n",
       "      <td>40571775</td>\n",
       "      <td>R2B1G5650WWFCE</td>\n",
       "      <td>B00005QEME</td>\n",
       "      <td>252821780</td>\n",
       "      <td>Men's Timex Internet Messenger Sport Watch</td>\n",
       "      <td>Watches</td>\n",
       "      <td>5</td>\n",
       "      <td>3</td>\n",
       "      <td>16</td>\n",
       "      <td>...</td>\n",
       "      <td>N</td>\n",
       "      <td>This is a great watch</td>\n",
       "      <td>Dear Targeteers,&lt;BR&gt;This watch is exelent. it ...</td>\n",
       "      <td>2001-11-06</td>\n",
       "      <td>1</td>\n",
       "      <td>This is a great watch. Dear Targeteers,&lt;BR&gt;Thi...</td>\n",
       "      <td>0.000</td>\n",
       "      <td>0.746</td>\n",
       "      <td>0.254</td>\n",
       "      <td>0.8979</td>\n",
       "    </tr>\n",
       "    <tr>\n",
       "      <td>960202</td>\n",
       "      <td>US</td>\n",
       "      <td>44474855</td>\n",
       "      <td>R2MMGPUWXXOFI2</td>\n",
       "      <td>B00004YK0H</td>\n",
       "      <td>118389241</td>\n",
       "      <td>Energizer 393 Button Cell Battery</td>\n",
       "      <td>Watches</td>\n",
       "      <td>4</td>\n",
       "      <td>0</td>\n",
       "      <td>0</td>\n",
       "      <td>...</td>\n",
       "      <td>N</td>\n",
       "      <td>Now watt a minute here.</td>\n",
       "      <td>In the old days, the common hearing battery in...</td>\n",
       "      <td>2001-04-05</td>\n",
       "      <td>1</td>\n",
       "      <td>Now watt a minute here.. In the old days, the ...</td>\n",
       "      <td>0.020</td>\n",
       "      <td>0.905</td>\n",
       "      <td>0.075</td>\n",
       "      <td>0.6402</td>\n",
       "    </tr>\n",
       "    <tr>\n",
       "      <td>960203</td>\n",
       "      <td>US</td>\n",
       "      <td>44474855</td>\n",
       "      <td>R2BZMVAERMRUDE</td>\n",
       "      <td>B00004YK0H</td>\n",
       "      <td>118389241</td>\n",
       "      <td>Energizer 393 Button Cell Battery</td>\n",
       "      <td>Watches</td>\n",
       "      <td>4</td>\n",
       "      <td>5</td>\n",
       "      <td>7</td>\n",
       "      <td>...</td>\n",
       "      <td>N</td>\n",
       "      <td>1/10 Watt difference for hearing aids</td>\n",
       "      <td>I have found that a #393 watch battery is the ...</td>\n",
       "      <td>2001-04-05</td>\n",
       "      <td>1</td>\n",
       "      <td>1/10 Watt difference for hearing aids. I have ...</td>\n",
       "      <td>0.021</td>\n",
       "      <td>0.914</td>\n",
       "      <td>0.065</td>\n",
       "      <td>0.4927</td>\n",
       "    </tr>\n",
       "  </tbody>\n",
       "</table>\n",
       "<p>881088 rows × 21 columns</p>\n",
       "</div>"
      ],
      "text/plain": [
       "       marketplace  customer_id       review_id  product_id  product_parent  \\\n",
       "0               US      3653882  R3O9SGZBVQBV76  B00FALQ1ZC       937001370   \n",
       "1               US     14661224   RKH8BNC3L5DLF  B00D3RGO20       484010722   \n",
       "2               US     27324930  R2HLE8WKZSU3NL  B00DKYC7TK       361166390   \n",
       "3               US      7211452  R31U3UH5AZ42LL  B000EQS1JW       958035625   \n",
       "4               US     12733322  R2SV659OUJ945Y  B00A6GFD7S       765328221   \n",
       "...            ...          ...             ...         ...             ...   \n",
       "960199          US     39508379   REH8UQZAXQS40  B00005OT9I         2153632   \n",
       "960200          US     44704251   RJ14QPZEOI9P8  B00005QEM6       903687397   \n",
       "960201          US     40571775  R2B1G5650WWFCE  B00005QEME       252821780   \n",
       "960202          US     44474855  R2MMGPUWXXOFI2  B00004YK0H       118389241   \n",
       "960203          US     44474855  R2BZMVAERMRUDE  B00004YK0H       118389241   \n",
       "\n",
       "                                            product_title product_category  \\\n",
       "0       Invicta Women's 15150 \"Angel\" 18k Yellow Gold ...          Watches   \n",
       "1       Kenneth Cole New York Women's KC4944 Automatic...          Watches   \n",
       "2       Ritche 22mm Black Stainless Steel Bracelet Wat...          Watches   \n",
       "3       Citizen Men's BM8180-03E Eco-Drive Stainless S...          Watches   \n",
       "4       Orient ER27009B Men's Symphony Automatic Stain...          Watches   \n",
       "...                                                   ...              ...   \n",
       "960199         Xhilaration&#174; Silver Dial Bangle Watch          Watches   \n",
       "960200  Armitron Men's Titanium 3 Eye Sport Analog Chr...          Watches   \n",
       "960201         Men's Timex Internet Messenger Sport Watch          Watches   \n",
       "960202                  Energizer 393 Button Cell Battery          Watches   \n",
       "960203                  Energizer 393 Button Cell Battery          Watches   \n",
       "\n",
       "        star_rating  helpful_votes  total_votes  ... verified_purchase  \\\n",
       "0                 5              0            0  ...                 Y   \n",
       "1                 5              0            0  ...                 Y   \n",
       "2                 2              1            1  ...                 Y   \n",
       "3                 5              0            0  ...                 Y   \n",
       "4                 4              0            0  ...                 Y   \n",
       "...             ...            ...          ...  ...               ...   \n",
       "960199            2             17           17  ...                 N   \n",
       "960200            5              9           10  ...                 N   \n",
       "960201            5              3           16  ...                 N   \n",
       "960202            4              0            0  ...                 N   \n",
       "960203            4              5            7  ...                 N   \n",
       "\n",
       "                                   review_headline  \\\n",
       "0                                       Five Stars   \n",
       "1       I love thiswatch it keeps time wonderfully   \n",
       "2                                        Two Stars   \n",
       "3                                       Five Stars   \n",
       "4         Beautiful face, but cheap sounding links   \n",
       "...                                            ...   \n",
       "960199                    Great prize - but size??   \n",
       "960200                        A very classy watch!   \n",
       "960201                       This is a great watch   \n",
       "960202                     Now watt a minute here.   \n",
       "960203       1/10 Watt difference for hearing aids   \n",
       "\n",
       "                                              review_body review_date  \\\n",
       "0       Absolutely love this watch! Get compliments al...  2015-08-31   \n",
       "1            I love this watch it keeps time wonderfully.  2015-08-31   \n",
       "2                                               Scratches  2015-08-31   \n",
       "3       It works well on me. However, I found cheaper ...  2015-08-31   \n",
       "4       Beautiful watch face.  The band looks nice all...  2015-08-31   \n",
       "...                                                   ...         ...   \n",
       "960199  It's a great watch - but you don't have a chan...  2001-12-13   \n",
       "960200  Well worth the price. This is a light weight, ...  2001-11-08   \n",
       "960201  Dear Targeteers,<BR>This watch is exelent. it ...  2001-11-06   \n",
       "960202  In the old days, the common hearing battery in...  2001-04-05   \n",
       "960203  I have found that a #393 watch battery is the ...  2001-04-05   \n",
       "\n",
       "       review_class                                    review_fulltext    neg  \\\n",
       "0                 1  Five Stars. Absolutely love this watch! Get co...  0.000   \n",
       "1                 1  I love thiswatch it keeps time wonderfully. I ...  0.000   \n",
       "2                 0                               Two Stars. Scratches  0.000   \n",
       "3                 1  Five Stars. It works well on me. However, I fo...  0.000   \n",
       "4                 1  Beautiful face, but cheap sounding links. Beau...  0.024   \n",
       "...             ...                                                ...    ...   \n",
       "960199            0  Great prize - but size??. It's a great watch -...  0.152   \n",
       "960200            1  A very classy watch!. Well worth the price. Th...  0.000   \n",
       "960201            1  This is a great watch. Dear Targeteers,<BR>Thi...  0.000   \n",
       "960202            1  Now watt a minute here.. In the old days, the ...  0.020   \n",
       "960203            1  1/10 Watt difference for hearing aids. I have ...  0.021   \n",
       "\n",
       "          neu    pos  compound  \n",
       "0       0.616  0.384    0.8169  \n",
       "1       0.357  0.643    0.9531  \n",
       "2       1.000  0.000    0.0000  \n",
       "3       0.890  0.110    0.2732  \n",
       "4       0.715  0.261    0.9886  \n",
       "...       ...    ...       ...  \n",
       "960199  0.508  0.340    0.7867  \n",
       "960200  0.618  0.382    0.9766  \n",
       "960201  0.746  0.254    0.8979  \n",
       "960202  0.905  0.075    0.6402  \n",
       "960203  0.914  0.065    0.4927  \n",
       "\n",
       "[881088 rows x 21 columns]"
      ]
     },
     "execution_count": 148,
     "metadata": {},
     "output_type": "execute_result"
    }
   ],
   "source": [
    "df"
   ]
  },
  {
   "cell_type": "code",
   "execution_count": 149,
   "metadata": {},
   "outputs": [],
   "source": [
    "import pickle\n",
    "\n",
    "pickle.dump( df, open( \"../models/save.df\", \"wb\" ) )"
   ]
  },
  {
   "cell_type": "markdown",
   "metadata": {},
   "source": [
    "\n",
    "\n",
    "[Back to Top ↑](#top)"
   ]
  },
  {
   "cell_type": "markdown",
   "metadata": {},
   "source": [
    "<a id='classification'></a>\n",
    "### Classification Analysis\n",
    "\n",
    "With the help of the scikit-learn package, our next step was to run a series of classification models, each time with the goal of using insight gained from the review text, to predict the number of stars in the review's star rating.\n",
    "\n",
    "- **Dependent variable:** **star_rating:** The 1-5 star rating of the review. <p>\n",
    "\n",
    "- **Independendent variables:**\n",
    "    - **review_fulltext** serves as the underlying data for all of our independent variables.<br>\n",
    "    It is made up of the **review_title** and **review_body** appended together.\n",
    "    \n",
    "    From the **review_fulltext** we calculated 4 sentiment scores which we used as our variables.\n",
    "        - **neg:** Review's 'negative' rating via VADER Sentiment Analysis.\n",
    "        - **neu:** Review's 'neutral' rating via VADER Sentiment Analysis.\n",
    "        - **pos:** Review's 'positive' rating via VADER Sentiment Analysis.\n",
    "        - **compound:** Review's 'compound' rating via VADER Sentiment Analysis.\n",
    "\n",
    "To guard against data leakage, we split our dataset into training data and test data."
   ]
  },
  {
   "cell_type": "code",
   "execution_count": 150,
   "metadata": {},
   "outputs": [
    {
     "data": {
      "text/plain": [
       "(881088, 21)"
      ]
     },
     "execution_count": 150,
     "metadata": {},
     "output_type": "execute_result"
    }
   ],
   "source": [
    "df.shape"
   ]
  },
  {
   "cell_type": "code",
   "execution_count": 151,
   "metadata": {},
   "outputs": [],
   "source": [
    "X_train, X_test, y_train, y_test = get_train_test_split(df, test_size=.25)"
   ]
  },
  {
   "cell_type": "markdown",
   "metadata": {},
   "source": [
    "Looking at our data, it's clear that the classes present are not naturally balanced, which one might expect."
   ]
  },
  {
   "cell_type": "code",
   "execution_count": 152,
   "metadata": {},
   "outputs": [
    {
     "data": {
      "text/plain": [
       "1    557540\n",
       "0    103276\n",
       "Name: review_class, dtype: int64"
      ]
     },
     "execution_count": 152,
     "metadata": {},
     "output_type": "execute_result"
    }
   ],
   "source": [
    "y_train.value_counts()"
   ]
  },
  {
   "cell_type": "code",
   "execution_count": 153,
   "metadata": {},
   "outputs": [],
   "source": [
    "def wordcount(sentence):\n",
    "    return len(sentence.split())"
   ]
  },
  {
   "cell_type": "code",
   "execution_count": 154,
   "metadata": {},
   "outputs": [
    {
     "data": {
      "text/plain": [
       "52.29799671920777"
      ]
     },
     "execution_count": 154,
     "metadata": {},
     "output_type": "execute_result"
    }
   ],
   "source": [
    "X_train.review_fulltext.map(wordcount).mean()"
   ]
  },
  {
   "cell_type": "code",
   "execution_count": null,
   "metadata": {},
   "outputs": [],
   "source": []
  },
  {
   "cell_type": "markdown",
   "metadata": {},
   "source": [
    "We leveraged SMOTE to deal with this unbalanced class issue."
   ]
  },
  {
   "cell_type": "code",
   "execution_count": 155,
   "metadata": {},
   "outputs": [],
   "source": [
    "# smote = SMOTE()\n",
    "\n",
    "X_train_numeric = X_train.select_dtypes(include=[np.number])\n",
    "X_test_numeric = X_test.select_dtypes(include=[np.number])\n",
    "\n",
    "# X_train_resampled, y_train_resampled = smote.fit_sample(X_train_numeric, y_train) "
   ]
  },
  {
   "cell_type": "code",
   "execution_count": 156,
   "metadata": {},
   "outputs": [],
   "source": [
    "# from imblearn.under_sampling import ClusterCentroids\n",
    "\n",
    "# cc = ClusterCentroids()\n",
    "# X_train_resampled, y_train_resampled = cc.fit_resample(X_train_numeric, y_train)"
   ]
  },
  {
   "cell_type": "code",
   "execution_count": 157,
   "metadata": {},
   "outputs": [],
   "source": [
    "from imblearn.under_sampling import RandomUnderSampler\n",
    "\n",
    "rus = RandomUnderSampler()\n",
    "X_train_resampled, y_train_resampled = rus.fit_resample(X_train_numeric, y_train)"
   ]
  },
  {
   "cell_type": "code",
   "execution_count": 158,
   "metadata": {},
   "outputs": [],
   "source": [
    "# X_train_resampled = X_train_numeric\n",
    "# y_train_resampled = y_train"
   ]
  },
  {
   "cell_type": "code",
   "execution_count": 159,
   "metadata": {},
   "outputs": [
    {
     "data": {
      "text/plain": [
       "1    103276\n",
       "0    103276\n",
       "Name: review_class, dtype: int64"
      ]
     },
     "execution_count": 159,
     "metadata": {},
     "output_type": "execute_result"
    }
   ],
   "source": [
    "y_train_resampled.value_counts()"
   ]
  },
  {
   "cell_type": "markdown",
   "metadata": {},
   "source": [
    "With newly balanced classes for our analysis, we ran a series of classification models against our data with varying results. For each model, we display a classification report and confusion matrix for training and test sets to quickly understand the \n",
    "\n",
    "Our Decision Trees and K Nearest Neighbors were the models best at explaining our training data. However, performance against our test data showed that in most cases our models still had significant room for improvement, with overfitting often being the culprit (for some random samples overfitting was much less of an issue, but it did often occur). Going forward this is something we will look to improve our models by addressing this problem."
   ]
  },
  {
   "cell_type": "markdown",
   "metadata": {},
   "source": [
    "\n",
    "\n",
    "[Back to Top ↑](#top)"
   ]
  },
  {
   "cell_type": "markdown",
   "metadata": {},
   "source": [
    "<a id='logisticregression'></a>\n",
    "### Logistic Regression"
   ]
  },
  {
   "cell_type": "code",
   "execution_count": 178,
   "metadata": {},
   "outputs": [
    {
     "name": "stdout",
     "output_type": "stream",
     "text": [
      "              precision    recall  f1-score   support\n",
      "\n",
      "           0       0.85      0.83      0.84    103276\n",
      "           1       0.83      0.85      0.84    103276\n",
      "\n",
      "    accuracy                           0.84    206552\n",
      "   macro avg       0.84      0.84      0.84    206552\n",
      "weighted avg       0.84      0.84      0.84    206552\n",
      "\n"
     ]
    },
    {
     "data": {
      "image/png": "[encoded data removed]",
      "text/plain": [
       "<Figure size 720x720 with 2 Axes>"
      ]
     },
     "metadata": {
      "needs_background": "light"
     },
     "output_type": "display_data"
    }
   ],
   "source": [
    "clf_lr = LogisticRegression(fit_intercept=True, C=1e12, solver='liblinear', penalty='l2')\n",
    "clf_lr.fit(X_train_resampled, y_train_resampled)\n",
    "\n",
    "y_hat_lr_train = clf_lr.predict(X_train_resampled)\n",
    "print(classification_report(y_train_resampled, y_hat_lr_train))\n",
    "show_confusion_matrix(clf_lr, X_train_resampled, y_train_resampled, title='Logistic Regression - Training Set (Normalized)');"
   ]
  },
  {
   "cell_type": "code",
   "execution_count": 179,
   "metadata": {},
   "outputs": [
    {
     "name": "stdout",
     "output_type": "stream",
     "text": [
      "              precision    recall  f1-score   support\n",
      "\n",
      "           0       0.50      0.83      0.63     33858\n",
      "           1       0.96      0.85      0.90    186414\n",
      "\n",
      "    accuracy                           0.85    220272\n",
      "   macro avg       0.73      0.84      0.76    220272\n",
      "weighted avg       0.89      0.85      0.86    220272\n",
      "\n"
     ]
    },
    {
     "data": {
      "image/png": "[encoded data removed]",
      "text/plain": [
       "<Figure size 720x720 with 2 Axes>"
      ]
     },
     "metadata": {
      "needs_background": "light"
     },
     "output_type": "display_data"
    }
   ],
   "source": [
    "y_hat_lr_test = clf_lr.predict(X_test_numeric)\n",
    "print(classification_report(y_test, y_hat_lr_test))\n",
    "show_confusion_matrix(clf_lr, X_test_numeric, y_test, title='Logistic Regression - Test Set (Normalized)');"
   ]
  },
  {
   "cell_type": "markdown",
   "metadata": {},
   "source": [
    "\n",
    "\n",
    "[Back to Top ↑](#top)"
   ]
  },
  {
   "cell_type": "markdown",
   "metadata": {},
   "source": [
    "<a id='naivebayes'></a>\n",
    "### Naive Bayes"
   ]
  },
  {
   "cell_type": "code",
   "execution_count": 180,
   "metadata": {},
   "outputs": [
    {
     "name": "stdout",
     "output_type": "stream",
     "text": [
      "              precision    recall  f1-score   support\n",
      "\n",
      "           0       0.86      0.79      0.82    103276\n",
      "           1       0.81      0.87      0.84    103276\n",
      "\n",
      "    accuracy                           0.83    206552\n",
      "   macro avg       0.83      0.83      0.83    206552\n",
      "weighted avg       0.83      0.83      0.83    206552\n",
      "\n"
     ]
    },
    {
     "data": {
      "image/png": "[encoded data removed]",
      "text/plain": [
       "<Figure size 720x720 with 2 Axes>"
      ]
     },
     "metadata": {
      "needs_background": "light"
     },
     "output_type": "display_data"
    }
   ],
   "source": [
    "clf_nb = GaussianNB()\n",
    "clf_nb.fit(X_train_resampled, y_train_resampled)\n",
    "\n",
    "y_hat_nb_train = clf_nb.predict(X_train_resampled)\n",
    "print(classification_report(y_train_resampled, y_hat_nb_train))\n",
    "show_confusion_matrix(clf_nb, X_train_resampled, y_train_resampled, title='Naive Bayes - Training Set (Normalized)');"
   ]
  },
  {
   "cell_type": "code",
   "execution_count": 181,
   "metadata": {},
   "outputs": [
    {
     "name": "stdout",
     "output_type": "stream",
     "text": [
      "              precision    recall  f1-score   support\n",
      "\n",
      "           0       0.53      0.79      0.64     33858\n",
      "           1       0.96      0.87      0.91    186414\n",
      "\n",
      "    accuracy                           0.86    220272\n",
      "   macro avg       0.74      0.83      0.77    220272\n",
      "weighted avg       0.89      0.86      0.87    220272\n",
      "\n"
     ]
    },
    {
     "data": {
      "image/png": "[encoded data removed]",
      "text/plain": [
       "<Figure size 720x720 with 2 Axes>"
      ]
     },
     "metadata": {
      "needs_background": "light"
     },
     "output_type": "display_data"
    }
   ],
   "source": [
    "y_hat_nb_test = clf_nb.predict(X_test_numeric)\n",
    "print(classification_report(y_test, y_hat_nb_test))\n",
    "show_confusion_matrix(clf_nb, X_test_numeric, y_test, title='Naive Bayes - Test Set (Normalized)');"
   ]
  },
  {
   "cell_type": "markdown",
   "metadata": {},
   "source": [
    "\n",
    "\n",
    "[Back to Top ↑](#top)"
   ]
  },
  {
   "cell_type": "markdown",
   "metadata": {},
   "source": [
    "<a id='kneighbors'></a>\n",
    "### K Nearest Neighbors"
   ]
  },
  {
   "cell_type": "code",
   "execution_count": 182,
   "metadata": {},
   "outputs": [
    {
     "name": "stdout",
     "output_type": "stream",
     "text": [
      "              precision    recall  f1-score   support\n",
      "\n",
      "           0       0.85      0.89      0.87    103276\n",
      "           1       0.88      0.84      0.86    103276\n",
      "\n",
      "    accuracy                           0.86    206552\n",
      "   macro avg       0.87      0.86      0.86    206552\n",
      "weighted avg       0.87      0.86      0.86    206552\n",
      "\n"
     ]
    },
    {
     "data": {
      "image/png": "[encoded data removed]",
      "text/plain": [
       "<Figure size 720x720 with 2 Axes>"
      ]
     },
     "metadata": {
      "needs_background": "light"
     },
     "output_type": "display_data"
    }
   ],
   "source": [
    "clf_knn = KNeighborsClassifier()\n",
    "clf_knn.fit(X_train_resampled, y_train_resampled)\n",
    "\n",
    "y_hat_knn_train = clf_knn.predict(X_train_resampled)\n",
    "print(classification_report(y_train_resampled, y_hat_knn_train))\n",
    "show_confusion_matrix(clf_knn, X_train_resampled, y_train_resampled, title='K Nearest Neighbors - Training Set (Normalized)');"
   ]
  },
  {
   "cell_type": "code",
   "execution_count": 183,
   "metadata": {},
   "outputs": [
    {
     "name": "stdout",
     "output_type": "stream",
     "text": [
      "              precision    recall  f1-score   support\n",
      "\n",
      "           0       0.44      0.85      0.58     33858\n",
      "           1       0.97      0.80      0.88    186414\n",
      "\n",
      "    accuracy                           0.81    220272\n",
      "   macro avg       0.71      0.83      0.73    220272\n",
      "weighted avg       0.89      0.81      0.83    220272\n",
      "\n"
     ]
    },
    {
     "data": {
      "image/png": "[encoded data removed]",
      "text/plain": [
       "<Figure size 720x720 with 2 Axes>"
      ]
     },
     "metadata": {
      "needs_background": "light"
     },
     "output_type": "display_data"
    }
   ],
   "source": [
    "y_hat_knn_test = clf_knn.predict(X_test_numeric)\n",
    "print(classification_report(y_test, y_hat_knn_test))\n",
    "show_confusion_matrix(clf_knn, X_test_numeric, y_test, title='K Nearest Neighbors - Test Set (Normalized)');"
   ]
  },
  {
   "cell_type": "markdown",
   "metadata": {},
   "source": [
    "\n",
    "\n",
    "[Back to Top ↑](#top)"
   ]
  },
  {
   "cell_type": "markdown",
   "metadata": {},
   "source": [
    "<a id='#decisiontrees'></a>\n",
    "### Decision Trees"
   ]
  },
  {
   "cell_type": "code",
   "execution_count": 184,
   "metadata": {},
   "outputs": [
    {
     "name": "stdout",
     "output_type": "stream",
     "text": [
      "              precision    recall  f1-score   support\n",
      "\n",
      "           0       0.94      0.98      0.96    103276\n",
      "           1       0.98      0.94      0.96    103276\n",
      "\n",
      "    accuracy                           0.96    206552\n",
      "   macro avg       0.96      0.96      0.96    206552\n",
      "weighted avg       0.96      0.96      0.96    206552\n",
      "\n"
     ]
    },
    {
     "data": {
      "image/png": "[encoded data removed]",
      "text/plain": [
       "<Figure size 720x720 with 2 Axes>"
      ]
     },
     "metadata": {
      "needs_background": "light"
     },
     "output_type": "display_data"
    }
   ],
   "source": [
    "clf_dt = DecisionTreeClassifier(criterion='entropy')\n",
    "clf_dt.fit(X_train_resampled, y_train_resampled)\n",
    "\n",
    "y_hat_dt_train = clf_dt.predict(X_train_resampled)\n",
    "print(classification_report(y_train_resampled, y_hat_dt_train))\n",
    "show_confusion_matrix(clf_dt, X_train_resampled, y_train_resampled, title='Decision Tree - Training Set (Normalized)');"
   ]
  },
  {
   "cell_type": "code",
   "execution_count": 185,
   "metadata": {},
   "outputs": [
    {
     "name": "stdout",
     "output_type": "stream",
     "text": [
      "              precision    recall  f1-score   support\n",
      "\n",
      "           0       0.39      0.82      0.53     33858\n",
      "           1       0.96      0.77      0.86    186414\n",
      "\n",
      "    accuracy                           0.78    220272\n",
      "   macro avg       0.68      0.79      0.69    220272\n",
      "weighted avg       0.87      0.78      0.81    220272\n",
      "\n"
     ]
    },
    {
     "data": {
      "image/png": "[encoded data removed]",
      "text/plain": [
       "<Figure size 720x720 with 2 Axes>"
      ]
     },
     "metadata": {
      "needs_background": "light"
     },
     "output_type": "display_data"
    }
   ],
   "source": [
    "y_hat_dt_test = clf_dt.predict(X_test_numeric)\n",
    "print(classification_report(y_test, y_hat_dt_test))\n",
    "show_confusion_matrix(clf_dt, X_test_numeric, y_test, title='Decision Tree - Test Set (Normalized)');"
   ]
  },
  {
   "cell_type": "markdown",
   "metadata": {},
   "source": [
    "\n",
    "\n",
    "[Back to Top ↑](#top)"
   ]
  },
  {
   "cell_type": "markdown",
   "metadata": {},
   "source": [
    "<a id='#baggedtrees'></a>\n",
    "### Bagged Trees"
   ]
  },
  {
   "cell_type": "code",
   "execution_count": 186,
   "metadata": {},
   "outputs": [
    {
     "name": "stdout",
     "output_type": "stream",
     "text": [
      "              precision    recall  f1-score   support\n",
      "\n",
      "           0       0.83      0.87      0.85    103276\n",
      "           1       0.87      0.82      0.84    103276\n",
      "\n",
      "    accuracy                           0.84    206552\n",
      "   macro avg       0.85      0.84      0.84    206552\n",
      "weighted avg       0.85      0.84      0.84    206552\n",
      "\n"
     ]
    },
    {
     "data": {
      "image/png": "[encoded data removed]",
      "text/plain": [
       "<Figure size 720x720 with 2 Axes>"
      ]
     },
     "metadata": {
      "needs_background": "light"
     },
     "output_type": "display_data"
    }
   ],
   "source": [
    "clf_bagged = BaggingClassifier(DecisionTreeClassifier(criterion='gini', max_leaf_nodes=100), \n",
    "                                 n_estimators=20)\n",
    "clf_bagged.fit(X_train_resampled, y_train_resampled)\n",
    "\n",
    "y_hat_bagged_train = clf_bagged.predict(X_train_resampled)\n",
    "print(classification_report(y_train_resampled, y_hat_bagged_train))\n",
    "show_confusion_matrix(clf_bagged, X_train_resampled, y_train_resampled, title='Bagged Trees - Training Set (Normalized)');"
   ]
  },
  {
   "cell_type": "code",
   "execution_count": 187,
   "metadata": {},
   "outputs": [
    {
     "name": "stdout",
     "output_type": "stream",
     "text": [
      "              precision    recall  f1-score   support\n",
      "\n",
      "           0       0.46      0.87      0.60     33858\n",
      "           1       0.97      0.82      0.89    186414\n",
      "\n",
      "    accuracy                           0.82    220272\n",
      "   macro avg       0.72      0.84      0.75    220272\n",
      "weighted avg       0.89      0.82      0.84    220272\n",
      "\n"
     ]
    },
    {
     "data": {
      "image/png": "[encoded data removed]",
      "text/plain": [
       "<Figure size 720x720 with 2 Axes>"
      ]
     },
     "metadata": {
      "needs_background": "light"
     },
     "output_type": "display_data"
    }
   ],
   "source": [
    "y_hat_bagged_test = clf_bagged.predict(X_test_numeric)\n",
    "print(classification_report(y_test, y_hat_bagged_test))\n",
    "show_confusion_matrix(clf_bagged, X_test_numeric, y_test, title='Bagged Trees - Test Set (Normalized)');"
   ]
  },
  {
   "cell_type": "markdown",
   "metadata": {},
   "source": [
    "\n",
    "\n",
    "[Back to Top ↑](#top)"
   ]
  },
  {
   "cell_type": "markdown",
   "metadata": {},
   "source": [
    "<a id='randomforest'></a>\n",
    "### Random Forest"
   ]
  },
  {
   "cell_type": "code",
   "execution_count": 188,
   "metadata": {},
   "outputs": [
    {
     "name": "stdout",
     "output_type": "stream",
     "text": [
      "              precision    recall  f1-score   support\n",
      "\n",
      "           0       0.86      0.91      0.88    103276\n",
      "           1       0.90      0.86      0.88    103276\n",
      "\n",
      "    accuracy                           0.88    206552\n",
      "   macro avg       0.88      0.88      0.88    206552\n",
      "weighted avg       0.88      0.88      0.88    206552\n",
      "\n"
     ]
    },
    {
     "data": {
      "image/png": "[encoded data removed]",
      "text/plain": [
       "<Figure size 720x720 with 2 Axes>"
      ]
     },
     "metadata": {
      "needs_background": "light"
     },
     "output_type": "display_data"
    }
   ],
   "source": [
    "clf_forest = RandomForestClassifier(n_estimators=100, max_depth = 15)\n",
    "clf_forest.fit(X_train_resampled, y_train_resampled)\n",
    "\n",
    "y_hat_forest_train = clf_forest.predict(X_train_resampled)\n",
    "print(classification_report(y_train_resampled, y_hat_forest_train))\n",
    "show_confusion_matrix(clf_forest, X_train_resampled, y_train_resampled, title='Random Forest - Training Set (Normalized)');"
   ]
  },
  {
   "cell_type": "code",
   "execution_count": 189,
   "metadata": {},
   "outputs": [
    {
     "name": "stdout",
     "output_type": "stream",
     "text": [
      "              precision    recall  f1-score   support\n",
      "\n",
      "           0       0.46      0.87      0.60     33858\n",
      "           1       0.97      0.82      0.89    186414\n",
      "\n",
      "    accuracy                           0.82    220272\n",
      "   macro avg       0.72      0.84      0.75    220272\n",
      "weighted avg       0.89      0.82      0.84    220272\n",
      "\n"
     ]
    },
    {
     "data": {
      "image/png": "[encoded data removed]",
      "text/plain": [
       "<Figure size 720x720 with 2 Axes>"
      ]
     },
     "metadata": {
      "needs_background": "light"
     },
     "output_type": "display_data"
    }
   ],
   "source": [
    "y_hat_forest_test = clf_forest.predict(X_test_numeric)\n",
    "print(classification_report(y_test, y_hat_forest_test))\n",
    "show_confusion_matrix(clf_forest, X_test_numeric, y_test, title='Random Forest - Test Set (Normalized)');"
   ]
  },
  {
   "cell_type": "code",
   "execution_count": 197,
   "metadata": {},
   "outputs": [],
   "source": [
    "pickle.dump( clf_forest, open( \"../models/save.forest\", \"wb\" ) )"
   ]
  },
  {
   "cell_type": "markdown",
   "metadata": {},
   "source": [
    "\n",
    "\n",
    "[Back to Top ↑](#top)"
   ]
  },
  {
   "cell_type": "markdown",
   "metadata": {},
   "source": [
    "<a id='adaboost'></a>\n",
    "### Adaboost"
   ]
  },
  {
   "cell_type": "code",
   "execution_count": 190,
   "metadata": {},
   "outputs": [
    {
     "name": "stdout",
     "output_type": "stream",
     "text": [
      "              precision    recall  f1-score   support\n",
      "\n",
      "           0       0.83      0.86      0.84    103276\n",
      "           1       0.85      0.82      0.84    103276\n",
      "\n",
      "    accuracy                           0.84    206552\n",
      "   macro avg       0.84      0.84      0.84    206552\n",
      "weighted avg       0.84      0.84      0.84    206552\n",
      "\n"
     ]
    },
    {
     "data": {
      "image/png": "[encoded data removed]",
      "text/plain": [
       "<Figure size 720x720 with 2 Axes>"
      ]
     },
     "metadata": {
      "needs_background": "light"
     },
     "output_type": "display_data"
    }
   ],
   "source": [
    "clf_ab = AdaBoostClassifier()\n",
    "clf_ab.fit(X_train_resampled, y_train_resampled)\n",
    "\n",
    "y_hat_ab_train = clf_ab.predict(X_train_resampled)\n",
    "print(classification_report(y_train_resampled, y_hat_ab_train))\n",
    "show_confusion_matrix(clf_ab, X_train_resampled, y_train_resampled, title='Adaboost - Training Set (Normalized)');"
   ]
  },
  {
   "cell_type": "code",
   "execution_count": 191,
   "metadata": {},
   "outputs": [
    {
     "name": "stdout",
     "output_type": "stream",
     "text": [
      "              precision    recall  f1-score   support\n",
      "\n",
      "           0       0.47      0.86      0.61     33858\n",
      "           1       0.97      0.82      0.89    186414\n",
      "\n",
      "    accuracy                           0.83    220272\n",
      "   macro avg       0.72      0.84      0.75    220272\n",
      "weighted avg       0.89      0.83      0.85    220272\n",
      "\n"
     ]
    },
    {
     "data": {
      "image/png": "[encoded data removed]",
      "text/plain": [
       "<Figure size 720x720 with 2 Axes>"
      ]
     },
     "metadata": {
      "needs_background": "light"
     },
     "output_type": "display_data"
    }
   ],
   "source": [
    "y_hat_ab_test = clf_ab.predict(X_test_numeric)\n",
    "print(classification_report(y_test, y_hat_ab_test))\n",
    "show_confusion_matrix(clf_ab, X_test_numeric, y_test, title='Adaboost - Test Set (Normalized)');"
   ]
  },
  {
   "cell_type": "markdown",
   "metadata": {},
   "source": [
    "\n",
    "\n",
    "[Back to Top ↑](#top)"
   ]
  },
  {
   "cell_type": "markdown",
   "metadata": {},
   "source": [
    "<a id='gradientboost'></a>\n",
    "### Gradient Boost"
   ]
  },
  {
   "cell_type": "code",
   "execution_count": 192,
   "metadata": {},
   "outputs": [
    {
     "name": "stdout",
     "output_type": "stream",
     "text": [
      "              precision    recall  f1-score   support\n",
      "\n",
      "           0       0.82      0.87      0.85    103276\n",
      "           1       0.86      0.82      0.84    103276\n",
      "\n",
      "    accuracy                           0.84    206552\n",
      "   macro avg       0.84      0.84      0.84    206552\n",
      "weighted avg       0.84      0.84      0.84    206552\n",
      "\n"
     ]
    },
    {
     "data": {
      "image/png": "[encoded data removed]",
      "text/plain": [
       "<Figure size 720x720 with 2 Axes>"
      ]
     },
     "metadata": {
      "needs_background": "light"
     },
     "output_type": "display_data"
    }
   ],
   "source": [
    "clf_gb = GradientBoostingClassifier()\n",
    "clf_gb.fit(X_train_resampled, y_train_resampled)\n",
    "\n",
    "y_hat_gb_train = clf_gb.predict(X_train_resampled)\n",
    "\n",
    "print(classification_report(y_train_resampled, y_hat_gb_train))\n",
    "show_confusion_matrix(clf_gb, X_train_resampled, y_train_resampled, title='Gradient Boost - Training Set (Normalized)');"
   ]
  },
  {
   "cell_type": "code",
   "execution_count": 193,
   "metadata": {},
   "outputs": [
    {
     "name": "stdout",
     "output_type": "stream",
     "text": [
      "              precision    recall  f1-score   support\n",
      "\n",
      "           0       0.46      0.87      0.60     33858\n",
      "           1       0.97      0.82      0.89    186414\n",
      "\n",
      "    accuracy                           0.82    220272\n",
      "   macro avg       0.72      0.84      0.75    220272\n",
      "weighted avg       0.89      0.82      0.84    220272\n",
      "\n"
     ]
    },
    {
     "data": {
      "image/png": "[encoded data removed]",
      "text/plain": [
       "<Figure size 720x720 with 2 Axes>"
      ]
     },
     "metadata": {
      "needs_background": "light"
     },
     "output_type": "display_data"
    }
   ],
   "source": [
    "y_hat_gb_test = clf_gb.predict(X_test_numeric)\n",
    "print(classification_report(y_test, y_hat_gb_test))\n",
    "show_confusion_matrix(clf_gb, X_test_numeric, y_test, title='Gradient Boost - Test Set (Normalized)');"
   ]
  },
  {
   "cell_type": "markdown",
   "metadata": {},
   "source": [
    "\n",
    "\n",
    "[Back to Top ↑](#top)"
   ]
  },
  {
   "cell_type": "markdown",
   "metadata": {},
   "source": [
    "<a id='countvectorization'></a>\n",
    "### Improved Results through Count Vectorization\n",
    "\n",
    "In addition to our experiments with VADER, we also tried Count Vectorization, collecting the universal set of every word appearing in a review in our sample, and then transforming each review into a sparsely populated vector counting the number of times each word in the universal set occurs in that review so that we could use these vectors as predictors.\n",
    "\n",
    "When run using a train-test split of all 960,000 reviews in our watches dataset, this method yielded better results in terms of generalizability, giving us 71% accuracy for Logistic Regression against both the training set and the test set. The downside was that it was incredibly slow and required a vast amount of memory, frequently forcing the kernel to restart before processing completed.\n",
    "\n",
    "Results were not as strong when working with the much smaller 20,000-25,000 review random sample used for the rest of our analysis. Note the 20% score gap between training set and test set below, indicating a strong possibility of overfitting once again."
   ]
  },
  {
   "cell_type": "code",
   "execution_count": 194,
   "metadata": {},
   "outputs": [],
   "source": [
    "# X_train_vector, X_test_vector = get_vectorized_features(X_train, X_test)"
   ]
  },
  {
   "cell_type": "code",
   "execution_count": 196,
   "metadata": {},
   "outputs": [],
   "source": [
    "# lr = LogisticRegression(penalty = 'l2')\n",
    "# lr.fit(X_train_vector, y_train)"
   ]
  },
  {
   "cell_type": "code",
   "execution_count": null,
   "metadata": {},
   "outputs": [],
   "source": [
    "lr.score(X_train_vector, y_train)"
   ]
  },
  {
   "cell_type": "code",
   "execution_count": null,
   "metadata": {},
   "outputs": [],
   "source": [
    "lr.score(X_test_vector, y_test)"
   ]
  },
  {
   "cell_type": "markdown",
   "metadata": {},
   "source": [
    "<a id='visualizations'></a>\n",
    "### Visualizations\n",
    "\n",
    "The visualizations below help to illustrate how the words and phrases in different classes of reviews differ from each other.\n",
    "\n",
    "### Word Cloud for 5-Star Reviews"
   ]
  },
  {
   "cell_type": "code",
   "execution_count": null,
   "metadata": {},
   "outputs": [],
   "source": [
    "n_star_review_wordcloud(df, 5)"
   ]
  },
  {
   "cell_type": "markdown",
   "metadata": {},
   "source": [
    "### Word Cloud for 3-Star Reviews\n"
   ]
  },
  {
   "cell_type": "code",
   "execution_count": null,
   "metadata": {},
   "outputs": [],
   "source": [
    "# n_star_review_wordcloud(df, 3)"
   ]
  },
  {
   "cell_type": "markdown",
   "metadata": {},
   "source": [
    "### Word Cloud for 1-Star Reviews\n"
   ]
  },
  {
   "cell_type": "code",
   "execution_count": null,
   "metadata": {},
   "outputs": [],
   "source": [
    "n_star_review_wordcloud(df, 1)"
   ]
  },
  {
   "cell_type": "markdown",
   "metadata": {},
   "source": [
    "\n",
    "[Back to Top ↑](#top)"
   ]
  },
  {
   "cell_type": "markdown",
   "metadata": {},
   "source": [
    "<a id='recommendations'></a>\n",
    "### Recommendations & Next Steps"
   ]
  },
  {
   "cell_type": "markdown",
   "metadata": {},
   "source": [
    "Through our analysis we've established the starting point for a framework by which the text of an Amazon review text can be used to predict the star rating associated with that review. Significant work remains in terms of improving the generalizability of these predictions so that they perform with a high degree of accuracy on new data outside of the training set. \n",
    "\n",
    "To accomplish this, we will continue to tune our models to find the optimal parameters and also seek to test additional models such as XGBoost, SVC, and Kernel Approximation. Given the promise shown by our Count Vectorization experiments, continuing to explore that method and other NLP techniques should be helpful in continuing to improve the performance of our models.\n",
    "\n",
    "Further, we will seek to work with additional categories of data, and also explore the possibility of predicting only whether a review is \"good\" (4 or 5 stars) or \"bad\" (1 or 2 stars), which may be just as valuable or more valuable to a business as knowing the precise star rating.\n",
    "\n",
    "Our eventual goal is that our process can be deployed on customer conversations anywhere, in any form, allowing businesses to proceed up with the appropriate automated customer service response (either internal to the business or directly to the customer), based on the class of the message and perhaps other contextual data that may provide further clues and insights.\n",
    "\n",
    "\n",
    "\n",
    "[Back to Top ↑](#top)"
   ]
  }
 ],
 "metadata": {
  "kernelspec": {
   "display_name": "Python 3",
   "language": "python",
   "name": "python3"
  },
  "language_info": {
   "codemirror_mode": {
    "name": "ipython",
    "version": 3
   },
   "file_extension": ".py",
   "mimetype": "text/x-python",
   "name": "python",
   "nbconvert_exporter": "python",
   "pygments_lexer": "ipython3",
   "version": "3.7.4"
  }
 },
 "nbformat": 4,
 "nbformat_minor": 4
}
