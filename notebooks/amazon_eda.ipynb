{
 "cells": [
  {
   "cell_type": "code",
   "execution_count": 4,
   "metadata": {},
   "outputs": [],
   "source": [
    "# !pip install vaderSentiment\n",
    "# !pip install imblearn\n",
    "# !pip install xgboost"
   ]
  },
  {
   "cell_type": "code",
   "execution_count": 1,
   "metadata": {},
   "outputs": [],
   "source": [
    "import numpy as np\n",
    "import pandas as pd\n",
    "from sklearn.svm import SVC\n",
    "from imblearn.over_sampling import SMOTE\n",
    "from sklearn.tree import DecisionTreeClassifier \n",
    "from sklearn.neighbors import KNeighborsClassifier\n",
    "from sklearn.linear_model import LogisticRegression\n",
    "from sklearn.model_selection import train_test_split\n",
    "from vaderSentiment.vaderSentiment import SentimentIntensityAnalyzer\n",
    "from sklearn.metrics import confusion_matrix, classification_report, plot_confusion_matrix\n",
    "from sklearn.ensemble import BaggingClassifier, RandomForestClassifier, AdaBoostClassifier, GradientBoostingClassifier\n",
    "\n",
    "from nltk.corpus import stopwords\n",
    "from nltk.stem import WordNetLemmatizer\n",
    "from nltk.tokenize import RegexpTokenizer, sent_tokenize\n",
    "from sklearn.feature_extraction.text import CountVectorizer, TfidfVectorizer"
   ]
  },
  {
   "cell_type": "code",
   "execution_count": 2,
   "metadata": {},
   "outputs": [
    {
     "name": "stderr",
     "output_type": "stream",
     "text": [
      "b'Skipping line 8704: expected 15 fields, saw 22\\nSkipping line 16933: expected 15 fields, saw 22\\nSkipping line 23726: expected 15 fields, saw 22\\n'\n",
      "b'Skipping line 85637: expected 15 fields, saw 22\\n'\n",
      "b'Skipping line 132136: expected 15 fields, saw 22\\nSkipping line 158070: expected 15 fields, saw 22\\nSkipping line 166007: expected 15 fields, saw 22\\nSkipping line 171877: expected 15 fields, saw 22\\nSkipping line 177756: expected 15 fields, saw 22\\nSkipping line 181773: expected 15 fields, saw 22\\nSkipping line 191085: expected 15 fields, saw 22\\nSkipping line 196273: expected 15 fields, saw 22\\nSkipping line 196331: expected 15 fields, saw 22\\n'\n",
      "b'Skipping line 197000: expected 15 fields, saw 22\\nSkipping line 197011: expected 15 fields, saw 22\\nSkipping line 197432: expected 15 fields, saw 22\\nSkipping line 208016: expected 15 fields, saw 22\\nSkipping line 214110: expected 15 fields, saw 22\\nSkipping line 244328: expected 15 fields, saw 22\\nSkipping line 248519: expected 15 fields, saw 22\\nSkipping line 254936: expected 15 fields, saw 22\\n'\n",
      "b'Skipping line 272057: expected 15 fields, saw 22\\nSkipping line 293214: expected 15 fields, saw 22\\nSkipping line 310507: expected 15 fields, saw 22\\nSkipping line 312306: expected 15 fields, saw 22\\nSkipping line 316296: expected 15 fields, saw 22\\n'\n",
      "b'Skipping line 336028: expected 15 fields, saw 22\\nSkipping line 344885: expected 15 fields, saw 22\\nSkipping line 352551: expected 15 fields, saw 22\\n'\n",
      "b'Skipping line 408773: expected 15 fields, saw 22\\nSkipping line 434535: expected 15 fields, saw 22\\n'\n",
      "b'Skipping line 581593: expected 15 fields, saw 22\\n'\n",
      "b'Skipping line 652409: expected 15 fields, saw 22\\n'\n"
     ]
    },
    {
     "data": {
      "text/html": [
       "<div>\n",
       "<style scoped>\n",
       "    .dataframe tbody tr th:only-of-type {\n",
       "        vertical-align: middle;\n",
       "    }\n",
       "\n",
       "    .dataframe tbody tr th {\n",
       "        vertical-align: top;\n",
       "    }\n",
       "\n",
       "    .dataframe thead th {\n",
       "        text-align: right;\n",
       "    }\n",
       "</style>\n",
       "<table border=\"1\" class=\"dataframe\">\n",
       "  <thead>\n",
       "    <tr style=\"text-align: right;\">\n",
       "      <th></th>\n",
       "      <th>marketplace</th>\n",
       "      <th>customer_id</th>\n",
       "      <th>review_id</th>\n",
       "      <th>product_id</th>\n",
       "      <th>product_parent</th>\n",
       "      <th>product_title</th>\n",
       "      <th>product_category</th>\n",
       "      <th>star_rating</th>\n",
       "      <th>helpful_votes</th>\n",
       "      <th>total_votes</th>\n",
       "      <th>vine</th>\n",
       "      <th>verified_purchase</th>\n",
       "      <th>review_headline</th>\n",
       "      <th>review_body</th>\n",
       "      <th>review_date</th>\n",
       "    </tr>\n",
       "  </thead>\n",
       "  <tbody>\n",
       "    <tr>\n",
       "      <td>0</td>\n",
       "      <td>US</td>\n",
       "      <td>3653882</td>\n",
       "      <td>R3O9SGZBVQBV76</td>\n",
       "      <td>B00FALQ1ZC</td>\n",
       "      <td>937001370</td>\n",
       "      <td>Invicta Women's 15150 \"Angel\" 18k Yellow Gold ...</td>\n",
       "      <td>Watches</td>\n",
       "      <td>5</td>\n",
       "      <td>0</td>\n",
       "      <td>0</td>\n",
       "      <td>N</td>\n",
       "      <td>Y</td>\n",
       "      <td>Five Stars</td>\n",
       "      <td>Absolutely love this watch! Get compliments al...</td>\n",
       "      <td>2015-08-31</td>\n",
       "    </tr>\n",
       "    <tr>\n",
       "      <td>1</td>\n",
       "      <td>US</td>\n",
       "      <td>14661224</td>\n",
       "      <td>RKH8BNC3L5DLF</td>\n",
       "      <td>B00D3RGO20</td>\n",
       "      <td>484010722</td>\n",
       "      <td>Kenneth Cole New York Women's KC4944 Automatic...</td>\n",
       "      <td>Watches</td>\n",
       "      <td>5</td>\n",
       "      <td>0</td>\n",
       "      <td>0</td>\n",
       "      <td>N</td>\n",
       "      <td>Y</td>\n",
       "      <td>I love thiswatch it keeps time wonderfully</td>\n",
       "      <td>I love this watch it keeps time wonderfully.</td>\n",
       "      <td>2015-08-31</td>\n",
       "    </tr>\n",
       "    <tr>\n",
       "      <td>2</td>\n",
       "      <td>US</td>\n",
       "      <td>27324930</td>\n",
       "      <td>R2HLE8WKZSU3NL</td>\n",
       "      <td>B00DKYC7TK</td>\n",
       "      <td>361166390</td>\n",
       "      <td>Ritche 22mm Black Stainless Steel Bracelet Wat...</td>\n",
       "      <td>Watches</td>\n",
       "      <td>2</td>\n",
       "      <td>1</td>\n",
       "      <td>1</td>\n",
       "      <td>N</td>\n",
       "      <td>Y</td>\n",
       "      <td>Two Stars</td>\n",
       "      <td>Scratches</td>\n",
       "      <td>2015-08-31</td>\n",
       "    </tr>\n",
       "    <tr>\n",
       "      <td>3</td>\n",
       "      <td>US</td>\n",
       "      <td>7211452</td>\n",
       "      <td>R31U3UH5AZ42LL</td>\n",
       "      <td>B000EQS1JW</td>\n",
       "      <td>958035625</td>\n",
       "      <td>Citizen Men's BM8180-03E Eco-Drive Stainless S...</td>\n",
       "      <td>Watches</td>\n",
       "      <td>5</td>\n",
       "      <td>0</td>\n",
       "      <td>0</td>\n",
       "      <td>N</td>\n",
       "      <td>Y</td>\n",
       "      <td>Five Stars</td>\n",
       "      <td>It works well on me. However, I found cheaper ...</td>\n",
       "      <td>2015-08-31</td>\n",
       "    </tr>\n",
       "    <tr>\n",
       "      <td>4</td>\n",
       "      <td>US</td>\n",
       "      <td>12733322</td>\n",
       "      <td>R2SV659OUJ945Y</td>\n",
       "      <td>B00A6GFD7S</td>\n",
       "      <td>765328221</td>\n",
       "      <td>Orient ER27009B Men's Symphony Automatic Stain...</td>\n",
       "      <td>Watches</td>\n",
       "      <td>4</td>\n",
       "      <td>0</td>\n",
       "      <td>0</td>\n",
       "      <td>N</td>\n",
       "      <td>Y</td>\n",
       "      <td>Beautiful face, but cheap sounding links</td>\n",
       "      <td>Beautiful watch face.  The band looks nice all...</td>\n",
       "      <td>2015-08-31</td>\n",
       "    </tr>\n",
       "    <tr>\n",
       "      <td>...</td>\n",
       "      <td>...</td>\n",
       "      <td>...</td>\n",
       "      <td>...</td>\n",
       "      <td>...</td>\n",
       "      <td>...</td>\n",
       "      <td>...</td>\n",
       "      <td>...</td>\n",
       "      <td>...</td>\n",
       "      <td>...</td>\n",
       "      <td>...</td>\n",
       "      <td>...</td>\n",
       "      <td>...</td>\n",
       "      <td>...</td>\n",
       "      <td>...</td>\n",
       "      <td>...</td>\n",
       "    </tr>\n",
       "    <tr>\n",
       "      <td>960199</td>\n",
       "      <td>US</td>\n",
       "      <td>39508379</td>\n",
       "      <td>REH8UQZAXQS40</td>\n",
       "      <td>B00005OT9I</td>\n",
       "      <td>2153632</td>\n",
       "      <td>Xhilaration&amp;#174; Silver Dial Bangle Watch</td>\n",
       "      <td>Watches</td>\n",
       "      <td>2</td>\n",
       "      <td>17</td>\n",
       "      <td>17</td>\n",
       "      <td>N</td>\n",
       "      <td>N</td>\n",
       "      <td>Great prize - but size??</td>\n",
       "      <td>It's a great watch - but you don't have a chan...</td>\n",
       "      <td>2001-12-13</td>\n",
       "    </tr>\n",
       "    <tr>\n",
       "      <td>960200</td>\n",
       "      <td>US</td>\n",
       "      <td>44704251</td>\n",
       "      <td>RJ14QPZEOI9P8</td>\n",
       "      <td>B00005QEM6</td>\n",
       "      <td>903687397</td>\n",
       "      <td>Armitron Men's Titanium 3 Eye Sport Analog Chr...</td>\n",
       "      <td>Watches</td>\n",
       "      <td>5</td>\n",
       "      <td>9</td>\n",
       "      <td>10</td>\n",
       "      <td>N</td>\n",
       "      <td>N</td>\n",
       "      <td>A very classy watch!</td>\n",
       "      <td>Well worth the price. This is a light weight, ...</td>\n",
       "      <td>2001-11-08</td>\n",
       "    </tr>\n",
       "    <tr>\n",
       "      <td>960201</td>\n",
       "      <td>US</td>\n",
       "      <td>40571775</td>\n",
       "      <td>R2B1G5650WWFCE</td>\n",
       "      <td>B00005QEME</td>\n",
       "      <td>252821780</td>\n",
       "      <td>Men's Timex Internet Messenger Sport Watch</td>\n",
       "      <td>Watches</td>\n",
       "      <td>5</td>\n",
       "      <td>3</td>\n",
       "      <td>16</td>\n",
       "      <td>N</td>\n",
       "      <td>N</td>\n",
       "      <td>This is a great watch</td>\n",
       "      <td>Dear Targeteers,&lt;BR&gt;This watch is exelent. it ...</td>\n",
       "      <td>2001-11-06</td>\n",
       "    </tr>\n",
       "    <tr>\n",
       "      <td>960202</td>\n",
       "      <td>US</td>\n",
       "      <td>44474855</td>\n",
       "      <td>R2MMGPUWXXOFI2</td>\n",
       "      <td>B00004YK0H</td>\n",
       "      <td>118389241</td>\n",
       "      <td>Energizer 393 Button Cell Battery</td>\n",
       "      <td>Watches</td>\n",
       "      <td>4</td>\n",
       "      <td>0</td>\n",
       "      <td>0</td>\n",
       "      <td>N</td>\n",
       "      <td>N</td>\n",
       "      <td>Now watt a minute here.</td>\n",
       "      <td>In the old days, the common hearing battery in...</td>\n",
       "      <td>2001-04-05</td>\n",
       "    </tr>\n",
       "    <tr>\n",
       "      <td>960203</td>\n",
       "      <td>US</td>\n",
       "      <td>44474855</td>\n",
       "      <td>R2BZMVAERMRUDE</td>\n",
       "      <td>B00004YK0H</td>\n",
       "      <td>118389241</td>\n",
       "      <td>Energizer 393 Button Cell Battery</td>\n",
       "      <td>Watches</td>\n",
       "      <td>4</td>\n",
       "      <td>5</td>\n",
       "      <td>7</td>\n",
       "      <td>N</td>\n",
       "      <td>N</td>\n",
       "      <td>1/10 Watt difference for hearing aids</td>\n",
       "      <td>I have found that a #393 watch battery is the ...</td>\n",
       "      <td>2001-04-05</td>\n",
       "    </tr>\n",
       "  </tbody>\n",
       "</table>\n",
       "<p>960204 rows × 15 columns</p>\n",
       "</div>"
      ],
      "text/plain": [
       "       marketplace  customer_id       review_id  product_id  product_parent  \\\n",
       "0               US      3653882  R3O9SGZBVQBV76  B00FALQ1ZC       937001370   \n",
       "1               US     14661224   RKH8BNC3L5DLF  B00D3RGO20       484010722   \n",
       "2               US     27324930  R2HLE8WKZSU3NL  B00DKYC7TK       361166390   \n",
       "3               US      7211452  R31U3UH5AZ42LL  B000EQS1JW       958035625   \n",
       "4               US     12733322  R2SV659OUJ945Y  B00A6GFD7S       765328221   \n",
       "...            ...          ...             ...         ...             ...   \n",
       "960199          US     39508379   REH8UQZAXQS40  B00005OT9I         2153632   \n",
       "960200          US     44704251   RJ14QPZEOI9P8  B00005QEM6       903687397   \n",
       "960201          US     40571775  R2B1G5650WWFCE  B00005QEME       252821780   \n",
       "960202          US     44474855  R2MMGPUWXXOFI2  B00004YK0H       118389241   \n",
       "960203          US     44474855  R2BZMVAERMRUDE  B00004YK0H       118389241   \n",
       "\n",
       "                                            product_title product_category  \\\n",
       "0       Invicta Women's 15150 \"Angel\" 18k Yellow Gold ...          Watches   \n",
       "1       Kenneth Cole New York Women's KC4944 Automatic...          Watches   \n",
       "2       Ritche 22mm Black Stainless Steel Bracelet Wat...          Watches   \n",
       "3       Citizen Men's BM8180-03E Eco-Drive Stainless S...          Watches   \n",
       "4       Orient ER27009B Men's Symphony Automatic Stain...          Watches   \n",
       "...                                                   ...              ...   \n",
       "960199         Xhilaration&#174; Silver Dial Bangle Watch          Watches   \n",
       "960200  Armitron Men's Titanium 3 Eye Sport Analog Chr...          Watches   \n",
       "960201         Men's Timex Internet Messenger Sport Watch          Watches   \n",
       "960202                  Energizer 393 Button Cell Battery          Watches   \n",
       "960203                  Energizer 393 Button Cell Battery          Watches   \n",
       "\n",
       "        star_rating  helpful_votes  total_votes vine verified_purchase  \\\n",
       "0                 5              0            0    N                 Y   \n",
       "1                 5              0            0    N                 Y   \n",
       "2                 2              1            1    N                 Y   \n",
       "3                 5              0            0    N                 Y   \n",
       "4                 4              0            0    N                 Y   \n",
       "...             ...            ...          ...  ...               ...   \n",
       "960199            2             17           17    N                 N   \n",
       "960200            5              9           10    N                 N   \n",
       "960201            5              3           16    N                 N   \n",
       "960202            4              0            0    N                 N   \n",
       "960203            4              5            7    N                 N   \n",
       "\n",
       "                                   review_headline  \\\n",
       "0                                       Five Stars   \n",
       "1       I love thiswatch it keeps time wonderfully   \n",
       "2                                        Two Stars   \n",
       "3                                       Five Stars   \n",
       "4         Beautiful face, but cheap sounding links   \n",
       "...                                            ...   \n",
       "960199                    Great prize - but size??   \n",
       "960200                        A very classy watch!   \n",
       "960201                       This is a great watch   \n",
       "960202                     Now watt a minute here.   \n",
       "960203       1/10 Watt difference for hearing aids   \n",
       "\n",
       "                                              review_body review_date  \n",
       "0       Absolutely love this watch! Get compliments al...  2015-08-31  \n",
       "1            I love this watch it keeps time wonderfully.  2015-08-31  \n",
       "2                                               Scratches  2015-08-31  \n",
       "3       It works well on me. However, I found cheaper ...  2015-08-31  \n",
       "4       Beautiful watch face.  The band looks nice all...  2015-08-31  \n",
       "...                                                   ...         ...  \n",
       "960199  It's a great watch - but you don't have a chan...  2001-12-13  \n",
       "960200  Well worth the price. This is a light weight, ...  2001-11-08  \n",
       "960201  Dear Targeteers,<BR>This watch is exelent. it ...  2001-11-06  \n",
       "960202  In the old days, the common hearing battery in...  2001-04-05  \n",
       "960203  I have found that a #393 watch battery is the ...  2001-04-05  \n",
       "\n",
       "[960204 rows x 15 columns]"
      ]
     },
     "execution_count": 2,
     "metadata": {},
     "output_type": "execute_result"
    }
   ],
   "source": [
    "# Health & Personal Care Category\n",
    "# df = pd.read_csv('https://s3.amazonaws.com/amazon-reviews-pds/tsv/amazon_reviews_us_Health_Personal_Care_v1_00.tsv.gz', sep='\\t', error_bad_lines=False)\n",
    "\n",
    "# Watches Category\n",
    "df = pd.read_csv('https://s3.amazonaws.com/amazon-reviews-pds/tsv/amazon_reviews_us_Watches_v1_00.tsv.gz', sep='\\t', error_bad_lines=False)\n",
    "df"
   ]
  },
  {
   "cell_type": "code",
   "execution_count": 13,
   "metadata": {},
   "outputs": [],
   "source": [
    "df = df[df.star_rating != 3]"
   ]
  },
  {
   "cell_type": "code",
   "execution_count": 19,
   "metadata": {},
   "outputs": [],
   "source": [
    "df['review_class'] = ((df['star_rating'] == 4) | (df['star_rating'] == 5)).astype(int)"
   ]
  },
  {
   "cell_type": "code",
   "execution_count": 20,
   "metadata": {},
   "outputs": [
    {
     "data": {
      "text/html": [
       "<div>\n",
       "<style scoped>\n",
       "    .dataframe tbody tr th:only-of-type {\n",
       "        vertical-align: middle;\n",
       "    }\n",
       "\n",
       "    .dataframe tbody tr th {\n",
       "        vertical-align: top;\n",
       "    }\n",
       "\n",
       "    .dataframe thead th {\n",
       "        text-align: right;\n",
       "    }\n",
       "</style>\n",
       "<table border=\"1\" class=\"dataframe\">\n",
       "  <thead>\n",
       "    <tr style=\"text-align: right;\">\n",
       "      <th></th>\n",
       "      <th>marketplace</th>\n",
       "      <th>customer_id</th>\n",
       "      <th>review_id</th>\n",
       "      <th>product_id</th>\n",
       "      <th>product_parent</th>\n",
       "      <th>product_title</th>\n",
       "      <th>product_category</th>\n",
       "      <th>star_rating</th>\n",
       "      <th>helpful_votes</th>\n",
       "      <th>total_votes</th>\n",
       "      <th>vine</th>\n",
       "      <th>verified_purchase</th>\n",
       "      <th>review_headline</th>\n",
       "      <th>review_body</th>\n",
       "      <th>review_date</th>\n",
       "      <th>review_class</th>\n",
       "    </tr>\n",
       "  </thead>\n",
       "  <tbody>\n",
       "    <tr>\n",
       "      <td>0</td>\n",
       "      <td>US</td>\n",
       "      <td>3653882</td>\n",
       "      <td>R3O9SGZBVQBV76</td>\n",
       "      <td>B00FALQ1ZC</td>\n",
       "      <td>937001370</td>\n",
       "      <td>Invicta Women's 15150 \"Angel\" 18k Yellow Gold ...</td>\n",
       "      <td>Watches</td>\n",
       "      <td>5</td>\n",
       "      <td>0</td>\n",
       "      <td>0</td>\n",
       "      <td>N</td>\n",
       "      <td>Y</td>\n",
       "      <td>Five Stars</td>\n",
       "      <td>Absolutely love this watch! Get compliments al...</td>\n",
       "      <td>2015-08-31</td>\n",
       "      <td>1</td>\n",
       "    </tr>\n",
       "    <tr>\n",
       "      <td>1</td>\n",
       "      <td>US</td>\n",
       "      <td>14661224</td>\n",
       "      <td>RKH8BNC3L5DLF</td>\n",
       "      <td>B00D3RGO20</td>\n",
       "      <td>484010722</td>\n",
       "      <td>Kenneth Cole New York Women's KC4944 Automatic...</td>\n",
       "      <td>Watches</td>\n",
       "      <td>5</td>\n",
       "      <td>0</td>\n",
       "      <td>0</td>\n",
       "      <td>N</td>\n",
       "      <td>Y</td>\n",
       "      <td>I love thiswatch it keeps time wonderfully</td>\n",
       "      <td>I love this watch it keeps time wonderfully.</td>\n",
       "      <td>2015-08-31</td>\n",
       "      <td>1</td>\n",
       "    </tr>\n",
       "    <tr>\n",
       "      <td>2</td>\n",
       "      <td>US</td>\n",
       "      <td>27324930</td>\n",
       "      <td>R2HLE8WKZSU3NL</td>\n",
       "      <td>B00DKYC7TK</td>\n",
       "      <td>361166390</td>\n",
       "      <td>Ritche 22mm Black Stainless Steel Bracelet Wat...</td>\n",
       "      <td>Watches</td>\n",
       "      <td>2</td>\n",
       "      <td>1</td>\n",
       "      <td>1</td>\n",
       "      <td>N</td>\n",
       "      <td>Y</td>\n",
       "      <td>Two Stars</td>\n",
       "      <td>Scratches</td>\n",
       "      <td>2015-08-31</td>\n",
       "      <td>0</td>\n",
       "    </tr>\n",
       "    <tr>\n",
       "      <td>3</td>\n",
       "      <td>US</td>\n",
       "      <td>7211452</td>\n",
       "      <td>R31U3UH5AZ42LL</td>\n",
       "      <td>B000EQS1JW</td>\n",
       "      <td>958035625</td>\n",
       "      <td>Citizen Men's BM8180-03E Eco-Drive Stainless S...</td>\n",
       "      <td>Watches</td>\n",
       "      <td>5</td>\n",
       "      <td>0</td>\n",
       "      <td>0</td>\n",
       "      <td>N</td>\n",
       "      <td>Y</td>\n",
       "      <td>Five Stars</td>\n",
       "      <td>It works well on me. However, I found cheaper ...</td>\n",
       "      <td>2015-08-31</td>\n",
       "      <td>1</td>\n",
       "    </tr>\n",
       "    <tr>\n",
       "      <td>4</td>\n",
       "      <td>US</td>\n",
       "      <td>12733322</td>\n",
       "      <td>R2SV659OUJ945Y</td>\n",
       "      <td>B00A6GFD7S</td>\n",
       "      <td>765328221</td>\n",
       "      <td>Orient ER27009B Men's Symphony Automatic Stain...</td>\n",
       "      <td>Watches</td>\n",
       "      <td>4</td>\n",
       "      <td>0</td>\n",
       "      <td>0</td>\n",
       "      <td>N</td>\n",
       "      <td>Y</td>\n",
       "      <td>Beautiful face, but cheap sounding links</td>\n",
       "      <td>Beautiful watch face.  The band looks nice all...</td>\n",
       "      <td>2015-08-31</td>\n",
       "      <td>1</td>\n",
       "    </tr>\n",
       "    <tr>\n",
       "      <td>...</td>\n",
       "      <td>...</td>\n",
       "      <td>...</td>\n",
       "      <td>...</td>\n",
       "      <td>...</td>\n",
       "      <td>...</td>\n",
       "      <td>...</td>\n",
       "      <td>...</td>\n",
       "      <td>...</td>\n",
       "      <td>...</td>\n",
       "      <td>...</td>\n",
       "      <td>...</td>\n",
       "      <td>...</td>\n",
       "      <td>...</td>\n",
       "      <td>...</td>\n",
       "      <td>...</td>\n",
       "      <td>...</td>\n",
       "    </tr>\n",
       "    <tr>\n",
       "      <td>960199</td>\n",
       "      <td>US</td>\n",
       "      <td>39508379</td>\n",
       "      <td>REH8UQZAXQS40</td>\n",
       "      <td>B00005OT9I</td>\n",
       "      <td>2153632</td>\n",
       "      <td>Xhilaration&amp;#174; Silver Dial Bangle Watch</td>\n",
       "      <td>Watches</td>\n",
       "      <td>2</td>\n",
       "      <td>17</td>\n",
       "      <td>17</td>\n",
       "      <td>N</td>\n",
       "      <td>N</td>\n",
       "      <td>Great prize - but size??</td>\n",
       "      <td>It's a great watch - but you don't have a chan...</td>\n",
       "      <td>2001-12-13</td>\n",
       "      <td>0</td>\n",
       "    </tr>\n",
       "    <tr>\n",
       "      <td>960200</td>\n",
       "      <td>US</td>\n",
       "      <td>44704251</td>\n",
       "      <td>RJ14QPZEOI9P8</td>\n",
       "      <td>B00005QEM6</td>\n",
       "      <td>903687397</td>\n",
       "      <td>Armitron Men's Titanium 3 Eye Sport Analog Chr...</td>\n",
       "      <td>Watches</td>\n",
       "      <td>5</td>\n",
       "      <td>9</td>\n",
       "      <td>10</td>\n",
       "      <td>N</td>\n",
       "      <td>N</td>\n",
       "      <td>A very classy watch!</td>\n",
       "      <td>Well worth the price. This is a light weight, ...</td>\n",
       "      <td>2001-11-08</td>\n",
       "      <td>1</td>\n",
       "    </tr>\n",
       "    <tr>\n",
       "      <td>960201</td>\n",
       "      <td>US</td>\n",
       "      <td>40571775</td>\n",
       "      <td>R2B1G5650WWFCE</td>\n",
       "      <td>B00005QEME</td>\n",
       "      <td>252821780</td>\n",
       "      <td>Men's Timex Internet Messenger Sport Watch</td>\n",
       "      <td>Watches</td>\n",
       "      <td>5</td>\n",
       "      <td>3</td>\n",
       "      <td>16</td>\n",
       "      <td>N</td>\n",
       "      <td>N</td>\n",
       "      <td>This is a great watch</td>\n",
       "      <td>Dear Targeteers,&lt;BR&gt;This watch is exelent. it ...</td>\n",
       "      <td>2001-11-06</td>\n",
       "      <td>1</td>\n",
       "    </tr>\n",
       "    <tr>\n",
       "      <td>960202</td>\n",
       "      <td>US</td>\n",
       "      <td>44474855</td>\n",
       "      <td>R2MMGPUWXXOFI2</td>\n",
       "      <td>B00004YK0H</td>\n",
       "      <td>118389241</td>\n",
       "      <td>Energizer 393 Button Cell Battery</td>\n",
       "      <td>Watches</td>\n",
       "      <td>4</td>\n",
       "      <td>0</td>\n",
       "      <td>0</td>\n",
       "      <td>N</td>\n",
       "      <td>N</td>\n",
       "      <td>Now watt a minute here.</td>\n",
       "      <td>In the old days, the common hearing battery in...</td>\n",
       "      <td>2001-04-05</td>\n",
       "      <td>1</td>\n",
       "    </tr>\n",
       "    <tr>\n",
       "      <td>960203</td>\n",
       "      <td>US</td>\n",
       "      <td>44474855</td>\n",
       "      <td>R2BZMVAERMRUDE</td>\n",
       "      <td>B00004YK0H</td>\n",
       "      <td>118389241</td>\n",
       "      <td>Energizer 393 Button Cell Battery</td>\n",
       "      <td>Watches</td>\n",
       "      <td>4</td>\n",
       "      <td>5</td>\n",
       "      <td>7</td>\n",
       "      <td>N</td>\n",
       "      <td>N</td>\n",
       "      <td>1/10 Watt difference for hearing aids</td>\n",
       "      <td>I have found that a #393 watch battery is the ...</td>\n",
       "      <td>2001-04-05</td>\n",
       "      <td>1</td>\n",
       "    </tr>\n",
       "  </tbody>\n",
       "</table>\n",
       "<p>881088 rows × 16 columns</p>\n",
       "</div>"
      ],
      "text/plain": [
       "       marketplace  customer_id       review_id  product_id  product_parent  \\\n",
       "0               US      3653882  R3O9SGZBVQBV76  B00FALQ1ZC       937001370   \n",
       "1               US     14661224   RKH8BNC3L5DLF  B00D3RGO20       484010722   \n",
       "2               US     27324930  R2HLE8WKZSU3NL  B00DKYC7TK       361166390   \n",
       "3               US      7211452  R31U3UH5AZ42LL  B000EQS1JW       958035625   \n",
       "4               US     12733322  R2SV659OUJ945Y  B00A6GFD7S       765328221   \n",
       "...            ...          ...             ...         ...             ...   \n",
       "960199          US     39508379   REH8UQZAXQS40  B00005OT9I         2153632   \n",
       "960200          US     44704251   RJ14QPZEOI9P8  B00005QEM6       903687397   \n",
       "960201          US     40571775  R2B1G5650WWFCE  B00005QEME       252821780   \n",
       "960202          US     44474855  R2MMGPUWXXOFI2  B00004YK0H       118389241   \n",
       "960203          US     44474855  R2BZMVAERMRUDE  B00004YK0H       118389241   \n",
       "\n",
       "                                            product_title product_category  \\\n",
       "0       Invicta Women's 15150 \"Angel\" 18k Yellow Gold ...          Watches   \n",
       "1       Kenneth Cole New York Women's KC4944 Automatic...          Watches   \n",
       "2       Ritche 22mm Black Stainless Steel Bracelet Wat...          Watches   \n",
       "3       Citizen Men's BM8180-03E Eco-Drive Stainless S...          Watches   \n",
       "4       Orient ER27009B Men's Symphony Automatic Stain...          Watches   \n",
       "...                                                   ...              ...   \n",
       "960199         Xhilaration&#174; Silver Dial Bangle Watch          Watches   \n",
       "960200  Armitron Men's Titanium 3 Eye Sport Analog Chr...          Watches   \n",
       "960201         Men's Timex Internet Messenger Sport Watch          Watches   \n",
       "960202                  Energizer 393 Button Cell Battery          Watches   \n",
       "960203                  Energizer 393 Button Cell Battery          Watches   \n",
       "\n",
       "        star_rating  helpful_votes  total_votes vine verified_purchase  \\\n",
       "0                 5              0            0    N                 Y   \n",
       "1                 5              0            0    N                 Y   \n",
       "2                 2              1            1    N                 Y   \n",
       "3                 5              0            0    N                 Y   \n",
       "4                 4              0            0    N                 Y   \n",
       "...             ...            ...          ...  ...               ...   \n",
       "960199            2             17           17    N                 N   \n",
       "960200            5              9           10    N                 N   \n",
       "960201            5              3           16    N                 N   \n",
       "960202            4              0            0    N                 N   \n",
       "960203            4              5            7    N                 N   \n",
       "\n",
       "                                   review_headline  \\\n",
       "0                                       Five Stars   \n",
       "1       I love thiswatch it keeps time wonderfully   \n",
       "2                                        Two Stars   \n",
       "3                                       Five Stars   \n",
       "4         Beautiful face, but cheap sounding links   \n",
       "...                                            ...   \n",
       "960199                    Great prize - but size??   \n",
       "960200                        A very classy watch!   \n",
       "960201                       This is a great watch   \n",
       "960202                     Now watt a minute here.   \n",
       "960203       1/10 Watt difference for hearing aids   \n",
       "\n",
       "                                              review_body review_date  \\\n",
       "0       Absolutely love this watch! Get compliments al...  2015-08-31   \n",
       "1            I love this watch it keeps time wonderfully.  2015-08-31   \n",
       "2                                               Scratches  2015-08-31   \n",
       "3       It works well on me. However, I found cheaper ...  2015-08-31   \n",
       "4       Beautiful watch face.  The band looks nice all...  2015-08-31   \n",
       "...                                                   ...         ...   \n",
       "960199  It's a great watch - but you don't have a chan...  2001-12-13   \n",
       "960200  Well worth the price. This is a light weight, ...  2001-11-08   \n",
       "960201  Dear Targeteers,<BR>This watch is exelent. it ...  2001-11-06   \n",
       "960202  In the old days, the common hearing battery in...  2001-04-05   \n",
       "960203  I have found that a #393 watch battery is the ...  2001-04-05   \n",
       "\n",
       "        review_class  \n",
       "0                  1  \n",
       "1                  1  \n",
       "2                  0  \n",
       "3                  1  \n",
       "4                  1  \n",
       "...              ...  \n",
       "960199             0  \n",
       "960200             1  \n",
       "960201             1  \n",
       "960202             1  \n",
       "960203             1  \n",
       "\n",
       "[881088 rows x 16 columns]"
      ]
     },
     "execution_count": 20,
     "metadata": {},
     "output_type": "execute_result"
    }
   ],
   "source": [
    "df"
   ]
  },
  {
   "cell_type": "code",
   "execution_count": null,
   "metadata": {},
   "outputs": [],
   "source": []
  },
  {
   "cell_type": "code",
   "execution_count": null,
   "metadata": {},
   "outputs": [],
   "source": []
  },
  {
   "cell_type": "code",
   "execution_count": null,
   "metadata": {},
   "outputs": [],
   "source": []
  },
  {
   "cell_type": "code",
   "execution_count": 11,
   "metadata": {},
   "outputs": [
    {
     "name": "stdout",
     "output_type": "stream",
     "text": [
      "<class 'pandas.core.frame.DataFrame'>\n",
      "RangeIndex: 960204 entries, 0 to 960203\n",
      "Data columns (total 15 columns):\n",
      "marketplace          960204 non-null object\n",
      "customer_id          960204 non-null int64\n",
      "review_id            960204 non-null object\n",
      "product_id           960204 non-null object\n",
      "product_parent       960204 non-null int64\n",
      "product_title        960202 non-null object\n",
      "product_category     960204 non-null object\n",
      "star_rating          960204 non-null int64\n",
      "helpful_votes        960204 non-null int64\n",
      "total_votes          960204 non-null int64\n",
      "vine                 960204 non-null object\n",
      "verified_purchase    960204 non-null object\n",
      "review_headline      960197 non-null object\n",
      "review_body          960056 non-null object\n",
      "review_date          960200 non-null object\n",
      "dtypes: int64(5), object(10)\n",
      "memory usage: 109.9+ MB\n"
     ]
    }
   ],
   "source": [
    "df.info()"
   ]
  },
  {
   "cell_type": "code",
   "execution_count": 23,
   "metadata": {},
   "outputs": [],
   "source": [
    "analyzer = SentimentIntensityAnalyzer()"
   ]
  },
  {
   "cell_type": "code",
   "execution_count": 24,
   "metadata": {},
   "outputs": [],
   "source": [
    "# Return dictionary of VADER sentiment scores for given sentence. Keys: 'neg', 'neu', 'pos', 'compound'\n",
    "def sentiment_analyzer_scores(sentence, verbose=False):\n",
    "    score = analyzer.polarity_scores(sentence)\n",
    "    if verbose: print(\"{}\".format(str(score)))\n",
    "    \n",
    "    return score\n",
    "    \n",
    "def sentiment_analyzer_scores_neg(sentence):\n",
    "    return sentiment_analyzer_scores(sentence)['neg']\n",
    "\n",
    "def sentiment_analyzer_scores_neu(sentence):\n",
    "    return sentiment_analyzer_scores(sentence)['neu']\n",
    "\n",
    "def sentiment_analyzer_scores_pos(sentence):\n",
    "    return sentiment_analyzer_scores(sentence)['pos']\n",
    "\n",
    "def sentiment_analyzer_scores_compound(sentence):\n",
    "    return sentiment_analyzer_scores(sentence)['compound']"
   ]
  },
  {
   "cell_type": "code",
   "execution_count": 25,
   "metadata": {},
   "outputs": [
    {
     "name": "stdout",
     "output_type": "stream",
     "text": [
      "<class 'pandas.core.frame.DataFrame'>\n",
      "Int64Index: 20000 entries, 925507 to 342078\n",
      "Data columns (total 21 columns):\n",
      "marketplace          20000 non-null object\n",
      "customer_id          20000 non-null int64\n",
      "review_id            20000 non-null object\n",
      "product_id           20000 non-null object\n",
      "product_parent       20000 non-null int64\n",
      "product_title        20000 non-null object\n",
      "product_category     20000 non-null object\n",
      "star_rating          20000 non-null int64\n",
      "helpful_votes        20000 non-null int64\n",
      "total_votes          20000 non-null int64\n",
      "vine                 20000 non-null object\n",
      "verified_purchase    20000 non-null object\n",
      "review_headline      20000 non-null object\n",
      "review_body          20000 non-null object\n",
      "review_date          20000 non-null object\n",
      "review_class         20000 non-null int64\n",
      "review_fulltext      20000 non-null object\n",
      "neg                  20000 non-null float64\n",
      "neu                  20000 non-null float64\n",
      "pos                  20000 non-null float64\n",
      "compound             20000 non-null float64\n",
      "dtypes: float64(4), int64(6), object(11)\n",
      "memory usage: 3.4+ MB\n"
     ]
    }
   ],
   "source": [
    "df_small = df.sample(n=20000)\n",
    "\n",
    "# Deal with missing values for any of the columns we will be using\n",
    "# df_small['star_rating'] = df_small['star_rating'].astype(int)\n",
    "df_small['review_headline'] = df_small['review_headline'].fillna('.')\n",
    "df_small['review_body'] = df_small['review_body'].fillna('.')\n",
    "df_small['review_fulltext'] = df_small['review_headline'] + '. ' + df_small['review_body']\n",
    "\n",
    "df_small['neg'] = df_small['review_fulltext'].apply(sentiment_analyzer_scores_neg)\n",
    "df_small['neu'] = df_small['review_fulltext'].apply(sentiment_analyzer_scores_neu)\n",
    "df_small['pos'] = df_small['review_fulltext'].apply(sentiment_analyzer_scores_pos)\n",
    "df_small['compound'] = df_small['review_fulltext'].apply(sentiment_analyzer_scores_compound)\n",
    "\n",
    "df_small.info()"
   ]
  },
  {
   "cell_type": "code",
   "execution_count": 26,
   "metadata": {},
   "outputs": [
    {
     "data": {
      "text/plain": [
       "5    12953\n",
       "4     3925\n",
       "1     1931\n",
       "2     1191\n",
       "Name: star_rating, dtype: int64"
      ]
     },
     "execution_count": 26,
     "metadata": {},
     "output_type": "execute_result"
    }
   ],
   "source": [
    "df_small['star_rating'].value_counts()"
   ]
  },
  {
   "cell_type": "code",
   "execution_count": 27,
   "metadata": {},
   "outputs": [
    {
     "name": "stdout",
     "output_type": "stream",
     "text": [
      "<class 'pandas.core.frame.DataFrame'>\n",
      "Int64Index: 20000 entries, 925507 to 342078\n",
      "Data columns (total 10 columns):\n",
      "customer_id       20000 non-null int64\n",
      "product_parent    20000 non-null int64\n",
      "star_rating       20000 non-null int64\n",
      "helpful_votes     20000 non-null int64\n",
      "total_votes       20000 non-null int64\n",
      "review_class      20000 non-null int64\n",
      "neg               20000 non-null float64\n",
      "neu               20000 non-null float64\n",
      "pos               20000 non-null float64\n",
      "compound          20000 non-null float64\n",
      "dtypes: float64(4), int64(6)\n",
      "memory usage: 1.7 MB\n"
     ]
    },
    {
     "data": {
      "text/html": [
       "<div>\n",
       "<style scoped>\n",
       "    .dataframe tbody tr th:only-of-type {\n",
       "        vertical-align: middle;\n",
       "    }\n",
       "\n",
       "    .dataframe tbody tr th {\n",
       "        vertical-align: top;\n",
       "    }\n",
       "\n",
       "    .dataframe thead th {\n",
       "        text-align: right;\n",
       "    }\n",
       "</style>\n",
       "<table border=\"1\" class=\"dataframe\">\n",
       "  <thead>\n",
       "    <tr style=\"text-align: right;\">\n",
       "      <th></th>\n",
       "      <th>customer_id</th>\n",
       "      <th>product_parent</th>\n",
       "      <th>star_rating</th>\n",
       "      <th>helpful_votes</th>\n",
       "      <th>total_votes</th>\n",
       "      <th>review_class</th>\n",
       "      <th>neg</th>\n",
       "      <th>neu</th>\n",
       "      <th>pos</th>\n",
       "      <th>compound</th>\n",
       "    </tr>\n",
       "  </thead>\n",
       "  <tbody>\n",
       "    <tr>\n",
       "      <td>925507</td>\n",
       "      <td>32300045</td>\n",
       "      <td>41385950</td>\n",
       "      <td>4</td>\n",
       "      <td>0</td>\n",
       "      <td>1</td>\n",
       "      <td>1</td>\n",
       "      <td>0.000</td>\n",
       "      <td>1.000</td>\n",
       "      <td>0.000</td>\n",
       "      <td>0.0000</td>\n",
       "    </tr>\n",
       "    <tr>\n",
       "      <td>183942</td>\n",
       "      <td>44094333</td>\n",
       "      <td>744159218</td>\n",
       "      <td>2</td>\n",
       "      <td>0</td>\n",
       "      <td>1</td>\n",
       "      <td>0</td>\n",
       "      <td>0.262</td>\n",
       "      <td>0.738</td>\n",
       "      <td>0.000</td>\n",
       "      <td>-0.9431</td>\n",
       "    </tr>\n",
       "    <tr>\n",
       "      <td>487818</td>\n",
       "      <td>2309326</td>\n",
       "      <td>364754751</td>\n",
       "      <td>5</td>\n",
       "      <td>0</td>\n",
       "      <td>0</td>\n",
       "      <td>1</td>\n",
       "      <td>0.000</td>\n",
       "      <td>1.000</td>\n",
       "      <td>0.000</td>\n",
       "      <td>0.0000</td>\n",
       "    </tr>\n",
       "    <tr>\n",
       "      <td>35599</td>\n",
       "      <td>10801539</td>\n",
       "      <td>445678999</td>\n",
       "      <td>5</td>\n",
       "      <td>0</td>\n",
       "      <td>0</td>\n",
       "      <td>1</td>\n",
       "      <td>0.000</td>\n",
       "      <td>0.717</td>\n",
       "      <td>0.283</td>\n",
       "      <td>0.8581</td>\n",
       "    </tr>\n",
       "    <tr>\n",
       "      <td>364874</td>\n",
       "      <td>48649983</td>\n",
       "      <td>793248827</td>\n",
       "      <td>4</td>\n",
       "      <td>0</td>\n",
       "      <td>0</td>\n",
       "      <td>1</td>\n",
       "      <td>0.000</td>\n",
       "      <td>0.580</td>\n",
       "      <td>0.420</td>\n",
       "      <td>0.4404</td>\n",
       "    </tr>\n",
       "    <tr>\n",
       "      <td>...</td>\n",
       "      <td>...</td>\n",
       "      <td>...</td>\n",
       "      <td>...</td>\n",
       "      <td>...</td>\n",
       "      <td>...</td>\n",
       "      <td>...</td>\n",
       "      <td>...</td>\n",
       "      <td>...</td>\n",
       "      <td>...</td>\n",
       "      <td>...</td>\n",
       "    </tr>\n",
       "    <tr>\n",
       "      <td>912778</td>\n",
       "      <td>34085305</td>\n",
       "      <td>876715961</td>\n",
       "      <td>5</td>\n",
       "      <td>2</td>\n",
       "      <td>2</td>\n",
       "      <td>1</td>\n",
       "      <td>0.170</td>\n",
       "      <td>0.530</td>\n",
       "      <td>0.300</td>\n",
       "      <td>0.6900</td>\n",
       "    </tr>\n",
       "    <tr>\n",
       "      <td>564794</td>\n",
       "      <td>47018436</td>\n",
       "      <td>952380499</td>\n",
       "      <td>5</td>\n",
       "      <td>2</td>\n",
       "      <td>2</td>\n",
       "      <td>1</td>\n",
       "      <td>0.000</td>\n",
       "      <td>0.625</td>\n",
       "      <td>0.375</td>\n",
       "      <td>0.9324</td>\n",
       "    </tr>\n",
       "    <tr>\n",
       "      <td>640785</td>\n",
       "      <td>20597251</td>\n",
       "      <td>961043582</td>\n",
       "      <td>5</td>\n",
       "      <td>0</td>\n",
       "      <td>0</td>\n",
       "      <td>1</td>\n",
       "      <td>0.000</td>\n",
       "      <td>0.644</td>\n",
       "      <td>0.356</td>\n",
       "      <td>0.9612</td>\n",
       "    </tr>\n",
       "    <tr>\n",
       "      <td>742544</td>\n",
       "      <td>41586788</td>\n",
       "      <td>740675803</td>\n",
       "      <td>5</td>\n",
       "      <td>0</td>\n",
       "      <td>0</td>\n",
       "      <td>1</td>\n",
       "      <td>0.000</td>\n",
       "      <td>0.679</td>\n",
       "      <td>0.321</td>\n",
       "      <td>0.9112</td>\n",
       "    </tr>\n",
       "    <tr>\n",
       "      <td>342078</td>\n",
       "      <td>3517081</td>\n",
       "      <td>627868150</td>\n",
       "      <td>5</td>\n",
       "      <td>0</td>\n",
       "      <td>0</td>\n",
       "      <td>1</td>\n",
       "      <td>0.000</td>\n",
       "      <td>0.484</td>\n",
       "      <td>0.516</td>\n",
       "      <td>0.4927</td>\n",
       "    </tr>\n",
       "  </tbody>\n",
       "</table>\n",
       "<p>20000 rows × 10 columns</p>\n",
       "</div>"
      ],
      "text/plain": [
       "        customer_id  product_parent  star_rating  helpful_votes  total_votes  \\\n",
       "925507     32300045        41385950            4              0            1   \n",
       "183942     44094333       744159218            2              0            1   \n",
       "487818      2309326       364754751            5              0            0   \n",
       "35599      10801539       445678999            5              0            0   \n",
       "364874     48649983       793248827            4              0            0   \n",
       "...             ...             ...          ...            ...          ...   \n",
       "912778     34085305       876715961            5              2            2   \n",
       "564794     47018436       952380499            5              2            2   \n",
       "640785     20597251       961043582            5              0            0   \n",
       "742544     41586788       740675803            5              0            0   \n",
       "342078      3517081       627868150            5              0            0   \n",
       "\n",
       "        review_class    neg    neu    pos  compound  \n",
       "925507             1  0.000  1.000  0.000    0.0000  \n",
       "183942             0  0.262  0.738  0.000   -0.9431  \n",
       "487818             1  0.000  1.000  0.000    0.0000  \n",
       "35599              1  0.000  0.717  0.283    0.8581  \n",
       "364874             1  0.000  0.580  0.420    0.4404  \n",
       "...              ...    ...    ...    ...       ...  \n",
       "912778             1  0.170  0.530  0.300    0.6900  \n",
       "564794             1  0.000  0.625  0.375    0.9324  \n",
       "640785             1  0.000  0.644  0.356    0.9612  \n",
       "742544             1  0.000  0.679  0.321    0.9112  \n",
       "342078             1  0.000  0.484  0.516    0.4927  \n",
       "\n",
       "[20000 rows x 10 columns]"
      ]
     },
     "execution_count": 27,
     "metadata": {},
     "output_type": "execute_result"
    }
   ],
   "source": [
    "df_numer = df_small.select_dtypes(include='number')\n",
    "df_numer.info()\n",
    "df_numer"
   ]
  },
  {
   "cell_type": "code",
   "execution_count": 28,
   "metadata": {},
   "outputs": [],
   "source": [
    "word_tokenizer = RegexpTokenizer(r'\\w+')\n",
    "df_small['review_wordlist'] = df_small['review_fulltext'].map(lambda x: word_tokenizer.tokenize(x.lower()))"
   ]
  },
  {
   "cell_type": "code",
   "execution_count": 29,
   "metadata": {},
   "outputs": [
    {
     "data": {
      "text/html": [
       "<div>\n",
       "<style scoped>\n",
       "    .dataframe tbody tr th:only-of-type {\n",
       "        vertical-align: middle;\n",
       "    }\n",
       "\n",
       "    .dataframe tbody tr th {\n",
       "        vertical-align: top;\n",
       "    }\n",
       "\n",
       "    .dataframe thead th {\n",
       "        text-align: right;\n",
       "    }\n",
       "</style>\n",
       "<table border=\"1\" class=\"dataframe\">\n",
       "  <thead>\n",
       "    <tr style=\"text-align: right;\">\n",
       "      <th></th>\n",
       "      <th>marketplace</th>\n",
       "      <th>customer_id</th>\n",
       "      <th>review_id</th>\n",
       "      <th>product_id</th>\n",
       "      <th>product_parent</th>\n",
       "      <th>product_title</th>\n",
       "      <th>product_category</th>\n",
       "      <th>star_rating</th>\n",
       "      <th>helpful_votes</th>\n",
       "      <th>total_votes</th>\n",
       "      <th>...</th>\n",
       "      <th>review_headline</th>\n",
       "      <th>review_body</th>\n",
       "      <th>review_date</th>\n",
       "      <th>review_class</th>\n",
       "      <th>review_fulltext</th>\n",
       "      <th>neg</th>\n",
       "      <th>neu</th>\n",
       "      <th>pos</th>\n",
       "      <th>compound</th>\n",
       "      <th>review_wordlist</th>\n",
       "    </tr>\n",
       "  </thead>\n",
       "  <tbody>\n",
       "    <tr>\n",
       "      <td>925507</td>\n",
       "      <td>US</td>\n",
       "      <td>32300045</td>\n",
       "      <td>R2F0865SHKCZE</td>\n",
       "      <td>B000SQP7XG</td>\n",
       "      <td>41385950</td>\n",
       "      <td>Timex Men's T2M467 T Series Chronograph Black ...</td>\n",
       "      <td>Watches</td>\n",
       "      <td>4</td>\n",
       "      <td>0</td>\n",
       "      <td>1</td>\n",
       "      <td>...</td>\n",
       "      <td>timex t series watch</td>\n",
       "      <td>product arrived quickly, as described, and muc...</td>\n",
       "      <td>2009-01-11</td>\n",
       "      <td>1</td>\n",
       "      <td>timex t series watch. product arrived quickly,...</td>\n",
       "      <td>0.000</td>\n",
       "      <td>1.000</td>\n",
       "      <td>0.000</td>\n",
       "      <td>0.0000</td>\n",
       "      <td>[timex, t, series, watch, product, arrived, qu...</td>\n",
       "    </tr>\n",
       "    <tr>\n",
       "      <td>183942</td>\n",
       "      <td>US</td>\n",
       "      <td>44094333</td>\n",
       "      <td>R3COYL0TV95B79</td>\n",
       "      <td>B003OQ4M92</td>\n",
       "      <td>744159218</td>\n",
       "      <td>Timex Women's Q7B779 Calfskin 8mm Black Replac...</td>\n",
       "      <td>Watches</td>\n",
       "      <td>2</td>\n",
       "      <td>0</td>\n",
       "      <td>1</td>\n",
       "      <td>...</td>\n",
       "      <td>... a five star rating but I don't know how go...</td>\n",
       "      <td>I should give it a five star rating but I don'...</td>\n",
       "      <td>2015-03-07</td>\n",
       "      <td>0</td>\n",
       "      <td>... a five star rating but I don't know how go...</td>\n",
       "      <td>0.262</td>\n",
       "      <td>0.738</td>\n",
       "      <td>0.000</td>\n",
       "      <td>-0.9431</td>\n",
       "      <td>[a, five, star, rating, but, i, don, t, know, ...</td>\n",
       "    </tr>\n",
       "    <tr>\n",
       "      <td>487818</td>\n",
       "      <td>US</td>\n",
       "      <td>2309326</td>\n",
       "      <td>RRWQWCQS6LQYN</td>\n",
       "      <td>B00134L90C</td>\n",
       "      <td>364754751</td>\n",
       "      <td>Casio Men's MTP3050D-2AV Classic 10-Year Batte...</td>\n",
       "      <td>Watches</td>\n",
       "      <td>5</td>\n",
       "      <td>0</td>\n",
       "      <td>0</td>\n",
       "      <td>...</td>\n",
       "      <td>Five Stars</td>\n",
       "      <td>excelente</td>\n",
       "      <td>2014-05-01</td>\n",
       "      <td>1</td>\n",
       "      <td>Five Stars. excelente</td>\n",
       "      <td>0.000</td>\n",
       "      <td>1.000</td>\n",
       "      <td>0.000</td>\n",
       "      <td>0.0000</td>\n",
       "      <td>[five, stars, excelente]</td>\n",
       "    </tr>\n",
       "    <tr>\n",
       "      <td>35599</td>\n",
       "      <td>US</td>\n",
       "      <td>10801539</td>\n",
       "      <td>R1XUFV7JL7S9F3</td>\n",
       "      <td>B005FUF320</td>\n",
       "      <td>445678999</td>\n",
       "      <td>red line Men's RL-18101-02 Compressor Collecti...</td>\n",
       "      <td>Watches</td>\n",
       "      <td>5</td>\n",
       "      <td>0</td>\n",
       "      <td>0</td>\n",
       "      <td>...</td>\n",
       "      <td>too happy.</td>\n",
       "      <td>Very good  n nice watch, a friend of mine took...</td>\n",
       "      <td>2015-07-28</td>\n",
       "      <td>1</td>\n",
       "      <td>too happy.. Very good  n nice watch, a friend ...</td>\n",
       "      <td>0.000</td>\n",
       "      <td>0.717</td>\n",
       "      <td>0.283</td>\n",
       "      <td>0.8581</td>\n",
       "      <td>[too, happy, very, good, n, nice, watch, a, fr...</td>\n",
       "    </tr>\n",
       "    <tr>\n",
       "      <td>364874</td>\n",
       "      <td>US</td>\n",
       "      <td>48649983</td>\n",
       "      <td>R58CAM47P5KDD</td>\n",
       "      <td>B002UG1B0U</td>\n",
       "      <td>793248827</td>\n",
       "      <td>Energizer 393 Silver Oxide 10 Batteries (SR754W)</td>\n",
       "      <td>Watches</td>\n",
       "      <td>4</td>\n",
       "      <td>0</td>\n",
       "      <td>0</td>\n",
       "      <td>...</td>\n",
       "      <td>Four Stars</td>\n",
       "      <td>better than Duracell</td>\n",
       "      <td>2014-10-04</td>\n",
       "      <td>1</td>\n",
       "      <td>Four Stars. better than Duracell</td>\n",
       "      <td>0.000</td>\n",
       "      <td>0.580</td>\n",
       "      <td>0.420</td>\n",
       "      <td>0.4404</td>\n",
       "      <td>[four, stars, better, than, duracell]</td>\n",
       "    </tr>\n",
       "    <tr>\n",
       "      <td>...</td>\n",
       "      <td>...</td>\n",
       "      <td>...</td>\n",
       "      <td>...</td>\n",
       "      <td>...</td>\n",
       "      <td>...</td>\n",
       "      <td>...</td>\n",
       "      <td>...</td>\n",
       "      <td>...</td>\n",
       "      <td>...</td>\n",
       "      <td>...</td>\n",
       "      <td>...</td>\n",
       "      <td>...</td>\n",
       "      <td>...</td>\n",
       "      <td>...</td>\n",
       "      <td>...</td>\n",
       "      <td>...</td>\n",
       "      <td>...</td>\n",
       "      <td>...</td>\n",
       "      <td>...</td>\n",
       "      <td>...</td>\n",
       "      <td>...</td>\n",
       "    </tr>\n",
       "    <tr>\n",
       "      <td>912778</td>\n",
       "      <td>US</td>\n",
       "      <td>34085305</td>\n",
       "      <td>RFYD473IMB81D</td>\n",
       "      <td>B001S7VKGC</td>\n",
       "      <td>876715961</td>\n",
       "      <td>Freestyle Unisex FS81263 Shark Classic Green P...</td>\n",
       "      <td>Watches</td>\n",
       "      <td>5</td>\n",
       "      <td>2</td>\n",
       "      <td>2</td>\n",
       "      <td>...</td>\n",
       "      <td>Great watch</td>\n",
       "      <td>I use this watch when I go Surfing and Skimboa...</td>\n",
       "      <td>2009-09-25</td>\n",
       "      <td>1</td>\n",
       "      <td>Great watch. I use this watch when I go Surfin...</td>\n",
       "      <td>0.170</td>\n",
       "      <td>0.530</td>\n",
       "      <td>0.300</td>\n",
       "      <td>0.6900</td>\n",
       "      <td>[great, watch, i, use, this, watch, when, i, g...</td>\n",
       "    </tr>\n",
       "    <tr>\n",
       "      <td>564794</td>\n",
       "      <td>US</td>\n",
       "      <td>47018436</td>\n",
       "      <td>R1K3QLXKXGXRDC</td>\n",
       "      <td>B008PJCRVS</td>\n",
       "      <td>952380499</td>\n",
       "      <td>Seiko Women's SNDX95 Sportura Classic Ceramic ...</td>\n",
       "      <td>Watches</td>\n",
       "      <td>5</td>\n",
       "      <td>2</td>\n",
       "      <td>2</td>\n",
       "      <td>...</td>\n",
       "      <td>Perfect and Stunning</td>\n",
       "      <td>This was a christmas present for my wife. She ...</td>\n",
       "      <td>2014-01-01</td>\n",
       "      <td>1</td>\n",
       "      <td>Perfect and Stunning. This was a christmas pre...</td>\n",
       "      <td>0.000</td>\n",
       "      <td>0.625</td>\n",
       "      <td>0.375</td>\n",
       "      <td>0.9324</td>\n",
       "      <td>[perfect, and, stunning, this, was, a, christm...</td>\n",
       "    </tr>\n",
       "    <tr>\n",
       "      <td>640785</td>\n",
       "      <td>US</td>\n",
       "      <td>20597251</td>\n",
       "      <td>R3W5BSXC6DUHLW</td>\n",
       "      <td>B00791R1MI</td>\n",
       "      <td>961043582</td>\n",
       "      <td>Casio Men's Solar Sport Combination Watch</td>\n",
       "      <td>Watches</td>\n",
       "      <td>5</td>\n",
       "      <td>0</td>\n",
       "      <td>0</td>\n",
       "      <td>...</td>\n",
       "      <td>Solar power cool watch.</td>\n",
       "      <td>Got it 3 days after put order, Love amazon.&lt;br...</td>\n",
       "      <td>2013-08-07</td>\n",
       "      <td>1</td>\n",
       "      <td>Solar power cool watch.. Got it 3 days after p...</td>\n",
       "      <td>0.000</td>\n",
       "      <td>0.644</td>\n",
       "      <td>0.356</td>\n",
       "      <td>0.9612</td>\n",
       "      <td>[solar, power, cool, watch, got, it, 3, days, ...</td>\n",
       "    </tr>\n",
       "    <tr>\n",
       "      <td>742544</td>\n",
       "      <td>US</td>\n",
       "      <td>41586788</td>\n",
       "      <td>RH01MDDXKFADP</td>\n",
       "      <td>B001A67HDG</td>\n",
       "      <td>740675803</td>\n",
       "      <td>Casio G-shock GLX5600-1 G-Lide Red Watch Mens</td>\n",
       "      <td>Watches</td>\n",
       "      <td>5</td>\n",
       "      <td>0</td>\n",
       "      <td>0</td>\n",
       "      <td>...</td>\n",
       "      <td>Love the watch...the red is amazing!</td>\n",
       "      <td>I have many watches, as I never leave the hous...</td>\n",
       "      <td>2013-01-15</td>\n",
       "      <td>1</td>\n",
       "      <td>Love the watch...the red is amazing!. I have m...</td>\n",
       "      <td>0.000</td>\n",
       "      <td>0.679</td>\n",
       "      <td>0.321</td>\n",
       "      <td>0.9112</td>\n",
       "      <td>[love, the, watch, the, red, is, amazing, i, h...</td>\n",
       "    </tr>\n",
       "    <tr>\n",
       "      <td>342078</td>\n",
       "      <td>US</td>\n",
       "      <td>3517081</td>\n",
       "      <td>R1NMBS1X8BTTJ5</td>\n",
       "      <td>B0009NX3F2</td>\n",
       "      <td>627868150</td>\n",
       "      <td>Timex Kids T79081 My First Timex Easy Reader W...</td>\n",
       "      <td>Watches</td>\n",
       "      <td>5</td>\n",
       "      <td>0</td>\n",
       "      <td>0</td>\n",
       "      <td>...</td>\n",
       "      <td>Five Stars</td>\n",
       "      <td>very good.</td>\n",
       "      <td>2014-10-31</td>\n",
       "      <td>1</td>\n",
       "      <td>Five Stars. very good.</td>\n",
       "      <td>0.000</td>\n",
       "      <td>0.484</td>\n",
       "      <td>0.516</td>\n",
       "      <td>0.4927</td>\n",
       "      <td>[five, stars, very, good]</td>\n",
       "    </tr>\n",
       "  </tbody>\n",
       "</table>\n",
       "<p>20000 rows × 22 columns</p>\n",
       "</div>"
      ],
      "text/plain": [
       "       marketplace  customer_id       review_id  product_id  product_parent  \\\n",
       "925507          US     32300045   R2F0865SHKCZE  B000SQP7XG        41385950   \n",
       "183942          US     44094333  R3COYL0TV95B79  B003OQ4M92       744159218   \n",
       "487818          US      2309326   RRWQWCQS6LQYN  B00134L90C       364754751   \n",
       "35599           US     10801539  R1XUFV7JL7S9F3  B005FUF320       445678999   \n",
       "364874          US     48649983   R58CAM47P5KDD  B002UG1B0U       793248827   \n",
       "...            ...          ...             ...         ...             ...   \n",
       "912778          US     34085305   RFYD473IMB81D  B001S7VKGC       876715961   \n",
       "564794          US     47018436  R1K3QLXKXGXRDC  B008PJCRVS       952380499   \n",
       "640785          US     20597251  R3W5BSXC6DUHLW  B00791R1MI       961043582   \n",
       "742544          US     41586788   RH01MDDXKFADP  B001A67HDG       740675803   \n",
       "342078          US      3517081  R1NMBS1X8BTTJ5  B0009NX3F2       627868150   \n",
       "\n",
       "                                            product_title product_category  \\\n",
       "925507  Timex Men's T2M467 T Series Chronograph Black ...          Watches   \n",
       "183942  Timex Women's Q7B779 Calfskin 8mm Black Replac...          Watches   \n",
       "487818  Casio Men's MTP3050D-2AV Classic 10-Year Batte...          Watches   \n",
       "35599   red line Men's RL-18101-02 Compressor Collecti...          Watches   \n",
       "364874   Energizer 393 Silver Oxide 10 Batteries (SR754W)          Watches   \n",
       "...                                                   ...              ...   \n",
       "912778  Freestyle Unisex FS81263 Shark Classic Green P...          Watches   \n",
       "564794  Seiko Women's SNDX95 Sportura Classic Ceramic ...          Watches   \n",
       "640785          Casio Men's Solar Sport Combination Watch          Watches   \n",
       "742544      Casio G-shock GLX5600-1 G-Lide Red Watch Mens          Watches   \n",
       "342078  Timex Kids T79081 My First Timex Easy Reader W...          Watches   \n",
       "\n",
       "        star_rating  helpful_votes  total_votes  ...  \\\n",
       "925507            4              0            1  ...   \n",
       "183942            2              0            1  ...   \n",
       "487818            5              0            0  ...   \n",
       "35599             5              0            0  ...   \n",
       "364874            4              0            0  ...   \n",
       "...             ...            ...          ...  ...   \n",
       "912778            5              2            2  ...   \n",
       "564794            5              2            2  ...   \n",
       "640785            5              0            0  ...   \n",
       "742544            5              0            0  ...   \n",
       "342078            5              0            0  ...   \n",
       "\n",
       "                                          review_headline  \\\n",
       "925507                               timex t series watch   \n",
       "183942  ... a five star rating but I don't know how go...   \n",
       "487818                                         Five Stars   \n",
       "35599                                          too happy.   \n",
       "364874                                         Four Stars   \n",
       "...                                                   ...   \n",
       "912778                                        Great watch   \n",
       "564794                               Perfect and Stunning   \n",
       "640785                            Solar power cool watch.   \n",
       "742544               Love the watch...the red is amazing!   \n",
       "342078                                         Five Stars   \n",
       "\n",
       "                                              review_body review_date  \\\n",
       "925507  product arrived quickly, as described, and muc...  2009-01-11   \n",
       "183942  I should give it a five star rating but I don'...  2015-03-07   \n",
       "487818                                          excelente  2014-05-01   \n",
       "35599   Very good  n nice watch, a friend of mine took...  2015-07-28   \n",
       "364874                               better than Duracell  2014-10-04   \n",
       "...                                                   ...         ...   \n",
       "912778  I use this watch when I go Surfing and Skimboa...  2009-09-25   \n",
       "564794  This was a christmas present for my wife. She ...  2014-01-01   \n",
       "640785  Got it 3 days after put order, Love amazon.<br...  2013-08-07   \n",
       "742544  I have many watches, as I never leave the hous...  2013-01-15   \n",
       "342078                                         very good.  2014-10-31   \n",
       "\n",
       "       review_class                                    review_fulltext    neg  \\\n",
       "925507            1  timex t series watch. product arrived quickly,...  0.000   \n",
       "183942            0  ... a five star rating but I don't know how go...  0.262   \n",
       "487818            1                              Five Stars. excelente  0.000   \n",
       "35599             1  too happy.. Very good  n nice watch, a friend ...  0.000   \n",
       "364874            1                   Four Stars. better than Duracell  0.000   \n",
       "...             ...                                                ...    ...   \n",
       "912778            1  Great watch. I use this watch when I go Surfin...  0.170   \n",
       "564794            1  Perfect and Stunning. This was a christmas pre...  0.000   \n",
       "640785            1  Solar power cool watch.. Got it 3 days after p...  0.000   \n",
       "742544            1  Love the watch...the red is amazing!. I have m...  0.000   \n",
       "342078            1                             Five Stars. very good.  0.000   \n",
       "\n",
       "          neu    pos  compound  \\\n",
       "925507  1.000  0.000    0.0000   \n",
       "183942  0.738  0.000   -0.9431   \n",
       "487818  1.000  0.000    0.0000   \n",
       "35599   0.717  0.283    0.8581   \n",
       "364874  0.580  0.420    0.4404   \n",
       "...       ...    ...       ...   \n",
       "912778  0.530  0.300    0.6900   \n",
       "564794  0.625  0.375    0.9324   \n",
       "640785  0.644  0.356    0.9612   \n",
       "742544  0.679  0.321    0.9112   \n",
       "342078  0.484  0.516    0.4927   \n",
       "\n",
       "                                          review_wordlist  \n",
       "925507  [timex, t, series, watch, product, arrived, qu...  \n",
       "183942  [a, five, star, rating, but, i, don, t, know, ...  \n",
       "487818                           [five, stars, excelente]  \n",
       "35599   [too, happy, very, good, n, nice, watch, a, fr...  \n",
       "364874              [four, stars, better, than, duracell]  \n",
       "...                                                   ...  \n",
       "912778  [great, watch, i, use, this, watch, when, i, g...  \n",
       "564794  [perfect, and, stunning, this, was, a, christm...  \n",
       "640785  [solar, power, cool, watch, got, it, 3, days, ...  \n",
       "742544  [love, the, watch, the, red, is, amazing, i, h...  \n",
       "342078                          [five, stars, very, good]  \n",
       "\n",
       "[20000 rows x 22 columns]"
      ]
     },
     "execution_count": 29,
     "metadata": {},
     "output_type": "execute_result"
    }
   ],
   "source": [
    "df_small"
   ]
  },
  {
   "cell_type": "code",
   "execution_count": 30,
   "metadata": {},
   "outputs": [],
   "source": [
    "df_small['review_wordlist'] = df_small['review_wordlist'].map(lambda x: ' '.join(x))"
   ]
  },
  {
   "cell_type": "code",
   "execution_count": null,
   "metadata": {},
   "outputs": [],
   "source": []
  },
  {
   "cell_type": "code",
   "execution_count": null,
   "metadata": {},
   "outputs": [],
   "source": []
  },
  {
   "cell_type": "code",
   "execution_count": null,
   "metadata": {},
   "outputs": [],
   "source": []
  },
  {
   "cell_type": "code",
   "execution_count": null,
   "metadata": {},
   "outputs": [],
   "source": []
  },
  {
   "cell_type": "code",
   "execution_count": null,
   "metadata": {},
   "outputs": [],
   "source": []
  },
  {
   "cell_type": "code",
   "execution_count": null,
   "metadata": {},
   "outputs": [],
   "source": []
  },
  {
   "cell_type": "code",
   "execution_count": 35,
   "metadata": {},
   "outputs": [],
   "source": [
    "X = df_small.loc[:, ['helpful_votes', 'total_votes', 'neg', 'neu', 'pos', 'compound', 'review_wordlist']]\n",
    "y = df_small.loc[:, 'review_class']"
   ]
  },
  {
   "cell_type": "code",
   "execution_count": 36,
   "metadata": {},
   "outputs": [],
   "source": [
    "X_train, X_test, y_train, y_test = train_test_split(X, y, test_size = 0.25)"
   ]
  },
  {
   "cell_type": "code",
   "execution_count": 33,
   "metadata": {},
   "outputs": [],
   "source": [
    "# create our training data list - this is a list of strings, with each string being a review\n",
    "\n",
    "clean_train_data = []\n",
    "\n",
    "for train_data in X_train['review_wordlist']:\n",
    "    clean_train_data.append(train_data)"
   ]
  },
  {
   "cell_type": "code",
   "execution_count": 149,
   "metadata": {},
   "outputs": [],
   "source": [
    "# create test data list\n",
    "\n",
    "clean_test_data = []\n",
    "\n",
    "for test_data in X_test['review_wordlist']:\n",
    "    clean_test_data.append(test_data)"
   ]
  },
  {
   "cell_type": "code",
   "execution_count": 150,
   "metadata": {},
   "outputs": [],
   "source": [
    "# instantiate our CountVectorizer. This counts the number of appearances of all the words in our training data and\n",
    "# eliminates common english stop words. 5000 max features works well for our purposes (tested various numbers). Our\n",
    "# data is already preprocessed and tokenized manually earlier. ngram_range is 1,3, although all or nearly all our \n",
    "# features are single words\n",
    "\n",
    "vectorizer = CountVectorizer(analyzer = \"word\",\n",
    "                             tokenizer = None,\n",
    "                             preprocessor = None,\n",
    "                             stop_words = 'english',\n",
    "                             max_features = 5000,\n",
    "                             ngram_range = (1, 3))"
   ]
  },
  {
   "cell_type": "code",
   "execution_count": 151,
   "metadata": {},
   "outputs": [],
   "source": [
    "# fit our training data and test data lists to our count_vectorizer\n",
    "\n",
    "train_data_features = vectorizer.fit_transform(clean_train_data)\n",
    "\n",
    "test_data_features = vectorizer.transform(clean_test_data)\n",
    "\n",
    "# convert to array\n",
    "\n",
    "train_data_features = train_data_features.toarray()"
   ]
  },
  {
   "cell_type": "code",
   "execution_count": 152,
   "metadata": {},
   "outputs": [
    {
     "data": {
      "text/plain": [
       "((15000, 5000), (5000, 5000))"
      ]
     },
     "execution_count": 152,
     "metadata": {},
     "output_type": "execute_result"
    }
   ],
   "source": [
    "# check shapes\n",
    "\n",
    "train_data_features.shape, test_data_features.shape"
   ]
  },
  {
   "cell_type": "code",
   "execution_count": 156,
   "metadata": {},
   "outputs": [
    {
     "data": {
      "text/plain": [
       "array(['making', 'sized wrist', 'complications', 'really wanted',\n",
       "       'watch white', 'operation', 'nice classy', 'looks works', '15 20',\n",
       "       'penny', 'dial easy read', 'read', 'watch got', 'great features',\n",
       "       'metallic', 'left', 'read watch', 'course', 'goes', 'original box',\n",
       "       'minutes', 'arrive', 'watch set', 'keeps accurate time',\n",
       "       'buy great', 'alert', 'watch need', 'switch', 'ocean',\n",
       "       'unfortunately', 'buy new watch', 'watch lots', 'possible', '000',\n",
       "       'uncomfortable', 'br br quality', 'automatics', 'watch nice',\n",
       "       'ebay', 'como', 'exceptionally', 'stuck', 'watch problem',\n",
       "       'casual', 'explained', 'hacking', 'nice looking', 'chance',\n",
       "       'watch built', 'sealed', 'hole', 'contrast', 'sits', 'larger size',\n",
       "       'watch design', 'reaction', 'fraction', 'continue', 'look really',\n",
       "       'wearing watch', 'girlfriend loves', 'quality excellent',\n",
       "       'nice touch', 'watch use', 'price little', 'nice br',\n",
       "       'watch gorgeous', 'mother pearl face', 'girlfriend',\n",
       "       'watch easily', 'stars great product', 'play', 'buy invicta',\n",
       "       'good looking watch', 'brand new watch', 'buy watch', 'lose',\n",
       "       'comfortable easy read', 'fall apart', 'really likes', 'handle',\n",
       "       'kids', 'yesterday', 'really stands', 'change time', 'disapointed',\n",
       "       'timex', 'invicta watch', 'caught', 'br br bought', 'love timex',\n",
       "       'product watch', 'returning watch', 'casing', 'watch looking',\n",
       "       'watch great deal', 'classy look', 'good job', 'great watch love',\n",
       "       'br watch', '13', 'guess pay', 'silver tone',\n",
       "       'addition collection', 'gift watch', 'watch wore',\n",
       "       'great watch just', 'chose', 'discount', 'shouldn',\n",
       "       'bigger thought', 'depth', 'weight comfortable', 'everyday',\n",
       "       'digital watch', 'time easily', 'worth price', 'task', 'mean',\n",
       "       'far keeps', 'little smaller', 'number', 'watch comfortable',\n",
       "       'know watch', 'manufacturers', 'orange', 'stop', 'web site',\n",
       "       'husband loves watch', 'harder', 'measures', 'br really',\n",
       "       'practical', 'unidirectional', 'watch keeps time', 'purchased',\n",
       "       'match', 'stay away', 'watch quickly', 'skin', 'quite nice',\n",
       "       'brand new watch', 'loving', 'specs', 'does work', 'build',\n",
       "       'excelente', 'dark brown', 'paying', 'owning', 'excellent price',\n",
       "       'reported', 'shirts', 'highly recommend', 'does job',\n",
       "       'good design', 'great price great', 'watch different', 'cheaper',\n",
       "       'got watch', 'direct', 'obvious', 'switch', 'watch good quality',\n",
       "       'pleased purchase', 'starter', 'looks feels', 'forever', 'fix',\n",
       "       '3rd', 'br really', 'watch does', 'knows', 'watch', 'signal',\n",
       "       'thats', 'links removed', 'watch just got', 'think ll',\n",
       "       'br br good', 'love beautiful', 'waveceptor', 'watch reasonable',\n",
       "       'sports', 'time keeper', 'given stars', 'winds', 'reasonably',\n",
       "       'watch stop', 'bluetooth', 'sucks', 'br looks', 'stars just',\n",
       "       'nice watch price', 'watch smaller', 'addition collection',\n",
       "       'price great watch', 'best watch', 'love love', 'whistles'],\n",
       "      dtype='<U28')"
      ]
     },
     "execution_count": 156,
     "metadata": {},
     "output_type": "execute_result"
    }
   ],
   "source": [
    "# I wanted check that the features corpus was as expected - removed print statement for readability\n",
    "\n",
    "vocab = vectorizer.get_feature_names()\n",
    "np.random.choice(vocab, 200)"
   ]
  },
  {
   "cell_type": "code",
   "execution_count": null,
   "metadata": {},
   "outputs": [],
   "source": []
  },
  {
   "cell_type": "code",
   "execution_count": null,
   "metadata": {},
   "outputs": [],
   "source": []
  },
  {
   "cell_type": "code",
   "execution_count": null,
   "metadata": {},
   "outputs": [],
   "source": []
  },
  {
   "cell_type": "code",
   "execution_count": null,
   "metadata": {},
   "outputs": [],
   "source": []
  },
  {
   "cell_type": "code",
   "execution_count": 37,
   "metadata": {},
   "outputs": [
    {
     "data": {
      "text/plain": [
       "1    12654\n",
       "0     2346\n",
       "Name: review_class, dtype: int64"
      ]
     },
     "execution_count": 37,
     "metadata": {},
     "output_type": "execute_result"
    }
   ],
   "source": [
    "y_train.value_counts()"
   ]
  },
  {
   "cell_type": "code",
   "execution_count": 41,
   "metadata": {},
   "outputs": [
    {
     "data": {
      "text/plain": [
       "1    12654\n",
       "0    12654\n",
       "Name: review_class, dtype: int64"
      ]
     },
     "execution_count": 41,
     "metadata": {},
     "output_type": "execute_result"
    }
   ],
   "source": [
    "smote = SMOTE()\n",
    "X_train_numeric = X_train.drop(columns='review_wordlist')\n",
    "X_test_numeric = X_test.drop(columns='review_wordlist')\n",
    "\n",
    "X_train_resampled, y_train_resampled = smote.fit_sample(X_train_numeric, y_train) \n",
    "y_train_resampled.value_counts()"
   ]
  },
  {
   "cell_type": "code",
   "execution_count": 42,
   "metadata": {},
   "outputs": [
    {
     "data": {
      "text/plain": [
       "LogisticRegression(C=1000000000000.0, class_weight=None, dual=False,\n",
       "                   fit_intercept=True, intercept_scaling=1, l1_ratio=None,\n",
       "                   max_iter=100, multi_class='auto', n_jobs=None, penalty='l2',\n",
       "                   random_state=None, solver='liblinear', tol=0.0001, verbose=0,\n",
       "                   warm_start=False)"
      ]
     },
     "execution_count": 42,
     "metadata": {},
     "output_type": "execute_result"
    }
   ],
   "source": [
    "# Test out different classification algorithms\n",
    "# Logistic Regression\n",
    "\n",
    "logreg = LogisticRegression(fit_intercept=True, C=1e12, solver='liblinear', penalty='l2')\n",
    "logreg.fit(X_train_resampled, y_train_resampled)"
   ]
  },
  {
   "cell_type": "code",
   "execution_count": 43,
   "metadata": {},
   "outputs": [],
   "source": [
    "y_hat_test_lr = logreg.predict(X_test_numeric)\n",
    "y_hat_train_lr = logreg.predict(X_train_resampled)"
   ]
  },
  {
   "cell_type": "code",
   "execution_count": 44,
   "metadata": {},
   "outputs": [
    {
     "name": "stdout",
     "output_type": "stream",
     "text": [
      "0    21488\n",
      "1     3820\n",
      "Name: review_class, dtype: int64\n",
      "0    0.84906\n",
      "1    0.15094\n",
      "Name: review_class, dtype: float64\n"
     ]
    }
   ],
   "source": [
    "# We could subtract the two columns. If values or equal, difference will be zero. Then count number of zeros \n",
    "residuals = np.abs(y_train_resampled - y_hat_train_lr)\n",
    "print(pd.Series(residuals).value_counts())\n",
    "print(pd.Series(residuals).value_counts(normalize=True))"
   ]
  },
  {
   "cell_type": "code",
   "execution_count": 45,
   "metadata": {},
   "outputs": [
    {
     "name": "stdout",
     "output_type": "stream",
     "text": [
      "0    4283\n",
      "1     717\n",
      "Name: review_class, dtype: int64\n",
      "0    0.8566\n",
      "1    0.1434\n",
      "Name: review_class, dtype: float64\n"
     ]
    }
   ],
   "source": [
    "residuals = np.abs(y_test - y_hat_test_lr)\n",
    "print(pd.Series(residuals).value_counts())\n",
    "print(pd.Series(residuals).value_counts(normalize=True))"
   ]
  },
  {
   "cell_type": "code",
   "execution_count": 46,
   "metadata": {},
   "outputs": [
    {
     "name": "stdout",
     "output_type": "stream",
     "text": [
      "              precision    recall  f1-score   support\n",
      "\n",
      "           0       0.85      0.85      0.85     12654\n",
      "           1       0.85      0.85      0.85     12654\n",
      "\n",
      "    accuracy                           0.85     25308\n",
      "   macro avg       0.85      0.85      0.85     25308\n",
      "weighted avg       0.85      0.85      0.85     25308\n",
      "\n"
     ]
    },
    {
     "data": {
      "text/plain": [
       "array([[10726,  1928],\n",
       "       [ 1892, 10762]])"
      ]
     },
     "execution_count": 46,
     "metadata": {},
     "output_type": "execute_result"
    }
   ],
   "source": [
    "print(classification_report(y_train_resampled, y_hat_train_lr))\n",
    "\n",
    "# Confusion Matrix for training set - Logistic Regression\n",
    "cf_lr = confusion_matrix(y_train_resampled, y_hat_train_lr)\n",
    "cf_lr"
   ]
  },
  {
   "cell_type": "code",
   "execution_count": 47,
   "metadata": {},
   "outputs": [
    {
     "name": "stdout",
     "output_type": "stream",
     "text": [
      "              precision    recall  f1-score   support\n",
      "\n",
      "           0       0.52      0.84      0.64       776\n",
      "           1       0.97      0.86      0.91      4224\n",
      "\n",
      "    accuracy                           0.86      5000\n",
      "   macro avg       0.75      0.85      0.78      5000\n",
      "weighted avg       0.90      0.86      0.87      5000\n",
      "\n"
     ]
    },
    {
     "data": {
      "text/plain": [
       "array([[ 650,  126],\n",
       "       [ 591, 3633]])"
      ]
     },
     "execution_count": 47,
     "metadata": {},
     "output_type": "execute_result"
    }
   ],
   "source": [
    "print(classification_report(y_test, y_hat_test_lr))\n",
    "\n",
    "# Confusion Matrix for training set - Logistic Regression\n",
    "cm_lr = confusion_matrix(y_test, y_hat_test_lr)\n",
    "cm_lr"
   ]
  },
  {
   "cell_type": "code",
   "execution_count": 50,
   "metadata": {},
   "outputs": [
    {
     "ename": "NameError",
     "evalue": "name 'class_names' is not defined",
     "output_type": "error",
     "traceback": [
      "\u001b[0;31m---------------------------------------------------------------------------\u001b[0m",
      "\u001b[0;31mNameError\u001b[0m                                 Traceback (most recent call last)",
      "\u001b[0;32m<ipython-input-50-62d74a4d4688>\u001b[0m in \u001b[0;36m<module>\u001b[0;34m\u001b[0m\n\u001b[1;32m      1\u001b[0m plot_confusion_matrix(logreg, X_test, y_test,\n\u001b[0;32m----> 2\u001b[0;31m                                  \u001b[0mdisplay_labels\u001b[0m\u001b[0;34m=\u001b[0m\u001b[0mclass_names\u001b[0m\u001b[0;34m,\u001b[0m\u001b[0;34m\u001b[0m\u001b[0;34m\u001b[0m\u001b[0m\n\u001b[0m\u001b[1;32m      3\u001b[0m                                  \u001b[0mcmap\u001b[0m\u001b[0;34m=\u001b[0m\u001b[0mplt\u001b[0m\u001b[0;34m.\u001b[0m\u001b[0mcm\u001b[0m\u001b[0;34m.\u001b[0m\u001b[0mBlues\u001b[0m\u001b[0;34m,\u001b[0m\u001b[0;34m\u001b[0m\u001b[0;34m\u001b[0m\u001b[0m\n\u001b[1;32m      4\u001b[0m                                  normalize=normalize)\n\u001b[1;32m      5\u001b[0m     \u001b[0;31m# disp.ax_.set_title(title)\u001b[0m\u001b[0;34m\u001b[0m\u001b[0;34m\u001b[0m\u001b[0;34m\u001b[0m\u001b[0m\n",
      "\u001b[0;31mNameError\u001b[0m: name 'class_names' is not defined"
     ]
    }
   ],
   "source": [
    "plot_confusion_matrix(logreg, X_test, y_test,\n",
    "                                 display_labels=class_names,\n",
    "                                 cmap=plt.cm.Blues,\n",
    "                                 normalize=normalize)\n",
    "    # disp.ax_.set_title(title)\n",
    "\n",
    "#     print(title)\n",
    "#     print(disp.confusion_matrix)"
   ]
  },
  {
   "cell_type": "code",
   "execution_count": null,
   "metadata": {},
   "outputs": [],
   "source": []
  },
  {
   "cell_type": "code",
   "execution_count": 51,
   "metadata": {},
   "outputs": [
    {
     "ename": "NameError",
     "evalue": "name 'train_data_features' is not defined",
     "output_type": "error",
     "traceback": [
      "\u001b[0;31m---------------------------------------------------------------------------\u001b[0m",
      "\u001b[0;31mNameError\u001b[0m                                 Traceback (most recent call last)",
      "\u001b[0;32m<ipython-input-51-1638aae0e5dc>\u001b[0m in \u001b[0;36m<module>\u001b[0;34m\u001b[0m\n\u001b[1;32m      2\u001b[0m \u001b[0;34m\u001b[0m\u001b[0m\n\u001b[1;32m      3\u001b[0m \u001b[0mlr\u001b[0m \u001b[0;34m=\u001b[0m \u001b[0mLogisticRegression\u001b[0m\u001b[0;34m(\u001b[0m\u001b[0mpenalty\u001b[0m \u001b[0;34m=\u001b[0m \u001b[0;34m'l2'\u001b[0m\u001b[0;34m)\u001b[0m\u001b[0;34m\u001b[0m\u001b[0;34m\u001b[0m\u001b[0m\n\u001b[0;32m----> 4\u001b[0;31m \u001b[0mlr\u001b[0m\u001b[0;34m.\u001b[0m\u001b[0mfit\u001b[0m\u001b[0;34m(\u001b[0m\u001b[0mtrain_data_features\u001b[0m\u001b[0;34m,\u001b[0m \u001b[0my_train\u001b[0m\u001b[0;34m)\u001b[0m\u001b[0;34m\u001b[0m\u001b[0;34m\u001b[0m\u001b[0m\n\u001b[0m",
      "\u001b[0;31mNameError\u001b[0m: name 'train_data_features' is not defined"
     ]
    }
   ],
   "source": [
    "# fit logistic regression model\n",
    "\n",
    "lr = LogisticRegression(penalty = 'l2')\n",
    "lr.fit(train_data_features, y_train)"
   ]
  },
  {
   "cell_type": "code",
   "execution_count": 52,
   "metadata": {},
   "outputs": [
    {
     "ename": "NameError",
     "evalue": "name 'train_data_features' is not defined",
     "output_type": "error",
     "traceback": [
      "\u001b[0;31m---------------------------------------------------------------------------\u001b[0m",
      "\u001b[0;31mNameError\u001b[0m                                 Traceback (most recent call last)",
      "\u001b[0;32m<ipython-input-52-8fe16912fe63>\u001b[0m in \u001b[0;36m<module>\u001b[0;34m\u001b[0m\n\u001b[0;32m----> 1\u001b[0;31m \u001b[0mlr\u001b[0m\u001b[0;34m.\u001b[0m\u001b[0mscore\u001b[0m\u001b[0;34m(\u001b[0m\u001b[0mtrain_data_features\u001b[0m\u001b[0;34m,\u001b[0m \u001b[0my_train\u001b[0m\u001b[0;34m)\u001b[0m\u001b[0;34m\u001b[0m\u001b[0;34m\u001b[0m\u001b[0m\n\u001b[0m",
      "\u001b[0;31mNameError\u001b[0m: name 'train_data_features' is not defined"
     ]
    }
   ],
   "source": [
    "lr.score(train_data_features, y_train)"
   ]
  },
  {
   "cell_type": "code",
   "execution_count": 53,
   "metadata": {},
   "outputs": [
    {
     "ename": "NameError",
     "evalue": "name 'test_data_features' is not defined",
     "output_type": "error",
     "traceback": [
      "\u001b[0;31m---------------------------------------------------------------------------\u001b[0m",
      "\u001b[0;31mNameError\u001b[0m                                 Traceback (most recent call last)",
      "\u001b[0;32m<ipython-input-53-865978edc898>\u001b[0m in \u001b[0;36m<module>\u001b[0;34m\u001b[0m\n\u001b[0;32m----> 1\u001b[0;31m \u001b[0mlr\u001b[0m\u001b[0;34m.\u001b[0m\u001b[0mscore\u001b[0m\u001b[0;34m(\u001b[0m\u001b[0mtest_data_features\u001b[0m\u001b[0;34m,\u001b[0m \u001b[0my_test\u001b[0m\u001b[0;34m)\u001b[0m\u001b[0;34m\u001b[0m\u001b[0;34m\u001b[0m\u001b[0m\n\u001b[0m",
      "\u001b[0;31mNameError\u001b[0m: name 'test_data_features' is not defined"
     ]
    }
   ],
   "source": [
    "lr.score(test_data_features, y_test)"
   ]
  },
  {
   "cell_type": "code",
   "execution_count": null,
   "metadata": {},
   "outputs": [],
   "source": []
  },
  {
   "cell_type": "code",
   "execution_count": null,
   "metadata": {},
   "outputs": [],
   "source": []
  },
  {
   "cell_type": "code",
   "execution_count": 54,
   "metadata": {},
   "outputs": [
    {
     "name": "stdout",
     "output_type": "stream",
     "text": [
      "              precision    recall  f1-score   support\n",
      "\n",
      "           0       0.89      0.92      0.90     12654\n",
      "           1       0.92      0.88      0.90     12654\n",
      "\n",
      "    accuracy                           0.90     25308\n",
      "   macro avg       0.90      0.90      0.90     25308\n",
      "weighted avg       0.90      0.90      0.90     25308\n",
      "\n"
     ]
    },
    {
     "data": {
      "text/plain": [
       "array([[11672,   982],\n",
       "       [ 1497, 11157]])"
      ]
     },
     "execution_count": 54,
     "metadata": {},
     "output_type": "execute_result"
    }
   ],
   "source": [
    "# K Nearest Neighbors\n",
    "\n",
    "# Instantiate KNeighborsClassifier\n",
    "clf_knn = KNeighborsClassifier()\n",
    "\n",
    "# Fit the classifier\n",
    "clf_knn.fit(X_train_resampled, y_train_resampled)\n",
    "\n",
    "# Predict on the training set\n",
    "y_hat_knn_train = clf_knn.predict(X_train_resampled)\n",
    "\n",
    "print(classification_report(y_train_resampled, y_hat_knn_train))\n",
    "\n",
    "cm_knn_train = confusion_matrix(y_train_resampled, y_hat_knn_train)\n",
    "cm_knn_train"
   ]
  },
  {
   "cell_type": "code",
   "execution_count": 55,
   "metadata": {},
   "outputs": [
    {
     "name": "stdout",
     "output_type": "stream",
     "text": [
      "              precision    recall  f1-score   support\n",
      "\n",
      "           0       0.49      0.74      0.59       776\n",
      "           1       0.95      0.86      0.90      4224\n",
      "\n",
      "    accuracy                           0.84      5000\n",
      "   macro avg       0.72      0.80      0.74      5000\n",
      "weighted avg       0.88      0.84      0.85      5000\n",
      "\n"
     ]
    },
    {
     "data": {
      "text/plain": [
       "array([[ 571,  205],\n",
       "       [ 594, 3630]])"
      ]
     },
     "execution_count": 55,
     "metadata": {},
     "output_type": "execute_result"
    }
   ],
   "source": [
    "y_hat_knn_test = clf_knn.predict(X_test_numeric)\n",
    "\n",
    "print(classification_report(y_test, y_hat_knn_test))\n",
    "\n",
    "cm_knn_test = confusion_matrix(y_test, y_hat_knn_test)\n",
    "cm_knn_test"
   ]
  },
  {
   "cell_type": "code",
   "execution_count": 56,
   "metadata": {},
   "outputs": [],
   "source": [
    "# Improve model performance by finding the best value for K"
   ]
  },
  {
   "cell_type": "code",
   "execution_count": null,
   "metadata": {},
   "outputs": [],
   "source": []
  },
  {
   "cell_type": "code",
   "execution_count": 57,
   "metadata": {},
   "outputs": [
    {
     "ename": "NameError",
     "evalue": "name 'train_data_features' is not defined",
     "output_type": "error",
     "traceback": [
      "\u001b[0;31m---------------------------------------------------------------------------\u001b[0m",
      "\u001b[0;31mNameError\u001b[0m                                 Traceback (most recent call last)",
      "\u001b[0;32m<ipython-input-57-d0f43b064022>\u001b[0m in \u001b[0;36m<module>\u001b[0;34m\u001b[0m\n\u001b[1;32m      2\u001b[0m \u001b[0;34m\u001b[0m\u001b[0m\n\u001b[1;32m      3\u001b[0m \u001b[0;31m# Fit the classifier\u001b[0m\u001b[0;34m\u001b[0m\u001b[0;34m\u001b[0m\u001b[0;34m\u001b[0m\u001b[0m\n\u001b[0;32m----> 4\u001b[0;31m \u001b[0mclf_knn2\u001b[0m\u001b[0;34m.\u001b[0m\u001b[0mfit\u001b[0m\u001b[0;34m(\u001b[0m\u001b[0mtrain_data_features\u001b[0m\u001b[0;34m,\u001b[0m \u001b[0my_train\u001b[0m\u001b[0;34m)\u001b[0m\u001b[0;34m\u001b[0m\u001b[0;34m\u001b[0m\u001b[0m\n\u001b[0m\u001b[1;32m      5\u001b[0m \u001b[0;34m\u001b[0m\u001b[0m\n\u001b[1;32m      6\u001b[0m \u001b[0;31m# Predict on the training set\u001b[0m\u001b[0;34m\u001b[0m\u001b[0;34m\u001b[0m\u001b[0;34m\u001b[0m\u001b[0m\n",
      "\u001b[0;31mNameError\u001b[0m: name 'train_data_features' is not defined"
     ]
    }
   ],
   "source": [
    "clf_knn2 = KNeighborsClassifier()\n",
    "\n",
    "# Fit the classifier\n",
    "clf_knn2.fit(train_data_features, y_train)\n",
    "\n",
    "# Predict on the training set\n",
    "y_hat_knn2 = clf_knn2.predict(train_data_features)\n",
    "\n",
    "print(classification_report(y_train, y_hat_knn2))\n",
    "\n",
    "cm_knn2 = confusion_matrix(y_train, y_hat_knn2)\n",
    "cm_knn2"
   ]
  },
  {
   "cell_type": "code",
   "execution_count": null,
   "metadata": {},
   "outputs": [],
   "source": []
  },
  {
   "cell_type": "code",
   "execution_count": null,
   "metadata": {},
   "outputs": [],
   "source": []
  },
  {
   "cell_type": "code",
   "execution_count": null,
   "metadata": {},
   "outputs": [],
   "source": []
  },
  {
   "cell_type": "code",
   "execution_count": null,
   "metadata": {},
   "outputs": [],
   "source": []
  },
  {
   "cell_type": "code",
   "execution_count": null,
   "metadata": {},
   "outputs": [],
   "source": []
  },
  {
   "cell_type": "code",
   "execution_count": null,
   "metadata": {},
   "outputs": [],
   "source": []
  },
  {
   "cell_type": "code",
   "execution_count": 58,
   "metadata": {},
   "outputs": [
    {
     "data": {
      "text/plain": [
       "array([[12639,    15],\n",
       "       [  551, 12103]])"
      ]
     },
     "execution_count": 58,
     "metadata": {},
     "output_type": "execute_result"
    }
   ],
   "source": [
    "# Decision Trees\n",
    "\n",
    "clf_dt = DecisionTreeClassifier(criterion='entropy')\n",
    "\n",
    "clf_dt.fit(X_train_resampled, y_train_resampled)\n",
    "\n",
    "# Predict on the training set\n",
    "y_hat_dt_train = clf_dt.predict(X_train_resampled)\n",
    "\n",
    "cm_dt_train = confusion_matrix(y_train_resampled, y_hat_dt_train)\n",
    "cm_dt_train"
   ]
  },
  {
   "cell_type": "code",
   "execution_count": 59,
   "metadata": {},
   "outputs": [
    {
     "name": "stdout",
     "output_type": "stream",
     "text": [
      "              precision    recall  f1-score   support\n",
      "\n",
      "           0       0.96      1.00      0.98     12654\n",
      "           1       1.00      0.96      0.98     12654\n",
      "\n",
      "    accuracy                           0.98     25308\n",
      "   macro avg       0.98      0.98      0.98     25308\n",
      "weighted avg       0.98      0.98      0.98     25308\n",
      "\n"
     ]
    }
   ],
   "source": [
    "print(classification_report(y_train_resampled, y_hat_dt_train))"
   ]
  },
  {
   "cell_type": "code",
   "execution_count": 60,
   "metadata": {},
   "outputs": [
    {
     "name": "stdout",
     "output_type": "stream",
     "text": [
      "              precision    recall  f1-score   support\n",
      "\n",
      "           0       0.45      0.71      0.55       776\n",
      "           1       0.94      0.84      0.89      4224\n",
      "\n",
      "    accuracy                           0.82      5000\n",
      "   macro avg       0.70      0.78      0.72      5000\n",
      "weighted avg       0.86      0.82      0.84      5000\n",
      "\n"
     ]
    },
    {
     "data": {
      "text/plain": [
       "array([[ 550,  226],\n",
       "       [ 670, 3554]])"
      ]
     },
     "execution_count": 60,
     "metadata": {},
     "output_type": "execute_result"
    }
   ],
   "source": [
    "y_hat_dt_test = clf_dt.predict(X_test_numeric)\n",
    "\n",
    "print(classification_report(y_test, y_hat_dt_test))\n",
    "\n",
    "cm_dt_test = confusion_matrix(y_test, y_hat_dt_test)\n",
    "cm_dt_test"
   ]
  },
  {
   "cell_type": "code",
   "execution_count": 61,
   "metadata": {},
   "outputs": [
    {
     "ename": "NameError",
     "evalue": "name 'train_data_features' is not defined",
     "output_type": "error",
     "traceback": [
      "\u001b[0;31m---------------------------------------------------------------------------\u001b[0m",
      "\u001b[0;31mNameError\u001b[0m                                 Traceback (most recent call last)",
      "\u001b[0;32m<ipython-input-61-72bd91d5fda9>\u001b[0m in \u001b[0;36m<module>\u001b[0;34m\u001b[0m\n\u001b[1;32m      2\u001b[0m \u001b[0;34m\u001b[0m\u001b[0m\n\u001b[1;32m      3\u001b[0m \u001b[0;31m# Fit the classifier\u001b[0m\u001b[0;34m\u001b[0m\u001b[0;34m\u001b[0m\u001b[0;34m\u001b[0m\u001b[0m\n\u001b[0;32m----> 4\u001b[0;31m \u001b[0mclf_dt2\u001b[0m\u001b[0;34m.\u001b[0m\u001b[0mfit\u001b[0m\u001b[0;34m(\u001b[0m\u001b[0mtrain_data_features\u001b[0m\u001b[0;34m,\u001b[0m \u001b[0my_train\u001b[0m\u001b[0;34m)\u001b[0m\u001b[0;34m\u001b[0m\u001b[0;34m\u001b[0m\u001b[0m\n\u001b[0m\u001b[1;32m      5\u001b[0m \u001b[0;34m\u001b[0m\u001b[0m\n\u001b[1;32m      6\u001b[0m \u001b[0;31m# Predict on the training set\u001b[0m\u001b[0;34m\u001b[0m\u001b[0;34m\u001b[0m\u001b[0;34m\u001b[0m\u001b[0m\n",
      "\u001b[0;31mNameError\u001b[0m: name 'train_data_features' is not defined"
     ]
    }
   ],
   "source": [
    "clf_dt2 = DecisionTreeClassifier(criterion='entropy')\n",
    "\n",
    "# Fit the classifier\n",
    "clf_dt2.fit(train_data_features, y_train)\n",
    "\n",
    "# Predict on the training set\n",
    "y_hat_dt2 = clf_dt2.predict(train_data_features)\n",
    "\n",
    "print(classification_report(y_train, y_hat_dt2))\n",
    "\n",
    "cm_dt2 = confusion_matrix(y_train, y_hat_dt2)\n",
    "cm_dt2"
   ]
  },
  {
   "cell_type": "code",
   "execution_count": null,
   "metadata": {},
   "outputs": [],
   "source": []
  },
  {
   "cell_type": "code",
   "execution_count": 62,
   "metadata": {},
   "outputs": [
    {
     "data": {
      "text/plain": [
       "0.8852536747273589"
      ]
     },
     "execution_count": 62,
     "metadata": {},
     "output_type": "execute_result"
    }
   ],
   "source": [
    "# Bagged Trees\n",
    "\n",
    "# Instantiate a BaggingClassifier\n",
    "bagged_tree =  BaggingClassifier(DecisionTreeClassifier(criterion='gini', max_leaf_nodes=100), \n",
    "                                 n_estimators=20)\n",
    "\n",
    "# Fit to the training data\n",
    "bagged_tree.fit(X_train_resampled, y_train_resampled)\n",
    "\n",
    "bagged_tree.score(X_train_resampled, y_train_resampled)"
   ]
  },
  {
   "cell_type": "code",
   "execution_count": 63,
   "metadata": {},
   "outputs": [
    {
     "data": {
      "text/plain": [
       "0.8372"
      ]
     },
     "execution_count": 63,
     "metadata": {},
     "output_type": "execute_result"
    }
   ],
   "source": [
    "bagged_tree.score(X_test_numeric, y_test)"
   ]
  },
  {
   "cell_type": "code",
   "execution_count": 64,
   "metadata": {},
   "outputs": [
    {
     "data": {
      "text/plain": [
       "array([[11701,   953],\n",
       "       [ 1951, 10703]])"
      ]
     },
     "execution_count": 64,
     "metadata": {},
     "output_type": "execute_result"
    }
   ],
   "source": [
    "y_hat_bagged_train = bagged_tree.predict(X_train_resampled)\n",
    "\n",
    "cm_bagged_train = confusion_matrix(y_train_resampled, y_hat_bagged_train)\n",
    "cm_bagged_train"
   ]
  },
  {
   "cell_type": "code",
   "execution_count": 65,
   "metadata": {},
   "outputs": [
    {
     "name": "stdout",
     "output_type": "stream",
     "text": [
      "              precision    recall  f1-score   support\n",
      "\n",
      "           0       0.86      0.92      0.89     12654\n",
      "           1       0.92      0.85      0.88     12654\n",
      "\n",
      "    accuracy                           0.89     25308\n",
      "   macro avg       0.89      0.89      0.89     25308\n",
      "weighted avg       0.89      0.89      0.89     25308\n",
      "\n"
     ]
    }
   ],
   "source": [
    "print(classification_report(y_train_resampled, y_hat_bagged_train))"
   ]
  },
  {
   "cell_type": "code",
   "execution_count": 66,
   "metadata": {},
   "outputs": [
    {
     "name": "stdout",
     "output_type": "stream",
     "text": [
      "              precision    recall  f1-score   support\n",
      "\n",
      "           0       0.49      0.84      0.61       776\n",
      "           1       0.97      0.84      0.90      4224\n",
      "\n",
      "    accuracy                           0.84      5000\n",
      "   macro avg       0.73      0.84      0.76      5000\n",
      "weighted avg       0.89      0.84      0.85      5000\n",
      "\n"
     ]
    },
    {
     "data": {
      "text/plain": [
       "array([[ 648,  128],\n",
       "       [ 686, 3538]])"
      ]
     },
     "execution_count": 66,
     "metadata": {},
     "output_type": "execute_result"
    }
   ],
   "source": [
    "y_hat_bagged_test = bagged_tree.predict(X_test_numeric)\n",
    "\n",
    "print(classification_report(y_test, y_hat_bagged_test))\n",
    "\n",
    "cm_bagged_test = confusion_matrix(y_test, y_hat_bagged_test)\n",
    "cm_bagged_test"
   ]
  },
  {
   "cell_type": "code",
   "execution_count": null,
   "metadata": {},
   "outputs": [],
   "source": []
  },
  {
   "cell_type": "code",
   "execution_count": 67,
   "metadata": {},
   "outputs": [],
   "source": [
    "# Random Forest"
   ]
  },
  {
   "cell_type": "code",
   "execution_count": 68,
   "metadata": {},
   "outputs": [
    {
     "data": {
      "text/plain": [
       "0.8996759917812549"
      ]
     },
     "execution_count": 68,
     "metadata": {},
     "output_type": "execute_result"
    }
   ],
   "source": [
    "# Instantiate and fit a RandomForestClassifier\n",
    "forest = RandomForestClassifier(n_estimators=100, max_depth = 10)\n",
    "forest.fit(X_train_resampled, y_train_resampled)\n",
    "forest.score(X_train_resampled, y_train_resampled)"
   ]
  },
  {
   "cell_type": "code",
   "execution_count": 69,
   "metadata": {},
   "outputs": [
    {
     "data": {
      "text/plain": [
       "array([[11872,   782],\n",
       "       [ 1757, 10897]])"
      ]
     },
     "execution_count": 69,
     "metadata": {},
     "output_type": "execute_result"
    }
   ],
   "source": [
    "y_hat_forest = forest.predict(X_train_resampled)\n",
    "\n",
    "cm_forest = confusion_matrix(y_train_resampled, y_hat_forest)\n",
    "cm_forest"
   ]
  },
  {
   "cell_type": "code",
   "execution_count": 70,
   "metadata": {},
   "outputs": [
    {
     "name": "stdout",
     "output_type": "stream",
     "text": [
      "              precision    recall  f1-score   support\n",
      "\n",
      "           0       0.87      0.94      0.90     12654\n",
      "           1       0.93      0.86      0.90     12654\n",
      "\n",
      "    accuracy                           0.90     25308\n",
      "   macro avg       0.90      0.90      0.90     25308\n",
      "weighted avg       0.90      0.90      0.90     25308\n",
      "\n"
     ]
    }
   ],
   "source": [
    "print(classification_report(y_train_resampled, y_hat_forest))"
   ]
  },
  {
   "cell_type": "code",
   "execution_count": 71,
   "metadata": {},
   "outputs": [
    {
     "name": "stdout",
     "output_type": "stream",
     "text": [
      "              precision    recall  f1-score   support\n",
      "\n",
      "           0       0.50      0.84      0.62       776\n",
      "           1       0.97      0.84      0.90      4224\n",
      "\n",
      "    accuracy                           0.84      5000\n",
      "   macro avg       0.73      0.84      0.76      5000\n",
      "weighted avg       0.89      0.84      0.86      5000\n",
      "\n"
     ]
    },
    {
     "data": {
      "text/plain": [
       "array([[ 649,  127],\n",
       "       [ 662, 3562]])"
      ]
     },
     "execution_count": 71,
     "metadata": {},
     "output_type": "execute_result"
    }
   ],
   "source": [
    "y_hat_forest_test = forest.predict(X_test_numeric)\n",
    "\n",
    "print(classification_report(y_test, y_hat_forest_test))\n",
    "\n",
    "cm_forest_test = confusion_matrix(y_test, y_hat_forest_test)\n",
    "cm_forest_test"
   ]
  },
  {
   "cell_type": "code",
   "execution_count": null,
   "metadata": {},
   "outputs": [],
   "source": []
  },
  {
   "cell_type": "code",
   "execution_count": null,
   "metadata": {},
   "outputs": [],
   "source": []
  },
  {
   "cell_type": "code",
   "execution_count": null,
   "metadata": {},
   "outputs": [],
   "source": []
  },
  {
   "cell_type": "code",
   "execution_count": null,
   "metadata": {},
   "outputs": [],
   "source": []
  },
  {
   "cell_type": "code",
   "execution_count": 117,
   "metadata": {},
   "outputs": [],
   "source": [
    "# Grid Search / Random Search to find optimal parameters"
   ]
  },
  {
   "cell_type": "code",
   "execution_count": null,
   "metadata": {},
   "outputs": [],
   "source": []
  },
  {
   "cell_type": "code",
   "execution_count": null,
   "metadata": {},
   "outputs": [],
   "source": []
  },
  {
   "cell_type": "code",
   "execution_count": 118,
   "metadata": {},
   "outputs": [],
   "source": [
    "# SVM / Linear SVC"
   ]
  },
  {
   "cell_type": "code",
   "execution_count": 96,
   "metadata": {},
   "outputs": [],
   "source": [
    "# clf_svc = SVC(kernel='linear')\n",
    "# clf_svc.fit(X_train_resampled, y_train_resampled)\n",
    "\n",
    "# # Predict on the training set\n",
    "# y_hat_svc = clf_svc.predict(X_train_resampled)\n",
    "\n",
    "# print(classification_report(y_train_resampled, y_hat_svc))\n",
    "\n",
    "# cm_svc = confusion_matrix(y_train_resampled, y_hat_svc)\n",
    "# cm_svc\n"
   ]
  },
  {
   "cell_type": "code",
   "execution_count": null,
   "metadata": {},
   "outputs": [],
   "source": []
  },
  {
   "cell_type": "code",
   "execution_count": null,
   "metadata": {},
   "outputs": [],
   "source": []
  },
  {
   "cell_type": "code",
   "execution_count": null,
   "metadata": {},
   "outputs": [],
   "source": []
  },
  {
   "cell_type": "code",
   "execution_count": null,
   "metadata": {},
   "outputs": [],
   "source": []
  },
  {
   "cell_type": "code",
   "execution_count": null,
   "metadata": {},
   "outputs": [],
   "source": []
  },
  {
   "cell_type": "code",
   "execution_count": 121,
   "metadata": {},
   "outputs": [],
   "source": [
    "# Ensemble Classifiers"
   ]
  },
  {
   "cell_type": "code",
   "execution_count": 134,
   "metadata": {},
   "outputs": [
    {
     "data": {
      "text/plain": [
       "0.4098626435487503"
      ]
     },
     "execution_count": 134,
     "metadata": {},
     "output_type": "execute_result"
    }
   ],
   "source": [
    "# Adaboost\n",
    "# Instantiate an AdaBoostClassifier\n",
    "clf_ab = AdaBoostClassifier()\n",
    "\n",
    "clf_ab.fit(X_train_resampled, y_train_resampled)\n",
    "clf_ab.score(X_train_resampled, y_train_resampled)"
   ]
  },
  {
   "cell_type": "code",
   "execution_count": 135,
   "metadata": {},
   "outputs": [
    {
     "data": {
      "text/plain": [
       "array([[5028, 2195, 1166,  433,   60],\n",
       "       [3495, 2743, 1547,  877,  220],\n",
       "       [1725, 1957, 2154, 1951, 1095],\n",
       "       [ 541,  795, 1472, 2809, 3265],\n",
       "       [ 239,  534,  738, 1903, 5468]])"
      ]
     },
     "execution_count": 135,
     "metadata": {},
     "output_type": "execute_result"
    }
   ],
   "source": [
    "y_hat_ab_train = clf_ab.predict(X_train_resampled)\n",
    "\n",
    "cm_ab_train = confusion_matrix(y_train_resampled, y_hat_ab_train)\n",
    "cm_ab_train"
   ]
  },
  {
   "cell_type": "code",
   "execution_count": 136,
   "metadata": {},
   "outputs": [
    {
     "name": "stdout",
     "output_type": "stream",
     "text": [
      "              precision    recall  f1-score   support\n",
      "\n",
      "           1       0.46      0.57      0.51      8882\n",
      "           2       0.33      0.31      0.32      8882\n",
      "           3       0.30      0.24      0.27      8882\n",
      "           4       0.35      0.32      0.33      8882\n",
      "           5       0.54      0.62      0.58      8882\n",
      "\n",
      "    accuracy                           0.41     44410\n",
      "   macro avg       0.40      0.41      0.40     44410\n",
      "weighted avg       0.40      0.41      0.40     44410\n",
      "\n"
     ]
    }
   ],
   "source": [
    "print(classification_report(y_train_resampled, y_hat_ab_train))"
   ]
  },
  {
   "cell_type": "code",
   "execution_count": 137,
   "metadata": {},
   "outputs": [
    {
     "name": "stdout",
     "output_type": "stream",
     "text": [
      "              precision    recall  f1-score   support\n",
      "\n",
      "           1       0.43      0.52      0.47       434\n",
      "           2       0.16      0.31      0.21       261\n",
      "           3       0.16      0.23      0.19       435\n",
      "           4       0.24      0.29      0.26       881\n",
      "           5       0.81      0.62      0.70      2989\n",
      "\n",
      "    accuracy                           0.50      5000\n",
      "   macro avg       0.36      0.39      0.37      5000\n",
      "weighted avg       0.58      0.50      0.53      5000\n",
      "\n"
     ]
    },
    {
     "data": {
      "text/plain": [
       "array([[ 227,  116,   51,   35,    5],\n",
       "       [  84,   81,   59,   25,   12],\n",
       "       [  82,   81,  101,   98,   73],\n",
       "       [  54,   79,  146,  253,  349],\n",
       "       [  83,  149,  258,  654, 1845]])"
      ]
     },
     "execution_count": 137,
     "metadata": {},
     "output_type": "execute_result"
    }
   ],
   "source": [
    "y_hat_ab_test = clf_ab.predict(X_test_numeric)\n",
    "\n",
    "print(classification_report(y_test, y_hat_ab_test))\n",
    "\n",
    "cm_ab_test = confusion_matrix(y_test, y_hat_ab_test)\n",
    "cm_ab_test"
   ]
  },
  {
   "cell_type": "code",
   "execution_count": null,
   "metadata": {},
   "outputs": [],
   "source": []
  },
  {
   "cell_type": "code",
   "execution_count": null,
   "metadata": {},
   "outputs": [],
   "source": []
  },
  {
   "cell_type": "code",
   "execution_count": 138,
   "metadata": {},
   "outputs": [
    {
     "data": {
      "text/plain": [
       "0.4839450574195001"
      ]
     },
     "execution_count": 138,
     "metadata": {},
     "output_type": "execute_result"
    }
   ],
   "source": [
    "# Instantiate an GradientBoostingClassifier\n",
    "clf_gb = GradientBoostingClassifier()\n",
    "\n",
    "clf_gb.fit(X_train_resampled, y_train_resampled)\n",
    "clf_gb.score(X_train_resampled, y_train_resampled)"
   ]
  },
  {
   "cell_type": "code",
   "execution_count": 139,
   "metadata": {},
   "outputs": [
    {
     "data": {
      "text/plain": [
       "array([[5145, 2113, 1120,  399,  105],\n",
       "       [2073, 4454, 1361,  753,  241],\n",
       "       [1237, 1983, 3049, 1713,  900],\n",
       "       [ 410,  957, 1414, 3197, 2904],\n",
       "       [ 228,  616,  761, 1630, 5647]])"
      ]
     },
     "execution_count": 139,
     "metadata": {},
     "output_type": "execute_result"
    }
   ],
   "source": [
    "y_hat_gb_train = clf_gb.predict(X_train_resampled)\n",
    "\n",
    "cm_gb_train = confusion_matrix(y_train_resampled, y_hat_gb_train)\n",
    "cm_gb_train"
   ]
  },
  {
   "cell_type": "code",
   "execution_count": 140,
   "metadata": {},
   "outputs": [
    {
     "name": "stdout",
     "output_type": "stream",
     "text": [
      "              precision    recall  f1-score   support\n",
      "\n",
      "           1       0.57      0.58      0.57      8882\n",
      "           2       0.44      0.50      0.47      8882\n",
      "           3       0.40      0.34      0.37      8882\n",
      "           4       0.42      0.36      0.39      8882\n",
      "           5       0.58      0.64      0.60      8882\n",
      "\n",
      "    accuracy                           0.48     44410\n",
      "   macro avg       0.48      0.48      0.48     44410\n",
      "weighted avg       0.48      0.48      0.48     44410\n",
      "\n"
     ]
    }
   ],
   "source": [
    "print(classification_report(y_train_resampled, y_hat_gb_train))"
   ]
  },
  {
   "cell_type": "code",
   "execution_count": 141,
   "metadata": {},
   "outputs": [
    {
     "name": "stdout",
     "output_type": "stream",
     "text": [
      "              precision    recall  f1-score   support\n",
      "\n",
      "           1       0.45      0.51      0.48       434\n",
      "           2       0.16      0.34      0.22       261\n",
      "           3       0.17      0.25      0.20       435\n",
      "           4       0.25      0.27      0.26       881\n",
      "           5       0.80      0.62      0.70      2989\n",
      "\n",
      "    accuracy                           0.50      5000\n",
      "   macro avg       0.36      0.40      0.37      5000\n",
      "weighted avg       0.58      0.50      0.54      5000\n",
      "\n"
     ]
    },
    {
     "data": {
      "text/plain": [
       "array([[ 223,  118,   54,   29,   10],\n",
       "       [  76,   89,   62,   23,   11],\n",
       "       [  74,   94,  108,   75,   84],\n",
       "       [  41,   84,  166,  237,  353],\n",
       "       [  84,  181,  257,  601, 1866]])"
      ]
     },
     "execution_count": 141,
     "metadata": {},
     "output_type": "execute_result"
    }
   ],
   "source": [
    "y_hat_gb_test = clf_gb.predict(X_test_numeric)\n",
    "\n",
    "print(classification_report(y_test, y_hat_gb_test))\n",
    "\n",
    "cm_gb_test = confusion_matrix(y_test, y_hat_gb_test)\n",
    "cm_gb_test"
   ]
  },
  {
   "cell_type": "code",
   "execution_count": null,
   "metadata": {},
   "outputs": [],
   "source": []
  },
  {
   "cell_type": "code",
   "execution_count": null,
   "metadata": {},
   "outputs": [],
   "source": []
  },
  {
   "cell_type": "code",
   "execution_count": null,
   "metadata": {},
   "outputs": [],
   "source": []
  },
  {
   "cell_type": "code",
   "execution_count": null,
   "metadata": {},
   "outputs": [],
   "source": []
  },
  {
   "cell_type": "code",
   "execution_count": null,
   "metadata": {},
   "outputs": [],
   "source": []
  },
  {
   "cell_type": "code",
   "execution_count": null,
   "metadata": {},
   "outputs": [],
   "source": []
  },
  {
   "cell_type": "code",
   "execution_count": null,
   "metadata": {},
   "outputs": [],
   "source": []
  },
  {
   "cell_type": "code",
   "execution_count": null,
   "metadata": {},
   "outputs": [],
   "source": []
  },
  {
   "cell_type": "code",
   "execution_count": null,
   "metadata": {},
   "outputs": [],
   "source": []
  },
  {
   "cell_type": "code",
   "execution_count": null,
   "metadata": {},
   "outputs": [],
   "source": []
  },
  {
   "cell_type": "code",
   "execution_count": null,
   "metadata": {},
   "outputs": [],
   "source": []
  },
  {
   "cell_type": "code",
   "execution_count": 52,
   "metadata": {},
   "outputs": [
    {
     "name": "stdout",
     "output_type": "stream",
     "text": [
      "2 59486.25585177998\n",
      "3 77674.18325588538\n",
      "4 96384.21852818847\n",
      "5 114546.82979016086\n",
      "6 127600.80444243301\n",
      "7 141010.59498579273\n",
      "8 150682.09351094894\n",
      "9 161561.0248727341\n",
      "10 166964.61084244298\n",
      "11 172383.19385670617\n",
      "12 179948.81991115178\n",
      "13 182327.44955418463\n",
      "14 185306.0671946048\n",
      "15 187196.97618489747\n",
      "16 187075.00888801456\n",
      "17 186023.28848008186\n",
      "18 185515.0192828231\n",
      "19 184560.6592451715\n",
      "20 182653.62410723022\n",
      "21 177354.84392849842\n",
      "22 175636.95905210843\n",
      "23 172503.3659090606\n",
      "24 170951.62031425143\n",
      "25 169277.9078372501\n",
      "26 167893.9965466513\n",
      "27 166426.02562539277\n",
      "28 163768.2050005787\n",
      "29 164446.90279474566\n",
      "30 163345.56115803414\n",
      "31 163941.37842270927\n",
      "32 161616.26932644393\n",
      "33 162014.7044419554\n",
      "34 162781.62265305087\n",
      "35 163483.25020053884\n",
      "36 164121.61442848394\n",
      "37 165910.86684445763\n",
      "38 166263.34904917312\n",
      "39 166967.81410185085\n",
      "40 169879.35195707544\n",
      "41 170036.8446218407\n",
      "42 172317.16871043303\n",
      "43 173225.85042507053\n",
      "44 176405.45462941405\n",
      "45 175951.96694708266\n",
      "46 179420.62087730106\n",
      "47 181230.39342520965\n",
      "48 181994.05267893305\n",
      "49 180807.4371004135\n"
     ]
    }
   ],
   "source": [
    "# Clustering\n",
    "\n",
    "from sklearn.cluster import KMeans\n",
    "from sklearn.metrics import calinski_harabasz_score\n",
    "\n",
    "num_clusters = np.arange(2, 20)\n",
    "\n",
    "# Set number of clusters at initialization time\n",
    "for n in num_clusters:\n",
    "    k_means = KMeans(n_clusters=n) \n",
    "\n",
    "    # Run the clustering algorithm\n",
    "    k_means.fit(df_numer) \n",
    "\n",
    "    # Generate cluster index values for each row\n",
    "    cluster_assignments = k_means.predict(df_numer)\n",
    "    \n",
    "    print(n, calinski_harabasz_score(df_numer, cluster_assignments))"
   ]
  },
  {
   "cell_type": "code",
   "execution_count": 53,
   "metadata": {},
   "outputs": [
    {
     "data": {
      "text/plain": [
       "array([20, 48, 43, ..., 40, 34, 23], dtype=int32)"
      ]
     },
     "execution_count": 53,
     "metadata": {},
     "output_type": "execute_result"
    }
   ],
   "source": [
    "cluster_assignments"
   ]
  },
  {
   "cell_type": "code",
   "execution_count": 54,
   "metadata": {},
   "outputs": [
    {
     "data": {
      "text/plain": [
       "array([20, 48, 43, ..., 40, 34, 23], dtype=int32)"
      ]
     },
     "execution_count": 54,
     "metadata": {},
     "output_type": "execute_result"
    }
   ],
   "source": [
    "k_means.labels_"
   ]
  },
  {
   "cell_type": "code",
   "execution_count": 55,
   "metadata": {},
   "outputs": [
    {
     "name": "stdout",
     "output_type": "stream",
     "text": [
      "180807.4371004135\n"
     ]
    }
   ],
   "source": [
    "# This code builds on the previous example\n",
    "\n",
    "# Note that we could also pass in k_means.labels_ instead of cluster_assignments\n",
    "print(calinski_harabasz_score(df_numer, cluster_assignments))"
   ]
  },
  {
   "cell_type": "code",
   "execution_count": null,
   "metadata": {},
   "outputs": [],
   "source": []
  },
  {
   "cell_type": "code",
   "execution_count": null,
   "metadata": {},
   "outputs": [],
   "source": []
  }
 ],
 "metadata": {
  "kernelspec": {
   "display_name": "Python 3",
   "language": "python",
   "name": "python3"
  },
  "language_info": {
   "codemirror_mode": {
    "name": "ipython",
    "version": 3
   },
   "file_extension": ".py",
   "mimetype": "text/x-python",
   "name": "python",
   "nbconvert_exporter": "python",
   "pygments_lexer": "ipython3",
   "version": "3.7.4"
  }
 },
 "nbformat": 4,
 "nbformat_minor": 4
}
